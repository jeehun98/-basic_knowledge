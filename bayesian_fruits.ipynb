{
  "nbformat": 4,
  "nbformat_minor": 0,
  "metadata": {
    "colab": {
      "provenance": [],
      "collapsed_sections": []
    },
    "kernelspec": {
      "name": "python3",
      "display_name": "Python 3"
    },
    "language_info": {
      "name": "python"
    }
  },
  "cells": [
    {
      "cell_type": "code",
      "execution_count": 235,
      "metadata": {
        "id": "jcuRjJVks6-S"
      },
      "outputs": [],
      "source": [
        "import numpy as np"
      ]
    },
    {
      "cell_type": "markdown",
      "source": [
        "5, 5 크기의 정수 데이터 생성"
      ],
      "metadata": {
        "id": "RyZHpz6llur5"
      }
    },
    {
      "cell_type": "code",
      "source": [
        "np.random.seed(0)\n",
        "data = np.random.randint(10, size = (5,5))\n",
        "data"
      ],
      "metadata": {
        "colab": {
          "base_uri": "https://localhost:8080/"
        },
        "id": "dJ7jKb3fiM2J",
        "outputId": "a0d313dc-2dab-4285-a56a-f3db434b6db7"
      },
      "execution_count": 236,
      "outputs": [
        {
          "output_type": "execute_result",
          "data": {
            "text/plain": [
              "array([[5, 0, 3, 3, 7],\n",
              "       [9, 3, 5, 2, 4],\n",
              "       [7, 6, 8, 8, 1],\n",
              "       [6, 7, 7, 8, 1],\n",
              "       [5, 9, 8, 9, 4]])"
            ]
          },
          "metadata": {},
          "execution_count": 236
        }
      ]
    },
    {
      "cell_type": "markdown",
      "source": [
        "각 행은 각각의 확률 분포의 등장 횟수,\n",
        "\n",
        "표본의 추출 횟수는 모든 행들의 합, N"
      ],
      "metadata": {
        "id": "Yg840Cxi2BqH"
      }
    },
    {
      "cell_type": "code",
      "source": [
        "N = np.sum(data)\n",
        "N"
      ],
      "metadata": {
        "colab": {
          "base_uri": "https://localhost:8080/"
        },
        "id": "MRUr1dYumzOY",
        "outputId": "6accb76a-b75a-42fe-8a1d-1f3c366c0301"
      },
      "execution_count": 237,
      "outputs": [
        {
          "output_type": "execute_result",
          "data": {
            "text/plain": [
              "135"
            ]
          },
          "metadata": {},
          "execution_count": 237
        }
      ]
    },
    {
      "cell_type": "markdown",
      "source": [
        "각각의 취할 수 있는 값들에 대해서 X = xi, Y = yj 인 시도의 횟수는 data 행렬의 data[i,j] 요소"
      ],
      "metadata": {
        "id": "wc39Un9y2410"
      }
    },
    {
      "cell_type": "code",
      "source": [
        "for i in range(data.shape[0]):\n",
        "  for j in range(data.shape[1]):\n",
        "    data[i, j]"
      ],
      "metadata": {
        "id": "my5CoK4z2UF1"
      },
      "execution_count": 238,
      "outputs": []
    },
    {
      "cell_type": "markdown",
      "source": [
        "X = xi 인 시도를 x_i, Y = yj 인 시도의 숫자를 y_i로 표현한다."
      ],
      "metadata": {
        "id": "JoXuMIm13UVD"
      }
    },
    {
      "cell_type": "code",
      "source": [
        "sum_x = 0\n",
        "sum_y = 0\n",
        "\n",
        "x_i = []\n",
        "y_i = []\n",
        "\n",
        "for i in range(data.shape[0]):\n",
        "  sum_x = 0\n",
        "  sum_y = 0\n",
        "  for j in range(data.shape[1]):\n",
        "    sum_x += data[i][j]\n",
        "    sum_y += data[j][i]\n",
        "  x_i.append(sum_x)\n",
        "  y_i.append(sum_y)"
      ],
      "metadata": {
        "id": "J8mqMKd921so"
      },
      "execution_count": 239,
      "outputs": []
    },
    {
      "cell_type": "code",
      "source": [
        "x_i"
      ],
      "metadata": {
        "colab": {
          "base_uri": "https://localhost:8080/"
        },
        "id": "0QynmSLB4OTz",
        "outputId": "01aed263-9639-482d-9cc2-99203578ff51"
      },
      "execution_count": 240,
      "outputs": [
        {
          "output_type": "execute_result",
          "data": {
            "text/plain": [
              "[18, 23, 30, 29, 35]"
            ]
          },
          "metadata": {},
          "execution_count": 240
        }
      ]
    },
    {
      "cell_type": "code",
      "source": [
        "y_i"
      ],
      "metadata": {
        "colab": {
          "base_uri": "https://localhost:8080/"
        },
        "id": "CHoHdvor4BN_",
        "outputId": "6d1b8675-e874-4bac-d9c2-c551cb1a62f5"
      },
      "execution_count": 241,
      "outputs": [
        {
          "output_type": "execute_result",
          "data": {
            "text/plain": [
              "[32, 25, 31, 30, 17]"
            ]
          },
          "metadata": {},
          "execution_count": 241
        }
      ]
    },
    {
      "cell_type": "markdown",
      "source": [
        "X가 xi, Y가 yj 일 확률을 p(X=xi, Y=yj) 로 적고 이를 X=xi, Y=yj 일 결합 확률이라 한다.\n",
        "\n",
        "이는 i, j 칸에 있는 포인트의 숫자를 전체 포인트들의 숫자로 나눠서 구할 수 있다."
      ],
      "metadata": {
        "id": "tc7HveTX4lIX"
      }
    },
    {
      "cell_type": "code",
      "source": [
        "def joint_probability(data, i, j):\n",
        "  \"\"\"\n",
        "  X=xi, Y=yj 일 결합 확률\n",
        "  Args:\n",
        "    data : 행렬 형태의 전체 데이터\n",
        "    i : 행의 개수\n",
        "    j : 열의 개수\n",
        "  Return\n",
        "    X=xi, Y=yj 일 결합 확률값\n",
        "  \"\"\"\n",
        "  N = np.sum(data)\n",
        "  return data[i,j]/N"
      ],
      "metadata": {
        "id": "qxFyDWZb4Quy"
      },
      "execution_count": 242,
      "outputs": []
    },
    {
      "cell_type": "code",
      "source": [
        "joint_probability(data, 1,1)"
      ],
      "metadata": {
        "colab": {
          "base_uri": "https://localhost:8080/"
        },
        "id": "0zKpRwjY5ZX4",
        "outputId": "55e135d3-5dec-46a2-f068-1073f718e0a8"
      },
      "execution_count": 243,
      "outputs": [
        {
          "output_type": "execute_result",
          "data": {
            "text/plain": [
              "0.022222222222222223"
            ]
          },
          "metadata": {},
          "execution_count": 243
        }
      ]
    },
    {
      "cell_type": "markdown",
      "source": [
        "X가 xi 값을 가질 확률도 구할 수 있다. 해당 행에 있는 포인트들의 숫자를 전체 포인트들의 숫자로 나눠서 구한다."
      ],
      "metadata": {
        "id": "bpyPHHhj6Ni5"
      }
    },
    {
      "cell_type": "code",
      "source": [
        "def joint_probability_row(data, n):\n",
        "  \"\"\"\n",
        "  n 행의 값을 가질 확률\n",
        "  Args:\n",
        "    data : 행렬 형태의 전체 데이터\n",
        "    n : 행 번호\n",
        "  Return\n",
        "    n 행의 값을 가질 확률\n",
        "  \"\"\"\n",
        "  sum = 0\n",
        "  N = np.sum(data)\n",
        "\n",
        "  for i in range(data.shape[0]):\n",
        "    sum += data[n,i]\n",
        "  return sum/N"
      ],
      "metadata": {
        "id": "VcwG8i9h5ipY"
      },
      "execution_count": 244,
      "outputs": []
    },
    {
      "cell_type": "code",
      "source": [
        "def joint_probability_col(data, n):\n",
        "  \"\"\"\n",
        "  n 열의 값을 가질 확률\n",
        "  Args:\n",
        "    data : 행렬 형태의 전체 데이터\n",
        "    n : 열 번호\n",
        "  Return\n",
        "    n 열의 값을 가질 확률\n",
        "  \"\"\"\n",
        "  sum = 0\n",
        "  N = np.sum(data)\n",
        "\n",
        "  for i in range(data.shape[0]):\n",
        "    sum += data[i,n]\n",
        "  return sum/N"
      ],
      "metadata": {
        "id": "rhd1GVscDLy7"
      },
      "execution_count": 245,
      "outputs": []
    },
    {
      "cell_type": "code",
      "source": [
        "joint_probability_row(data, 1)"
      ],
      "metadata": {
        "colab": {
          "base_uri": "https://localhost:8080/"
        },
        "id": "U7FDBIb95dBf",
        "outputId": "78e73555-9274-4655-b2f7-e9afb1666537"
      },
      "execution_count": 246,
      "outputs": [
        {
          "output_type": "execute_result",
          "data": {
            "text/plain": [
              "0.17037037037037037"
            ]
          },
          "metadata": {},
          "execution_count": 246
        }
      ]
    },
    {
      "cell_type": "markdown",
      "source": [
        "i행에 있는 사례의 숫자는 해당 행의 각 칸에 있는 사례의 숫자 합이다. 이것이 확률의 합의 법칙이다."
      ],
      "metadata": {
        "id": "iOP0AL4E6cE2"
      }
    },
    {
      "cell_type": "code",
      "source": [
        "sum = 0\n",
        "for i in range(data.shape[1]):\n",
        "  sum += joint_probability(data, 1, i)\n",
        "\n",
        "sum"
      ],
      "metadata": {
        "colab": {
          "base_uri": "https://localhost:8080/"
        },
        "id": "ub4xeSOF6hgC",
        "outputId": "ae9b2a01-9ab7-4790-e7da-dfd51934ec13"
      },
      "execution_count": 247,
      "outputs": [
        {
          "output_type": "execute_result",
          "data": {
            "text/plain": [
              "0.1703703703703704"
            ]
          },
          "metadata": {},
          "execution_count": 247
        }
      ]
    },
    {
      "cell_type": "markdown",
      "source": [
        "동일한 결과를 확인할 수 있다."
      ],
      "metadata": {
        "id": "zsYF8bpZ7EJd"
      }
    },
    {
      "cell_type": "markdown",
      "source": [
        "조건부 확률 X = xi 인 사례들 중 Y = yi 인 사례들의 비율을 생각해 볼 수 있다. \n",
        "\n",
        "이를 조건부 확률이라고 한다.\n",
        "\n",
        "이 확률은 i행에 있는 전체 포인트 수와 i, j 칸에 있는 포인트 수의 비율을 통해서 계산할 수 있다."
      ],
      "metadata": {
        "id": "sXS0ecWb7GAw"
      }
    },
    {
      "cell_type": "code",
      "source": [
        "def conditional_probability(data, i, j):\n",
        "  \"\"\"\n",
        "  조건부 확률의 계산\n",
        "  Args:\n",
        "    data : \n",
        "    i : 행 \n",
        "    j : 열\n",
        "  Return :\n",
        "    조건부 확률의 계산값\n",
        "  \"\"\"\n",
        "  return joint_probability(data, i, j) / joint_probability_row(data, i)"
      ],
      "metadata": {
        "id": "XdDgoxMs6oow"
      },
      "execution_count": 248,
      "outputs": []
    },
    {
      "cell_type": "code",
      "source": [
        "conditional_probability(data, 1, 2)"
      ],
      "metadata": {
        "colab": {
          "base_uri": "https://localhost:8080/"
        },
        "id": "EF8urmGj704r",
        "outputId": "1303e13a-16af-4a1d-c01a-3f27a581c98a"
      },
      "execution_count": 249,
      "outputs": [
        {
          "output_type": "execute_result",
          "data": {
            "text/plain": [
              "0.21739130434782608"
            ]
          },
          "metadata": {},
          "execution_count": 249
        }
      ]
    },
    {
      "cell_type": "markdown",
      "source": [
        "이를 통해 곱의 법칙을 도출해 낼 수 있다. "
      ],
      "metadata": {
        "id": "CEz1go2s8x2H"
      }
    },
    {
      "cell_type": "code",
      "source": [
        "joint_probability(data, 1, 2)"
      ],
      "metadata": {
        "colab": {
          "base_uri": "https://localhost:8080/"
        },
        "id": "kBjBdgC7D_DS",
        "outputId": "96136f0d-55f5-46f6-a4c5-963498aa0e80"
      },
      "execution_count": 250,
      "outputs": [
        {
          "output_type": "execute_result",
          "data": {
            "text/plain": [
              "0.037037037037037035"
            ]
          },
          "metadata": {},
          "execution_count": 250
        }
      ]
    },
    {
      "cell_type": "code",
      "source": [
        "conditional_probability(data, 2, 1) * joint_probability_row(data, 1)"
      ],
      "metadata": {
        "colab": {
          "base_uri": "https://localhost:8080/"
        },
        "id": "JNtrXiPA73r7",
        "outputId": "33261ffe-d946-4587-aedc-ee5ef6eb37e4"
      },
      "execution_count": 251,
      "outputs": [
        {
          "output_type": "execute_result",
          "data": {
            "text/plain": [
              "0.034074074074074076"
            ]
          },
          "metadata": {},
          "execution_count": 251
        }
      ]
    },
    {
      "cell_type": "markdown",
      "source": [
        "곱의 법칙과 대칭성으로부터 조건부 확률 간의 관계를 도출해낼 수 있다."
      ],
      "metadata": {
        "id": "1haDbyS89hgb"
      }
    },
    {
      "cell_type": "code",
      "source": [
        "conditional_probability(data, 1, 2)"
      ],
      "metadata": {
        "colab": {
          "base_uri": "https://localhost:8080/"
        },
        "id": "1etC0amL88j7",
        "outputId": "c0aa1295-d336-4940-c3ab-101e22d479cf"
      },
      "execution_count": 252,
      "outputs": [
        {
          "output_type": "execute_result",
          "data": {
            "text/plain": [
              "0.21739130434782608"
            ]
          },
          "metadata": {},
          "execution_count": 252
        }
      ]
    },
    {
      "cell_type": "code",
      "source": [
        "conditional_probability(data, 2, 1)*joint_probability_col(data, 1)/joint_probability_row(data, 2)"
      ],
      "metadata": {
        "colab": {
          "base_uri": "https://localhost:8080/"
        },
        "id": "0AvaeZKi9lzj",
        "outputId": "e9bea0fc-b59b-458c-e8bf-3ccf6f2bb8c6"
      },
      "execution_count": 253,
      "outputs": [
        {
          "output_type": "execute_result",
          "data": {
            "text/plain": [
              "0.16666666666666666"
            ]
          },
          "metadata": {},
          "execution_count": 253
        }
      ]
    },
    {
      "cell_type": "markdown",
      "source": [
        "과일 문제"
      ],
      "metadata": {
        "id": "Ga8Gj3YDfvae"
      }
    },
    {
      "cell_type": "markdown",
      "source": [
        "데이터의 행렬 표현"
      ],
      "metadata": {
        "id": "CXkrKUDg1rU8"
      }
    },
    {
      "cell_type": "code",
      "source": [
        "box = np.array([[0.4],[0.6]]) #빨, 파\n",
        "box"
      ],
      "metadata": {
        "colab": {
          "base_uri": "https://localhost:8080/"
        },
        "id": "9ojj52gnzGdT",
        "outputId": "005b09b5-8f45-44d2-dcf4-707d7e1c5f02"
      },
      "execution_count": 263,
      "outputs": [
        {
          "output_type": "execute_result",
          "data": {
            "text/plain": [
              "array([[0.4],\n",
              "       [0.6]])"
            ]
          },
          "metadata": {},
          "execution_count": 263
        }
      ]
    },
    {
      "cell_type": "code",
      "source": [
        "fruits = np.array([[2/8,6/8],[3/4,1/4]]) # 사과, 오렌지\n",
        "fruits"
      ],
      "metadata": {
        "colab": {
          "base_uri": "https://localhost:8080/"
        },
        "id": "Ip3iBp7z1wzH",
        "outputId": "23550122-a364-4463-8d91-748e7c1733ff"
      },
      "execution_count": 269,
      "outputs": [
        {
          "output_type": "execute_result",
          "data": {
            "text/plain": [
              "array([[0.25, 0.75],\n",
              "       [0.75, 0.25]])"
            ]
          },
          "metadata": {},
          "execution_count": 269
        }
      ]
    },
    {
      "cell_type": "markdown",
      "source": [
        "원소 곱의 시행"
      ],
      "metadata": {
        "id": "nvdofrSW3rSb"
      }
    },
    {
      "cell_type": "markdown",
      "source": [
        "각 열의 합(과일) 은 해당 과일을 고를 전체 확률을 나타낸다."
      ],
      "metadata": {
        "id": "fQsXa4q78xrS"
      }
    },
    {
      "cell_type": "code",
      "source": [
        "result = fruits*box\n",
        "result"
      ],
      "metadata": {
        "colab": {
          "base_uri": "https://localhost:8080/"
        },
        "id": "uJ4a4eUh2H-P",
        "outputId": "9a63252f-0bd6-4075-8e77-c8188adcc755"
      },
      "execution_count": 272,
      "outputs": [
        {
          "output_type": "execute_result",
          "data": {
            "text/plain": [
              "array([[0.1 , 0.3 ],\n",
              "       [0.45, 0.15]])"
            ]
          },
          "metadata": {},
          "execution_count": 272
        }
      ]
    },
    {
      "cell_type": "markdown",
      "source": [
        "과일에 대한 상자의 확률은 위 결과에 열 값들의 대한 비율을 통해 얻을 수 있다."
      ],
      "metadata": {
        "id": "9fZVUVUk89d3"
      }
    },
    {
      "cell_type": "code",
      "source": [
        "result2 = result\n",
        "for i in range(result.shape[1]):\n",
        "  sum = 0\n",
        "  for j in range(result.shape[0]):\n",
        "    sum += result[j][i]\n",
        "  for j in range(result.shape[0]):\n",
        "    result2[j][i] = result[j][i] / sum"
      ],
      "metadata": {
        "id": "ff9ffy4X2K1S"
      },
      "execution_count": 281,
      "outputs": []
    },
    {
      "cell_type": "code",
      "source": [
        "result2"
      ],
      "metadata": {
        "colab": {
          "base_uri": "https://localhost:8080/"
        },
        "id": "uWtXv2UZ4ie-",
        "outputId": "3f7b4c1d-1bf7-4029-d1ad-cad169e6e6b4"
      },
      "execution_count": 282,
      "outputs": [
        {
          "output_type": "execute_result",
          "data": {
            "text/plain": [
              "array([[0.10891089, 0.65810429],\n",
              "       [0.89108911, 0.34189571]])"
            ]
          },
          "metadata": {},
          "execution_count": 282
        }
      ]
    },
    {
      "cell_type": "code",
      "source": [],
      "metadata": {
        "id": "opz8yAfr922Y"
      },
      "execution_count": null,
      "outputs": []
    }
  ]
}