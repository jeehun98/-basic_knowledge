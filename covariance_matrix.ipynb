{
  "nbformat": 4,
  "nbformat_minor": 0,
  "metadata": {
    "colab": {
      "provenance": [],
      "collapsed_sections": []
    },
    "kernelspec": {
      "name": "python3",
      "display_name": "Python 3"
    },
    "language_info": {
      "name": "python"
    }
  },
  "cells": [
    {
      "cell_type": "code",
      "execution_count": 134,
      "metadata": {
        "id": "VSrbD3_HyyWP"
      },
      "outputs": [],
      "source": [
        "from sklearn import datasets\n",
        "\n",
        "raw_wine = datasets.load_wine()"
      ]
    },
    {
      "cell_type": "code",
      "source": [
        "X = raw_wine.data\n",
        "y = raw_wine.target"
      ],
      "metadata": {
        "id": "76thRwkD4Km_"
      },
      "execution_count": 135,
      "outputs": []
    },
    {
      "cell_type": "markdown",
      "source": [
        "데이터 분할, 표준화"
      ],
      "metadata": {
        "id": "wrxu7UXS5M9q"
      }
    },
    {
      "cell_type": "code",
      "source": [
        "from sklearn.model_selection import train_test_split\n",
        "\n",
        "X_tn, X_te, y_tn, y_te = train_test_split(X, y, random_state=1)"
      ],
      "metadata": {
        "id": "iZ3QwQzv4xRs"
      },
      "execution_count": 136,
      "outputs": []
    },
    {
      "cell_type": "code",
      "source": [
        "from sklearn.preprocessing import StandardScaler\n",
        "\n",
        "std_scale = StandardScaler()\n",
        "std_scale.fit(X_tn)\n",
        "X_tn_std = std_scale.transform(X_tn)\n",
        "X_te_std = std_scale.transform(X_te)"
      ],
      "metadata": {
        "id": "O69_nX2u4hFI"
      },
      "execution_count": 137,
      "outputs": []
    },
    {
      "cell_type": "code",
      "source": [
        "from sklearn.decomposition import PCA\n",
        "\n",
        "pca = PCA(n_components=2)\n",
        "pca.fit(X_tn_std)\n",
        "X_tn_pca = pca.transform(X_tn_std)\n",
        "X_te_pca = pca.transform(X_te_std)"
      ],
      "metadata": {
        "id": "72B-NdZq4-Ze"
      },
      "execution_count": 138,
      "outputs": []
    },
    {
      "cell_type": "code",
      "source": [
        "pca.get_covariance().shape"
      ],
      "metadata": {
        "colab": {
          "base_uri": "https://localhost:8080/"
        },
        "id": "SzL1th2v5fCN",
        "outputId": "c78c86a0-6307-401a-85d8-4ce6250acc97"
      },
      "execution_count": 139,
      "outputs": [
        {
          "output_type": "execute_result",
          "data": {
            "text/plain": [
              "(13, 13)"
            ]
          },
          "metadata": {},
          "execution_count": 139
        }
      ]
    },
    {
      "cell_type": "code",
      "source": [
        "pca.singular_values_ # 고윳값"
      ],
      "metadata": {
        "colab": {
          "base_uri": "https://localhost:8080/"
        },
        "id": "x0UrHH1y5kZS",
        "outputId": "b71f974f-9d50-4ed6-912f-55c8ced1d919"
      },
      "execution_count": 140,
      "outputs": [
        {
          "output_type": "execute_result",
          "data": {
            "text/plain": [
              "array([24.81797394, 18.31760391])"
            ]
          },
          "metadata": {},
          "execution_count": 140
        }
      ]
    },
    {
      "cell_type": "code",
      "source": [
        "pca.components_ # 고유 벡터"
      ],
      "metadata": {
        "colab": {
          "base_uri": "https://localhost:8080/"
        },
        "id": "ThotTgzA57N_",
        "outputId": "82117e33-028f-4f10-b5fe-b1a8619c4939"
      },
      "execution_count": 141,
      "outputs": [
        {
          "output_type": "execute_result",
          "data": {
            "text/plain": [
              "array([[-0.10418545,  0.25670612,  0.01387486,  0.23907587, -0.10470229,\n",
              "        -0.4007005 , -0.42902734,  0.29111343, -0.30307602,  0.12127653,\n",
              "        -0.31609521, -0.38729685, -0.26283936],\n",
              "       [-0.49018724, -0.1691503 , -0.30746987,  0.04459018, -0.34837302,\n",
              "        -0.07966456, -0.0133774 , -0.02498633, -0.0415164 , -0.50798383,\n",
              "         0.26045807,  0.14018631, -0.39850143]])"
            ]
          },
          "metadata": {},
          "execution_count": 141
        }
      ]
    },
    {
      "cell_type": "code",
      "source": [
        "pca.get_covariance() # 공분산 행렬"
      ],
      "metadata": {
        "colab": {
          "base_uri": "https://localhost:8080/"
        },
        "id": "X2-a70175-Qj",
        "outputId": "eba4f1f8-caac-4aeb-85c6-5ce2c0c3a003"
      },
      "execution_count": 142,
      "outputs": [
        {
          "output_type": "execute_result",
          "data": {
            "text/plain": [
              "array([[ 1.06244198,  0.05588975,  0.29643474, -0.14674317,  0.38769443,\n",
              "         0.25079577,  0.19779094, -0.10070718,  0.17126277,  0.44742545,\n",
              "        -0.12013532,  0.02879752,  0.50505224],\n",
              "       [ 0.05588975,  0.86510155,  0.11906446,  0.23837434,  0.00721146,\n",
              "        -0.39785163, -0.4503856 ,  0.31716671, -0.30728109,  0.30100181,\n",
              "        -0.42357315, -0.45825394, -0.14345856],\n",
              "       [ 0.29643474,  0.11906446,  0.72597065, -0.01380654,  0.20891722,\n",
              "         0.02618151, -0.01633577,  0.03209892,  0.00824227,  0.32033554,\n",
              "        -0.17879769, -0.10868048,  0.2307792 ],\n",
              "       [-0.14674317,  0.23837434, -0.01380654,  0.77557799, -0.13456582,\n",
              "        -0.4028355 , -0.42487887,  0.28525095, -0.30301432,  0.07431753,\n",
              "        -0.28885443, -0.36992936, -0.2952175 ],\n",
              "       [ 0.38769443,  0.00721146,  0.20891722, -0.13456582,  0.82428285,\n",
              "         0.22898335,  0.19490044, -0.10843832,  0.16009666,  0.30262412,\n",
              "        -0.0453494 ,  0.06951315,  0.39222323],\n",
              "       [ 0.25079577, -0.39785163,  0.02618151, -0.4028355 ,  0.22898335,\n",
              "         1.21144743,  0.7122459 , -0.47784458,  0.50827447, -0.11953458,\n",
              "         0.48155509,  0.61862946,  0.49873766],\n",
              "       [ 0.19779094, -0.4503856 , -0.01633577, -0.42487887,  0.19490044,\n",
              "         0.7122459 ,  1.29615797, -0.51523054,  0.53821522, -0.20128733,\n",
              "         0.55318211,  0.68259141,  0.476491  ],\n",
              "       [-0.10070718,  0.31716671,  0.03209892,  0.28525095, -0.10843832,\n",
              "        -0.47784458, -0.51523054,  0.88680515, -0.36236459,  0.17130085,\n",
              "        -0.39315908, -0.47274872, -0.29608349],\n",
              "       [ 0.17126277, -0.30728109,  0.00824227, -0.30301432,  0.16009666,\n",
              "         0.50827447,  0.53821522, -0.36236459,  0.91837171, -0.10951144,\n",
              "         0.37402456,  0.4731808 ,  0.36224473],\n",
              "       [ 0.44742545,  0.30100181,  0.32033554,  0.07431753,  0.30262412,\n",
              "        -0.11953458, -0.20128733,  0.17130085, -0.10951144,  1.11400146,\n",
              "        -0.42381722, -0.3369003 ,  0.27449782],\n",
              "       [-0.12013532, -0.42357315, -0.17879769, -0.28885443, -0.0453494 ,\n",
              "         0.48155509,  0.55318211, -0.39315908,  0.37402456, -0.42381722,\n",
              "         1.0843246 ,  0.57894667,  0.13493049],\n",
              "       [ 0.02879752, -0.45825394, -0.10868048, -0.36992936,  0.06951315,\n",
              "         0.61862946,  0.68259141, -0.47274872,  0.4731808 , -0.3369003 ,\n",
              "         0.57894667,  1.19451641,  0.30839956],\n",
              "       [ 0.50505224, -0.14345856,  0.2307792 , -0.2952175 ,  0.39222323,\n",
              "         0.49873766,  0.476491  , -0.29608349,  0.36224473,  0.27449782,\n",
              "         0.13493049,  0.30839956,  1.13948511]])"
            ]
          },
          "metadata": {},
          "execution_count": 142
        }
      ]
    },
    {
      "cell_type": "code",
      "source": [
        "pca.explained_variance_ # 설명된 분산"
      ],
      "metadata": {
        "colab": {
          "base_uri": "https://localhost:8080/"
        },
        "id": "zIx6YNod6CRj",
        "outputId": "b5283ab7-f32b-47a2-aa8a-476658c17d46"
      },
      "execution_count": 143,
      "outputs": [
        {
          "output_type": "execute_result",
          "data": {
            "text/plain": [
              "array([4.66615023, 2.54192889])"
            ]
          },
          "metadata": {},
          "execution_count": 143
        }
      ]
    },
    {
      "cell_type": "markdown",
      "source": [
        "13 개 특성의 133 개 데이터, n=133, p=13"
      ],
      "metadata": {
        "id": "iiXySrQa9IGy"
      }
    },
    {
      "cell_type": "markdown",
      "source": [
        "평균 행렬 계산, n,p 의 크기지만 1,p 행렬을 n개 나열한 것으로 대체"
      ],
      "metadata": {
        "id": "7FcWN7sevy7f"
      }
    },
    {
      "cell_type": "code",
      "source": [
        "X_tn"
      ],
      "metadata": {
        "colab": {
          "base_uri": "https://localhost:8080/"
        },
        "id": "9lomZtvN1pf_",
        "outputId": "d240ab32-20eb-4cf0-8780-6dd50ff12b22"
      },
      "execution_count": 155,
      "outputs": [
        {
          "output_type": "execute_result",
          "data": {
            "text/plain": [
              "array([[1.305e+01, 1.770e+00, 2.100e+00, ..., 8.800e-01, 3.350e+00,\n",
              "        8.850e+02],\n",
              "       [1.233e+01, 9.900e-01, 1.950e+00, ..., 1.060e+00, 2.310e+00,\n",
              "        7.500e+02],\n",
              "       [1.376e+01, 1.530e+00, 2.700e+00, ..., 1.250e+00, 3.000e+00,\n",
              "        1.235e+03],\n",
              "       ...,\n",
              "       [1.349e+01, 1.660e+00, 2.240e+00, ..., 9.800e-01, 2.780e+00,\n",
              "        4.720e+02],\n",
              "       [1.293e+01, 2.810e+00, 2.700e+00, ..., 7.700e-01, 2.310e+00,\n",
              "        6.000e+02],\n",
              "       [1.305e+01, 1.650e+00, 2.550e+00, ..., 1.120e+00, 2.510e+00,\n",
              "        1.105e+03]])"
            ]
          },
          "metadata": {},
          "execution_count": 155
        }
      ]
    },
    {
      "cell_type": "code",
      "source": [
        "X_tn.shape"
      ],
      "metadata": {
        "colab": {
          "base_uri": "https://localhost:8080/"
        },
        "id": "kms6SLTW8w0U",
        "outputId": "f2c9217c-50c6-4c75-bbee-f58a8a4934cf"
      },
      "execution_count": 192,
      "outputs": [
        {
          "output_type": "execute_result",
          "data": {
            "text/plain": [
              "(133, 13)"
            ]
          },
          "metadata": {},
          "execution_count": 192
        }
      ]
    },
    {
      "cell_type": "markdown",
      "source": [
        "각 특성의 평균"
      ],
      "metadata": {
        "id": "6VIdO11A8vIQ"
      }
    },
    {
      "cell_type": "code",
      "source": [
        "mean_matrix = np.mean(X_tn, axis=0)\n",
        "mean_matrix"
      ],
      "metadata": {
        "id": "JiBkFeui-A0p",
        "colab": {
          "base_uri": "https://localhost:8080/"
        },
        "outputId": "78a87664-7f3c-46ef-8a85-9899f05814ae"
      },
      "execution_count": 196,
      "outputs": [
        {
          "output_type": "execute_result",
          "data": {
            "text/plain": [
              "array([1.29755639e+01, 2.42052632e+00, 2.36165414e+00, 1.96421053e+01,\n",
              "       9.87518797e+01, 2.25699248e+00, 1.97255639e+00, 3.68947368e-01,\n",
              "       1.56255639e+00, 5.03962405e+00, 9.58315789e-01, 2.57345865e+00,\n",
              "       7.42721805e+02])"
            ]
          },
          "metadata": {},
          "execution_count": 196
        }
      ]
    },
    {
      "cell_type": "markdown",
      "source": [
        "평균과 각 데이터의 편차 계산"
      ],
      "metadata": {
        "id": "uPVseIWBxdB7"
      }
    },
    {
      "cell_type": "code",
      "source": [
        "deviation_matrix = X_tn - mean_matrix\n",
        "deviation_matrix"
      ],
      "metadata": {
        "colab": {
          "base_uri": "https://localhost:8080/"
        },
        "id": "Apwar0vOwr9n",
        "outputId": "c017d05b-de1e-46f5-acb0-6b4ae8adfa8f"
      },
      "execution_count": 197,
      "outputs": [
        {
          "output_type": "execute_result",
          "data": {
            "text/plain": [
              "array([[ 7.44360902e-02, -6.50526316e-01, -2.61654135e-01, ...,\n",
              "        -7.83157895e-02,  7.76541353e-01,  1.42278195e+02],\n",
              "       [-6.45563910e-01, -1.43052632e+00, -4.11654135e-01, ...,\n",
              "         1.01684211e-01, -2.63458647e-01,  7.27819549e+00],\n",
              "       [ 7.84436090e-01, -8.90526316e-01,  3.38345865e-01, ...,\n",
              "         2.91684211e-01,  4.26541353e-01,  4.92278195e+02],\n",
              "       ...,\n",
              "       [ 5.14436090e-01, -7.60526316e-01, -1.21654135e-01, ...,\n",
              "         2.16842105e-02,  2.06541353e-01, -2.70721805e+02],\n",
              "       [-4.55639098e-02,  3.89473684e-01,  3.38345865e-01, ...,\n",
              "        -1.88315789e-01, -2.63458647e-01, -1.42721805e+02],\n",
              "       [ 7.44360902e-02, -7.70526316e-01,  1.88345865e-01, ...,\n",
              "         1.61684211e-01, -6.34586466e-02,  3.62278195e+02]])"
            ]
          },
          "metadata": {},
          "execution_count": 197
        }
      ]
    },
    {
      "cell_type": "code",
      "source": [
        "deviation_matrix.shape"
      ],
      "metadata": {
        "colab": {
          "base_uri": "https://localhost:8080/"
        },
        "id": "usvuEaaJ99Qv",
        "outputId": "7656d5cd-7391-4572-eb73-b83886a6ba34"
      },
      "execution_count": 198,
      "outputs": [
        {
          "output_type": "execute_result",
          "data": {
            "text/plain": [
              "(133, 13)"
            ]
          },
          "metadata": {},
          "execution_count": 198
        }
      ]
    },
    {
      "cell_type": "markdown",
      "source": [
        "편차 행렬의 제곱, 행렬 곱을 통해 계산 \n",
        "\n",
        "해당 행렬의 평균값이 공분산 행렬"
      ],
      "metadata": {
        "id": "XQfkfMSiyY4X"
      }
    },
    {
      "cell_type": "code",
      "source": [
        "deviation_matrix2 = deviation_matrix.T @ deviation_matrix\n",
        "deviation_matrix2.shape"
      ],
      "metadata": {
        "colab": {
          "base_uri": "https://localhost:8080/"
        },
        "id": "1g_MelQqxGTj",
        "outputId": "782e8a62-6674-4ae9-9042-79ef5f5d218a"
      },
      "execution_count": 199,
      "outputs": [
        {
          "output_type": "execute_result",
          "data": {
            "text/plain": [
              "(13, 13)"
            ]
          },
          "metadata": {},
          "execution_count": 199
        }
      ]
    },
    {
      "cell_type": "code",
      "source": [
        "covariance_matrix = deviation_matrix2 / deviation_matrix.shape[0]\n",
        "covariance_matrix"
      ],
      "metadata": {
        "colab": {
          "base_uri": "https://localhost:8080/"
        },
        "id": "CHodZ9i-VPqu",
        "outputId": "e5eecedb-ad1a-4b27-b725-d979466547ef"
      },
      "execution_count": 201,
      "outputs": [
        {
          "output_type": "execute_result",
          "data": {
            "text/plain": [
              "array([[ 6.27370547e-01,  7.23985754e-02,  4.88983153e-02,\n",
              "        -7.55459834e-01,  2.69596699e+00,  1.26940042e-01,\n",
              "         1.48968483e-01, -1.13738425e-02,  3.09173554e-02,\n",
              "         1.03786525e+00, -2.16799525e-02,  2.12048166e-02,\n",
              "         1.42645382e+02],\n",
              "       [ 7.23985754e-02,  1.35972228e+00,  4.56660467e-02,\n",
              "         1.21962446e+00, -6.59042343e-01, -2.48721725e-01,\n",
              "        -4.83544954e-01,  3.48855164e-02, -1.15764503e-01,\n",
              "         6.28568619e-01, -1.64964226e-01, -3.13945429e-01,\n",
              "        -7.66388761e+01],\n",
              "       [ 4.88983153e-02,  4.56660467e-02,  7.46709480e-02,\n",
              "         4.11930352e-01,  1.25552321e+00,  1.96591102e-02,\n",
              "         2.35461473e-02,  6.22730510e-03, -2.20873989e-03,\n",
              "         1.48029946e-01, -3.95435694e-03,  1.00254961e-03,\n",
              "         1.90676782e+01],\n",
              "       [-7.55459834e-01,  1.21962446e+00,  4.11930352e-01,\n",
              "         1.05616858e+01, -3.78278591e+00, -6.39843292e-01,\n",
              "        -1.14261140e+00,  1.28811239e-01, -3.47859517e-01,\n",
              "         1.12128612e-01, -2.13847883e-01, -6.21619311e-01,\n",
              "        -4.43493550e+02],\n",
              "       [ 2.69596699e+00, -6.59042343e-01,  1.25552321e+00,\n",
              "        -3.78278591e+00,  1.87720391e+02,  1.52519362e+00,\n",
              "         2.26492001e+00, -2.46351405e-01,  1.64552151e+00,\n",
              "         7.92697449e+00, -1.92599921e-02,  8.63468822e-02,\n",
              "         1.70574300e+03],\n",
              "       [ 1.26940042e-01, -2.48721725e-01,  1.96591102e-02,\n",
              "        -6.39843292e-01,  1.52519362e+00,  3.96231556e-01,\n",
              "         5.52909192e-01, -3.20249703e-02,  2.25784380e-01,\n",
              "        -1.51025936e-01,  6.99531302e-02,  3.23598372e-01,\n",
              "         9.11010430e+01],\n",
              "       [ 1.48968483e-01, -4.83544954e-01,  2.35461473e-02,\n",
              "        -1.14261140e+00,  2.26492001e+00,  5.52909192e-01,\n",
              "         1.01119196e+00, -6.42018203e-02,  3.76153615e-01,\n",
              "        -4.96941885e-01,  1.37461448e-01,  5.66246797e-01,\n",
              "         1.39281613e+02],\n",
              "       [-1.13738425e-02,  3.48855164e-02,  6.22730510e-03,\n",
              "         1.28811239e-01, -2.46351405e-01, -3.20249703e-02,\n",
              "        -6.42018203e-02,  1.43026514e-02, -2.34364068e-02,\n",
              "         4.80199042e-02, -7.36041947e-03, -4.56271864e-02,\n",
              "        -9.96044321e+00],\n",
              "       [ 3.09173554e-02, -1.15764503e-01, -2.20873989e-03,\n",
              "        -3.47859517e-01,  1.64552151e+00,  2.25784380e-01,\n",
              "         3.76153615e-01, -2.34364068e-02,  3.40468653e-01,\n",
              "        -9.04426410e-02,  4.02825010e-02,  2.05677625e-01,\n",
              "         4.98086059e+01],\n",
              "       [ 1.03786525e+00,  6.28568619e-01,  1.48029946e-01,\n",
              "         1.12128612e-01,  7.92697449e+00, -1.51025936e-01,\n",
              "        -4.96941885e-01,  4.80199042e-02, -9.04426410e-02,\n",
              "         5.70161257e+00, -2.98123487e-01, -7.65320497e-01,\n",
              "         2.19442679e+02],\n",
              "       [-2.16799525e-02, -1.64964226e-01, -3.95435694e-03,\n",
              "        -2.13847883e-01, -1.92599921e-02,  6.99531302e-02,\n",
              "         1.37461448e-01, -7.36041947e-03,  4.02825010e-02,\n",
              "        -2.98123487e-01,  5.53326221e-02,  9.76419153e-02,\n",
              "         1.25248097e+01],\n",
              "       [ 2.12048166e-02, -3.13945429e-01,  1.00254961e-03,\n",
              "        -6.21619311e-01,  8.63468822e-02,  3.23598372e-01,\n",
              "         5.66246797e-01, -4.56271864e-02,  2.05677625e-01,\n",
              "        -7.65320497e-01,  9.76419153e-02,  5.15424128e-01,\n",
              "         6.41275035e+01],\n",
              "       [ 1.42645382e+02, -7.66388761e+01,  1.90676782e+01,\n",
              "        -4.43493550e+02,  1.70574300e+03,  9.11010430e+01,\n",
              "         1.39281613e+02, -9.96044321e+00,  4.98086059e+01,\n",
              "         2.19442679e+02,  1.25248097e+01,  6.41275035e+01,\n",
              "         9.11499752e+04]])"
            ]
          },
          "metadata": {},
          "execution_count": 201
        }
      ]
    },
    {
      "cell_type": "markdown",
      "source": [
        "구한 행렬의 대각 행렬은 각 특성에 대한 분산\n",
        "\n",
        "행렬의 (i,j) 원소는 i, j 에 대한 공분산 j,i 와 i,j 의 공분산의 값은 동일하므로 전치 행렬이 동일하다."
      ],
      "metadata": {
        "id": "IUh5gq8q-96N"
      }
    },
    {
      "cell_type": "code",
      "source": [
        "for i in range(covariance_matrix.shape[0]):\n",
        "  print(covariance_matrix[i][i])"
      ],
      "metadata": {
        "colab": {
          "base_uri": "https://localhost:8080/"
        },
        "id": "pb9xayCCTqS0",
        "outputId": "87a41328-7e31-4ff2-bdae-13cdfbffe794"
      },
      "execution_count": 203,
      "outputs": [
        {
          "output_type": "stream",
          "name": "stdout",
          "text": [
            "0.627370546667421\n",
            "1.3597222793826673\n",
            "0.07467094804680868\n",
            "10.561685793430946\n",
            "187.72039120357255\n",
            "0.3962315563344451\n",
            "1.011191961105772\n",
            "0.014302651365255237\n",
            "0.34046865283509514\n",
            "5.701612567535766\n",
            "0.055332622081519574\n",
            "0.5154241279891456\n",
            "91149.975238849\n"
          ]
        }
      ]
    }
  ]
}