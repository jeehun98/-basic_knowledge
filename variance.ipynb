{
  "nbformat": 4,
  "nbformat_minor": 0,
  "metadata": {
    "colab": {
      "provenance": [],
      "collapsed_sections": []
    },
    "kernelspec": {
      "name": "python3",
      "display_name": "Python 3"
    },
    "language_info": {
      "name": "python"
    }
  },
  "cells": [
    {
      "cell_type": "code",
      "execution_count": 1,
      "metadata": {
        "id": "tKdyUgCyzeIE"
      },
      "outputs": [],
      "source": [
        "import numpy as np"
      ]
    },
    {
      "cell_type": "markdown",
      "source": [
        "랜덤 데이터 생성"
      ],
      "metadata": {
        "id": "Dh1ghPe31lny"
      }
    },
    {
      "cell_type": "code",
      "source": [
        "np.random.seed(42)\n",
        "\n",
        "a = np.array(np.random.random(10)).reshape(-1,10)\n",
        "b = np.array(np.random.random(10)).reshape(-1,10)"
      ],
      "metadata": {
        "id": "ZH_3ZGD301ED"
      },
      "execution_count": 64,
      "outputs": []
    },
    {
      "cell_type": "code",
      "source": [
        "print(a, b)"
      ],
      "metadata": {
        "colab": {
          "base_uri": "https://localhost:8080/"
        },
        "id": "WTvL1z3V1G-j",
        "outputId": "974af258-54eb-4949-976e-91969ca95704"
      },
      "execution_count": 65,
      "outputs": [
        {
          "output_type": "stream",
          "name": "stdout",
          "text": [
            "[[0.37454012 0.95071431 0.73199394 0.59865848 0.15601864 0.15599452\n",
            "  0.05808361 0.86617615 0.60111501 0.70807258]] [[0.02058449 0.96990985 0.83244264 0.21233911 0.18182497 0.18340451\n",
            "  0.30424224 0.52475643 0.43194502 0.29122914]]\n"
          ]
        }
      ]
    },
    {
      "cell_type": "markdown",
      "source": [
        "분산 계산"
      ],
      "metadata": {
        "id": "TtGPj0Rz1oF0"
      }
    },
    {
      "cell_type": "code",
      "source": [
        "a_variance = np.var(a)\n",
        "a_variance"
      ],
      "metadata": {
        "colab": {
          "base_uri": "https://localhost:8080/"
        },
        "id": "6GjyB46o1fQp",
        "outputId": "e9d94c5a-3f7c-4dc9-f12d-5ec60bef6635"
      },
      "execution_count": 66,
      "outputs": [
        {
          "output_type": "execute_result",
          "data": {
            "text/plain": [
              "0.08979398245355814"
            ]
          },
          "metadata": {},
          "execution_count": 66
        }
      ]
    },
    {
      "cell_type": "code",
      "source": [
        "def variance(a):\n",
        "  a_mean = np.mean(a)\n",
        "  return np.mean((a-a_mean)**2)"
      ],
      "metadata": {
        "id": "ixBmvX9_3TwL"
      },
      "execution_count": 30,
      "outputs": []
    },
    {
      "cell_type": "code",
      "source": [
        "variance(a)"
      ],
      "metadata": {
        "colab": {
          "base_uri": "https://localhost:8080/"
        },
        "id": "7JxGoSpa3qtx",
        "outputId": "46bd09d4-7fcc-46d8-f6f6-365a2c80c958"
      },
      "execution_count": 31,
      "outputs": [
        {
          "output_type": "execute_result",
          "data": {
            "text/plain": [
              "0.08979398245355814"
            ]
          },
          "metadata": {},
          "execution_count": 31
        }
      ]
    },
    {
      "cell_type": "code",
      "source": [
        "def variance2(a):\n",
        "  a_mean = np.mean(a)\n",
        "  return np.mean(a**2)-a_mean**2"
      ],
      "metadata": {
        "id": "KXSLYitQ4HYd"
      },
      "execution_count": 34,
      "outputs": []
    },
    {
      "cell_type": "code",
      "source": [
        "variance2(a)"
      ],
      "metadata": {
        "colab": {
          "base_uri": "https://localhost:8080/"
        },
        "id": "cz6amy7v4OAA",
        "outputId": "0d512964-c775-409a-cdef-f169130da12f"
      },
      "execution_count": 35,
      "outputs": [
        {
          "output_type": "execute_result",
          "data": {
            "text/plain": [
              "0.08979398245355813"
            ]
          },
          "metadata": {},
          "execution_count": 35
        }
      ]
    },
    {
      "cell_type": "markdown",
      "source": [
        "공분산"
      ],
      "metadata": {
        "id": "e5BywO945bsY"
      }
    },
    {
      "cell_type": "code",
      "source": [
        "np.cov(a, b)"
      ],
      "metadata": {
        "colab": {
          "base_uri": "https://localhost:8080/"
        },
        "id": "BoGXb4QS-SeI",
        "outputId": "b73e3cb6-8edb-4206-f0f9-af2b8337cf37"
      },
      "execution_count": 16,
      "outputs": [
        {
          "output_type": "execute_result",
          "data": {
            "text/plain": [
              "array([[0.09977109, 0.06726516],\n",
              "       [0.06726516, 0.09142799]])"
            ]
          },
          "metadata": {},
          "execution_count": 16
        }
      ]
    },
    {
      "cell_type": "code",
      "source": [
        "np.cov(b,a)"
      ],
      "metadata": {
        "id": "Xj_REtMWOhry",
        "colab": {
          "base_uri": "https://localhost:8080/"
        },
        "outputId": "415fc8b1-f5e6-4437-c1ae-8a2d1453b0f7"
      },
      "execution_count": 17,
      "outputs": [
        {
          "output_type": "execute_result",
          "data": {
            "text/plain": [
              "array([[0.09142799, 0.06726516],\n",
              "       [0.06726516, 0.09977109]])"
            ]
          },
          "metadata": {},
          "execution_count": 17
        }
      ]
    },
    {
      "cell_type": "code",
      "source": [
        "np.cov(a,a)"
      ],
      "metadata": {
        "colab": {
          "base_uri": "https://localhost:8080/"
        },
        "id": "gtbFrcuNUnpz",
        "outputId": "75e6bb37-d5e4-47b6-c595-a839b88ad183"
      },
      "execution_count": 18,
      "outputs": [
        {
          "output_type": "execute_result",
          "data": {
            "text/plain": [
              "array([[0.09977109, 0.09977109],\n",
              "       [0.09977109, 0.09977109]])"
            ]
          },
          "metadata": {},
          "execution_count": 18
        }
      ]
    },
    {
      "cell_type": "code",
      "source": [
        "def convariance(a, b):\n",
        "  a_mean = np.mean(a)\n",
        "  b_mean = np.mean(b)\n",
        "\n",
        "  ab = (a-a_mean)*(b-b_mean)\n",
        "  return np.mean(np.sum(ab))"
      ],
      "metadata": {
        "id": "i5-6Sw6OWTvv"
      },
      "execution_count": 21,
      "outputs": []
    },
    {
      "cell_type": "code",
      "source": [
        "convariance(a,b)"
      ],
      "metadata": {
        "colab": {
          "base_uri": "https://localhost:8080/"
        },
        "id": "U_1OL2ggXHw8",
        "outputId": "f63e181e-e438-482c-9faa-c299a3b00b54"
      },
      "execution_count": 22,
      "outputs": [
        {
          "output_type": "execute_result",
          "data": {
            "text/plain": [
              "0.6053864033673627"
            ]
          },
          "metadata": {},
          "execution_count": 22
        }
      ]
    },
    {
      "cell_type": "code",
      "source": [
        "convariance(b,a)"
      ],
      "metadata": {
        "colab": {
          "base_uri": "https://localhost:8080/"
        },
        "id": "k2ZVuUx9XSo0",
        "outputId": "10dcd6ab-63c4-4869-e39e-bbcf22d076fd"
      },
      "execution_count": 25,
      "outputs": [
        {
          "output_type": "execute_result",
          "data": {
            "text/plain": [
              "0.6053864033673627"
            ]
          },
          "metadata": {},
          "execution_count": 25
        }
      ]
    },
    {
      "cell_type": "code",
      "source": [
        "np.cov(a)"
      ],
      "metadata": {
        "colab": {
          "base_uri": "https://localhost:8080/"
        },
        "id": "ZFuTP5WIXJU0",
        "outputId": "5aec09bf-c1e3-4a6a-9ad3-679063b04290"
      },
      "execution_count": 38,
      "outputs": [
        {
          "output_type": "execute_result",
          "data": {
            "text/plain": [
              "array(0.09977109)"
            ]
          },
          "metadata": {},
          "execution_count": 38
        }
      ]
    },
    {
      "cell_type": "code",
      "source": [
        "np.cov(a,b)"
      ],
      "metadata": {
        "colab": {
          "base_uri": "https://localhost:8080/"
        },
        "id": "-rWS4XDK7idW",
        "outputId": "c27207d7-26d6-447a-a48d-b5ecc1bf4fee"
      },
      "execution_count": 39,
      "outputs": [
        {
          "output_type": "execute_result",
          "data": {
            "text/plain": [
              "array([[0.09977109, 0.06726516],\n",
              "       [0.06726516, 0.09142799]])"
            ]
          },
          "metadata": {},
          "execution_count": 39
        }
      ]
    },
    {
      "cell_type": "code",
      "source": [
        "a2 = np.array([0,1,2])\n",
        "b2 = np.array([2,1,0])"
      ],
      "metadata": {
        "id": "16jE06us8Gw5"
      },
      "execution_count": 44,
      "outputs": []
    },
    {
      "cell_type": "code",
      "source": [
        "np.cov(a2,b2)"
      ],
      "metadata": {
        "colab": {
          "base_uri": "https://localhost:8080/"
        },
        "id": "YWOxcNdE8KvY",
        "outputId": "b972dc29-bf86-4b27-d7b6-88ce380ab207"
      },
      "execution_count": 45,
      "outputs": [
        {
          "output_type": "execute_result",
          "data": {
            "text/plain": [
              "array([[ 1., -1.],\n",
              "       [-1.,  1.]])"
            ]
          },
          "metadata": {},
          "execution_count": 45
        }
      ]
    },
    {
      "cell_type": "code",
      "source": [
        "convariance(a2,b2)"
      ],
      "metadata": {
        "colab": {
          "base_uri": "https://localhost:8080/"
        },
        "id": "mZaeinW68j3o",
        "outputId": "7acdfd4c-cddf-40af-9a81-2d0a0908d4d0"
      },
      "execution_count": 46,
      "outputs": [
        {
          "output_type": "execute_result",
          "data": {
            "text/plain": [
              "-2.0"
            ]
          },
          "metadata": {},
          "execution_count": 46
        }
      ]
    },
    {
      "cell_type": "markdown",
      "source": [
        "다른 방식으로 분산의 계산"
      ],
      "metadata": {
        "id": "DMZGQv4_Xj0h"
      }
    },
    {
      "cell_type": "code",
      "source": [
        "def convariance2(a,b):\n",
        "  ab_mean = np.mean(a*b)\n",
        "  a_mean = np.mean(a)\n",
        "  b_mean = np.mean(b)\n",
        "  return ab_mean - a_mean*b_mean"
      ],
      "metadata": {
        "id": "PckuhxrzXiQL"
      },
      "execution_count": 26,
      "outputs": []
    },
    {
      "cell_type": "code",
      "source": [
        "convariance2(a,b)"
      ],
      "metadata": {
        "colab": {
          "base_uri": "https://localhost:8080/"
        },
        "id": "ZwyK5VaEXT8O",
        "outputId": "1033a972-620a-4bac-b7cd-ae3feb96ef0a"
      },
      "execution_count": 27,
      "outputs": [
        {
          "output_type": "execute_result",
          "data": {
            "text/plain": [
              "0.06053864033673623"
            ]
          },
          "metadata": {},
          "execution_count": 27
        }
      ]
    },
    {
      "cell_type": "code",
      "source": [
        "np.var(a)"
      ],
      "metadata": {
        "colab": {
          "base_uri": "https://localhost:8080/"
        },
        "id": "Kl6RckUJYaSh",
        "outputId": "fbd19f0f-0ae4-44c5-daa1-2a94772caacd"
      },
      "execution_count": 28,
      "outputs": [
        {
          "output_type": "execute_result",
          "data": {
            "text/plain": [
              "0.08979398245355814"
            ]
          },
          "metadata": {},
          "execution_count": 28
        }
      ]
    },
    {
      "cell_type": "code",
      "source": [
        "np.cov(a,a)"
      ],
      "metadata": {
        "colab": {
          "base_uri": "https://localhost:8080/"
        },
        "id": "W3GDUzn_ZI7E",
        "outputId": "3eebee53-4d71-4001-e150-58637146f12b"
      },
      "execution_count": 29,
      "outputs": [
        {
          "output_type": "execute_result",
          "data": {
            "text/plain": [
              "array([[0.09977109, 0.09977109],\n",
              "       [0.09977109, 0.09977109]])"
            ]
          },
          "metadata": {},
          "execution_count": 29
        }
      ]
    },
    {
      "cell_type": "code",
      "source": [
        "matrix = np.concatenate([a,b], 0)\n",
        "matrix"
      ],
      "metadata": {
        "id": "vL4WSdQ_ZRJe",
        "colab": {
          "base_uri": "https://localhost:8080/"
        },
        "outputId": "50217780-3f17-4b8e-8eea-f8325dfae329"
      },
      "execution_count": 72,
      "outputs": [
        {
          "output_type": "execute_result",
          "data": {
            "text/plain": [
              "array([[0.37454012, 0.95071431, 0.73199394, 0.59865848, 0.15601864,\n",
              "        0.15599452, 0.05808361, 0.86617615, 0.60111501, 0.70807258],\n",
              "       [0.02058449, 0.96990985, 0.83244264, 0.21233911, 0.18182497,\n",
              "        0.18340451, 0.30424224, 0.52475643, 0.43194502, 0.29122914]])"
            ]
          },
          "metadata": {},
          "execution_count": 72
        }
      ]
    },
    {
      "cell_type": "code",
      "source": [
        "matrix.shape"
      ],
      "metadata": {
        "colab": {
          "base_uri": "https://localhost:8080/"
        },
        "id": "WumkLe-uFXOX",
        "outputId": "19e80cf7-c54c-43ef-a230-408f5a724af8"
      },
      "execution_count": 87,
      "outputs": [
        {
          "output_type": "execute_result",
          "data": {
            "text/plain": [
              "(2, 10)"
            ]
          },
          "metadata": {},
          "execution_count": 87
        }
      ]
    },
    {
      "cell_type": "code",
      "source": [
        "matrix_mean = np.mean(matrix, axis=0).reshape(-1,10)\n",
        "matrix_mean"
      ],
      "metadata": {
        "colab": {
          "base_uri": "https://localhost:8080/"
        },
        "id": "SkbfeKEwCxmc",
        "outputId": "e7f68af4-6cd1-425b-b756-3e4fa84aedf7"
      },
      "execution_count": 90,
      "outputs": [
        {
          "output_type": "execute_result",
          "data": {
            "text/plain": [
              "array([[0.19756231, 0.96031208, 0.78221829, 0.4054988 , 0.1689218 ,\n",
              "        0.16969952, 0.18116293, 0.69546629, 0.51653002, 0.49965086]])"
            ]
          },
          "metadata": {},
          "execution_count": 90
        }
      ]
    },
    {
      "cell_type": "code",
      "source": [
        "matrix_mean.shape"
      ],
      "metadata": {
        "colab": {
          "base_uri": "https://localhost:8080/"
        },
        "id": "6KkZZQooFX-M",
        "outputId": "b2a622b0-067a-40ea-aff9-75867d01db6e"
      },
      "execution_count": 91,
      "outputs": [
        {
          "output_type": "execute_result",
          "data": {
            "text/plain": [
              "(1, 10)"
            ]
          },
          "metadata": {},
          "execution_count": 91
        }
      ]
    },
    {
      "cell_type": "code",
      "source": [
        "matrix_deviation = matrix-matrix_mean\n",
        "matrix_deviation"
      ],
      "metadata": {
        "colab": {
          "base_uri": "https://localhost:8080/"
        },
        "id": "EFSYW8_iDsiE",
        "outputId": "e75ad385-5c2a-4870-e642-e1922bc5c15e"
      },
      "execution_count": 92,
      "outputs": [
        {
          "output_type": "execute_result",
          "data": {
            "text/plain": [
              "array([[ 0.17697781, -0.00959777, -0.05022435,  0.19315969, -0.01290316,\n",
              "        -0.01370499, -0.12307932,  0.17070986,  0.084585  ,  0.20842172],\n",
              "       [-0.17697781,  0.00959777,  0.05022435, -0.19315969,  0.01290316,\n",
              "         0.01370499,  0.12307932, -0.17070986, -0.084585  , -0.20842172]])"
            ]
          },
          "metadata": {},
          "execution_count": 92
        }
      ]
    },
    {
      "cell_type": "code",
      "source": [
        "matrix_deviation.shape"
      ],
      "metadata": {
        "colab": {
          "base_uri": "https://localhost:8080/"
        },
        "id": "jBauJ4teGCTc",
        "outputId": "c5647538-b6fa-46db-f0b3-b6ee15a86f26"
      },
      "execution_count": 94,
      "outputs": [
        {
          "output_type": "execute_result",
          "data": {
            "text/plain": [
              "(2, 10)"
            ]
          },
          "metadata": {},
          "execution_count": 94
        }
      ]
    },
    {
      "cell_type": "code",
      "source": [
        "(matrix_deviation@matrix_deviation.T)/2"
      ],
      "metadata": {
        "colab": {
          "base_uri": "https://localhost:8080/"
        },
        "id": "DYhxMrNSEH1y",
        "outputId": "bf7a8d31-3da3-42fd-fa59-7f3297a28a31"
      },
      "execution_count": 95,
      "outputs": [
        {
          "output_type": "execute_result",
          "data": {
            "text/plain": [
              "array([[ 0.08324267, -0.08324267],\n",
              "       [-0.08324267,  0.08324267]])"
            ]
          },
          "metadata": {},
          "execution_count": 95
        }
      ]
    }
  ]
}