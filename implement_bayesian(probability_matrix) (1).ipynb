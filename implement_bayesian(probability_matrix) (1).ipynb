{
  "nbformat": 4,
  "nbformat_minor": 0,
  "metadata": {
    "colab": {
      "provenance": []
    },
    "kernelspec": {
      "name": "python3",
      "display_name": "Python 3"
    },
    "language_info": {
      "name": "python"
    }
  },
  "cells": [
    {
      "cell_type": "code",
      "execution_count": 76,
      "metadata": {
        "id": "XAo_PsUdqJrI"
      },
      "outputs": [],
      "source": [
        "import numpy as np"
      ]
    },
    {
      "cell_type": "code",
      "source": [
        "p_box = np.array(([0.4], [0.6]))\n",
        "p_box"
      ],
      "metadata": {
        "colab": {
          "base_uri": "https://localhost:8080/"
        },
        "outputId": "365af740-d26a-46c8-c278-e5d1cdc57f8b",
        "id": "dt2Fl9CqqJrK"
      },
      "execution_count": 77,
      "outputs": [
        {
          "output_type": "execute_result",
          "data": {
            "text/plain": [
              "array([[0.4],\n",
              "       [0.6]])"
            ]
          },
          "metadata": {},
          "execution_count": 77
        }
      ]
    },
    {
      "cell_type": "code",
      "source": [
        "red_box = np.array(([2], [6]))\n",
        "red_box"
      ],
      "metadata": {
        "colab": {
          "base_uri": "https://localhost:8080/"
        },
        "id": "qpZ48FE1dMXX",
        "outputId": "89730047-3034-4a27-cd9f-faafc039ccc8"
      },
      "execution_count": 78,
      "outputs": [
        {
          "output_type": "execute_result",
          "data": {
            "text/plain": [
              "array([[2],\n",
              "       [6]])"
            ]
          },
          "metadata": {},
          "execution_count": 78
        }
      ]
    },
    {
      "cell_type": "code",
      "source": [
        "blue_box = np.array(([3], [1]))\n",
        "blue_box"
      ],
      "metadata": {
        "colab": {
          "base_uri": "https://localhost:8080/"
        },
        "id": "OlBSMYvKr9nO",
        "outputId": "7c52e22a-f41c-4ca9-b38d-bb2a9824d0ba"
      },
      "execution_count": 79,
      "outputs": [
        {
          "output_type": "execute_result",
          "data": {
            "text/plain": [
              "array([[3],\n",
              "       [1]])"
            ]
          },
          "metadata": {},
          "execution_count": 79
        }
      ]
    },
    {
      "cell_type": "code",
      "source": [
        "p_red_box = red_box / sum(red_box)\n",
        "p_red_box"
      ],
      "metadata": {
        "colab": {
          "base_uri": "https://localhost:8080/"
        },
        "id": "fqnX9arjsz3j",
        "outputId": "3ce0126b-5c86-4efa-e87a-0cd256d63d0f"
      },
      "execution_count": 80,
      "outputs": [
        {
          "output_type": "execute_result",
          "data": {
            "text/plain": [
              "array([[0.25],\n",
              "       [0.75]])"
            ]
          },
          "metadata": {},
          "execution_count": 80
        }
      ]
    },
    {
      "cell_type": "code",
      "source": [
        "p_blue_box = blue_box / sum(blue_box)\n",
        "p_blue_box"
      ],
      "metadata": {
        "colab": {
          "base_uri": "https://localhost:8080/"
        },
        "id": "NWCZErb6s1Nn",
        "outputId": "47d4b59a-347c-4217-855c-4dfe8d789c09"
      },
      "execution_count": 81,
      "outputs": [
        {
          "output_type": "execute_result",
          "data": {
            "text/plain": [
              "array([[0.75],\n",
              "       [0.25]])"
            ]
          },
          "metadata": {},
          "execution_count": 81
        }
      ]
    },
    {
      "cell_type": "code",
      "source": [
        "p_red_box * p_box[0,0]"
      ],
      "metadata": {
        "colab": {
          "base_uri": "https://localhost:8080/"
        },
        "id": "ZaE3Cdkis_tu",
        "outputId": "153ee35c-3c2e-4492-94f6-9a56b3f7e1b2"
      },
      "execution_count": 82,
      "outputs": [
        {
          "output_type": "execute_result",
          "data": {
            "text/plain": [
              "array([[0.1],\n",
              "       [0.3]])"
            ]
          },
          "metadata": {},
          "execution_count": 82
        }
      ]
    },
    {
      "cell_type": "code",
      "source": [
        "p_blue_box * p_box[1,0]"
      ],
      "metadata": {
        "colab": {
          "base_uri": "https://localhost:8080/"
        },
        "id": "dmBCYzzZvOvG",
        "outputId": "c590902a-6c5b-447f-bee6-83a966e6f639"
      },
      "execution_count": 83,
      "outputs": [
        {
          "output_type": "execute_result",
          "data": {
            "text/plain": [
              "array([[0.45],\n",
              "       [0.15]])"
            ]
          },
          "metadata": {},
          "execution_count": 83
        }
      ]
    },
    {
      "cell_type": "code",
      "source": [
        "a = np.hstack([p_red_box, p_blue_box])\n",
        "a"
      ],
      "metadata": {
        "colab": {
          "base_uri": "https://localhost:8080/"
        },
        "id": "M6g9EVCpvSva",
        "outputId": "fd6d75e9-e1d2-4c28-c40f-8cb6ce9f3fef"
      },
      "execution_count": 84,
      "outputs": [
        {
          "output_type": "execute_result",
          "data": {
            "text/plain": [
              "array([[0.25, 0.75],\n",
              "       [0.75, 0.25]])"
            ]
          },
          "metadata": {},
          "execution_count": 84
        }
      ]
    },
    {
      "cell_type": "code",
      "source": [
        "p_box2 = (a.T * p_box).T\n",
        "p_box2"
      ],
      "metadata": {
        "colab": {
          "base_uri": "https://localhost:8080/"
        },
        "id": "weZHaPPXxYpn",
        "outputId": "d0880b1b-c8b2-4001-d75b-87d5ecfb6ad9"
      },
      "execution_count": 85,
      "outputs": [
        {
          "output_type": "execute_result",
          "data": {
            "text/plain": [
              "array([[0.1 , 0.45],\n",
              "       [0.3 , 0.15]])"
            ]
          },
          "metadata": {},
          "execution_count": 85
        }
      ]
    },
    {
      "cell_type": "code",
      "source": [
        "p_box2_sum = p_box2.sum(axis=0).reshape(2,-1)\n",
        "p_box2_sum"
      ],
      "metadata": {
        "colab": {
          "base_uri": "https://localhost:8080/"
        },
        "id": "4wf872eFPItK",
        "outputId": "d361c9ef-b0b6-47e9-8eab-e351babc221e"
      },
      "execution_count": 86,
      "outputs": [
        {
          "output_type": "execute_result",
          "data": {
            "text/plain": [
              "array([[0.4],\n",
              "       [0.6]])"
            ]
          },
          "metadata": {},
          "execution_count": 86
        }
      ]
    },
    {
      "cell_type": "code",
      "source": [
        "p_c_box = p_box2 / p_box2_sum.T\n",
        "p_c_box"
      ],
      "metadata": {
        "id": "LOvCyR89xrx6",
        "colab": {
          "base_uri": "https://localhost:8080/"
        },
        "outputId": "1fad95cb-f709-49ca-deda-666726018ac0"
      },
      "execution_count": 87,
      "outputs": [
        {
          "output_type": "execute_result",
          "data": {
            "text/plain": [
              "array([[0.25, 0.75],\n",
              "       [0.75, 0.25]])"
            ]
          },
          "metadata": {},
          "execution_count": 87
        }
      ]
    },
    {
      "cell_type": "code",
      "source": [
        "p_box2_sum2 = p_box2.sum(axis=1).reshape(2,-1)\n",
        "p_box2_sum2"
      ],
      "metadata": {
        "colab": {
          "base_uri": "https://localhost:8080/"
        },
        "id": "au9Tw_dnmwl5",
        "outputId": "b0b88a65-6cb0-47dd-f39d-7c27e4529de8"
      },
      "execution_count": 90,
      "outputs": [
        {
          "output_type": "execute_result",
          "data": {
            "text/plain": [
              "array([[0.55],\n",
              "       [0.45]])"
            ]
          },
          "metadata": {},
          "execution_count": 90
        }
      ]
    },
    {
      "cell_type": "code",
      "source": [
        "p_c_box[1,0] * p_box[0,0] / p_box2_sum2[1,0]"
      ],
      "metadata": {
        "colab": {
          "base_uri": "https://localhost:8080/"
        },
        "id": "SnnLo0sWoNr6",
        "outputId": "b2f432a9-f455-4d1a-94b9-27362fdd1d01"
      },
      "execution_count": 97,
      "outputs": [
        {
          "output_type": "execute_result",
          "data": {
            "text/plain": [
              "0.6666666666666666"
            ]
          },
          "metadata": {},
          "execution_count": 97
        }
      ]
    },
    {
      "cell_type": "code",
      "source": [
        "p_c_box[1,1] * p_box[1,0] / p_box2_sum2[1,0]"
      ],
      "metadata": {
        "colab": {
          "base_uri": "https://localhost:8080/"
        },
        "id": "NmxYEsI4owcG",
        "outputId": "ad0306a6-55c3-4823-da74-f01d9b8b2fc8"
      },
      "execution_count": 102,
      "outputs": [
        {
          "output_type": "execute_result",
          "data": {
            "text/plain": [
              "0.33333333333333326"
            ]
          },
          "metadata": {},
          "execution_count": 102
        }
      ]
    },
    {
      "cell_type": "code",
      "source": [
        "p_c_box[0,0] * p_box[0,0] / p_box2_sum2[0,0]"
      ],
      "metadata": {
        "colab": {
          "base_uri": "https://localhost:8080/"
        },
        "id": "s-ZpW8YjpffK",
        "outputId": "62f9cbb3-a796-46cb-ceb9-ba72e09ac98b"
      },
      "execution_count": 103,
      "outputs": [
        {
          "output_type": "execute_result",
          "data": {
            "text/plain": [
              "0.18181818181818185"
            ]
          },
          "metadata": {},
          "execution_count": 103
        }
      ]
    },
    {
      "cell_type": "code",
      "source": [
        "p_c_box[0,1] * p_box[1,0] / p_box2_sum2[0,0]"
      ],
      "metadata": {
        "colab": {
          "base_uri": "https://localhost:8080/"
        },
        "id": "qg1SzOwnwF4b",
        "outputId": "386c2b9a-2e9c-420a-f0c9-e562367cc93e"
      },
      "execution_count": 104,
      "outputs": [
        {
          "output_type": "execute_result",
          "data": {
            "text/plain": [
              "0.8181818181818182"
            ]
          },
          "metadata": {},
          "execution_count": 104
        }
      ]
    },
    {
      "cell_type": "code",
      "source": [
        "p_c_box * p_box / p_box2_sum2.T"
      ],
      "metadata": {
        "colab": {
          "base_uri": "https://localhost:8080/"
        },
        "id": "vuHuE4F-wHe0",
        "outputId": "0ea0b2c5-60cb-4feb-a8ad-55a629e65575"
      },
      "execution_count": 107,
      "outputs": [
        {
          "output_type": "execute_result",
          "data": {
            "text/plain": [
              "array([[0.18181818, 0.66666667],\n",
              "       [0.81818182, 0.33333333]])"
            ]
          },
          "metadata": {},
          "execution_count": 107
        }
      ]
    },
    {
      "cell_type": "code",
      "source": [],
      "metadata": {
        "id": "xVsf4-i7wONa"
      },
      "execution_count": null,
      "outputs": []
    }
  ]
}