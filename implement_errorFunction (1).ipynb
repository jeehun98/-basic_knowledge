{
  "nbformat": 4,
  "nbformat_minor": 0,
  "metadata": {
    "colab": {
      "provenance": []
    },
    "kernelspec": {
      "name": "python3",
      "display_name": "Python 3"
    },
    "language_info": {
      "name": "python"
    }
  },
  "cells": [
    {
      "cell_type": "code",
      "execution_count": 1,
      "metadata": {
        "id": "9aca7KKEmTdZ"
      },
      "outputs": [],
      "source": [
        "import numpy as np"
      ]
    },
    {
      "cell_type": "code",
      "source": [
        "def error(target, predict):\n",
        "  return 1/2()"
      ],
      "metadata": {
        "id": "5XC8bdBemeQV"
      },
      "execution_count": null,
      "outputs": []
    },
    {
      "cell_type": "code",
      "source": [
        "class error:\n",
        "  e_w = 0\n",
        "  \n",
        "  def squre_error(self, target, predict):\n",
        "    self.e_w = 1/2*(predict-target)**2\n",
        "    return self.e_w\n",
        "\n",
        "  def root_mean_square_error(self, target, predict):\n",
        "    self.e_w = (((predict-target)**2)/target.shape[0])**1/2\n",
        "    return self.e_w"
      ],
      "metadata": {
        "id": "Sq6zIsPQmpEV"
      },
      "execution_count": null,
      "outputs": []
    }
  ]
}