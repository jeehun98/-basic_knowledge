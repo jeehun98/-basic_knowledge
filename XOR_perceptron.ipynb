{
  "nbformat": 4,
  "nbformat_minor": 0,
  "metadata": {
    "colab": {
      "provenance": [],
      "collapsed_sections": []
    },
    "kernelspec": {
      "name": "python3",
      "display_name": "Python 3"
    },
    "language_info": {
      "name": "python"
    }
  },
  "cells": [
    {
      "cell_type": "code",
      "source": [
        "import numpy as np"
      ],
      "metadata": {
        "id": "6vF8Cypn5_B3"
      },
      "execution_count": 67,
      "outputs": []
    },
    {
      "cell_type": "markdown",
      "source": [
        "임의의 가중치, 임곗값의 설정"
      ],
      "metadata": {
        "id": "_Zn10cQE9Cw5"
      }
    },
    {
      "cell_type": "code",
      "execution_count": 68,
      "metadata": {
        "id": "XosJnW4cxGmp"
      },
      "outputs": [],
      "source": [
        "w13 = 0.5\n",
        "w14 = 0.9\n",
        "w23 = 0.4\n",
        "w24 = 1.0\n",
        "w35 = -1.2\n",
        "w45 = 1.1\n",
        "a3 = 0.8\n",
        "a4 = -0.1\n",
        "a5 = 0.3"
      ]
    },
    {
      "cell_type": "code",
      "source": [
        "x1 = 1\n",
        "x2 = 1"
      ],
      "metadata": {
        "id": "m9VS9JXoQpU9"
      },
      "execution_count": 69,
      "outputs": []
    },
    {
      "cell_type": "code",
      "source": [
        "yd = 0"
      ],
      "metadata": {
        "id": "M5-MoLSPpleM"
      },
      "execution_count": 70,
      "outputs": []
    },
    {
      "cell_type": "code",
      "source": [
        "np.exp(x1*w13+x2*w23-1*a3)"
      ],
      "metadata": {
        "colab": {
          "base_uri": "https://localhost:8080/"
        },
        "id": "xd4Zno93Q6MR",
        "outputId": "45f46d46-f1eb-4121-c4cc-3e05c5ddf048"
      },
      "execution_count": 71,
      "outputs": [
        {
          "output_type": "execute_result",
          "data": {
            "text/plain": [
              "1.1051709180756475"
            ]
          },
          "metadata": {},
          "execution_count": 71
        }
      ]
    },
    {
      "cell_type": "code",
      "source": [
        "y3 = 1/(1+np.exp(-(x1*w13+x2*w23-1*a3)))\n",
        "y3"
      ],
      "metadata": {
        "colab": {
          "base_uri": "https://localhost:8080/"
        },
        "id": "c4vXNaPy6BEH",
        "outputId": "15b8e017-3144-4a3c-a6b2-1231f13d7b31"
      },
      "execution_count": 72,
      "outputs": [
        {
          "output_type": "execute_result",
          "data": {
            "text/plain": [
              "0.5249791874789399"
            ]
          },
          "metadata": {},
          "execution_count": 72
        }
      ]
    },
    {
      "cell_type": "code",
      "source": [
        "y4 = 1/(1+np.exp(-(x1*w14+x2*w24-1*a4)))\n",
        "y4"
      ],
      "metadata": {
        "colab": {
          "base_uri": "https://localhost:8080/"
        },
        "id": "J785eqq2Q1gx",
        "outputId": "beff2989-d6f0-48d4-f98f-7a58cb462e06"
      },
      "execution_count": 73,
      "outputs": [
        {
          "output_type": "execute_result",
          "data": {
            "text/plain": [
              "0.8807970779778823"
            ]
          },
          "metadata": {},
          "execution_count": 73
        }
      ]
    },
    {
      "cell_type": "code",
      "source": [
        "y5 = 1/(1+np.exp(-(y3*w35+y4*w45-1*a5)))\n",
        "y5"
      ],
      "metadata": {
        "colab": {
          "base_uri": "https://localhost:8080/"
        },
        "id": "aC-zuuvqRgVA",
        "outputId": "05bae0ea-4bfc-4f34-dd54-2c2bab8ffb82"
      },
      "execution_count": 74,
      "outputs": [
        {
          "output_type": "execute_result",
          "data": {
            "text/plain": [
              "0.5097242138886783"
            ]
          },
          "metadata": {},
          "execution_count": 74
        }
      ]
    },
    {
      "cell_type": "code",
      "source": [
        "e = yd-y5\n",
        "e"
      ],
      "metadata": {
        "colab": {
          "base_uri": "https://localhost:8080/"
        },
        "id": "B74A1q90pTKK",
        "outputId": "509d6e5a-fc35-41a8-a738-96065dfd9d5e"
      },
      "execution_count": 75,
      "outputs": [
        {
          "output_type": "execute_result",
          "data": {
            "text/plain": [
              "-0.5097242138886783"
            ]
          },
          "metadata": {},
          "execution_count": 75
        }
      ]
    },
    {
      "cell_type": "markdown",
      "source": [
        "가중치 학습 단계"
      ],
      "metadata": {
        "id": "pxGWVTHgpsZZ"
      }
    },
    {
      "cell_type": "markdown",
      "source": [
        "먼저 출력층에 있는 뉴런5의 오차 기울기를 계산한다."
      ],
      "metadata": {
        "id": "jdfSLVM6qJLy"
      }
    },
    {
      "cell_type": "code",
      "source": [
        "delta5 = y5*(1-y5)*e\n",
        "delta5"
      ],
      "metadata": {
        "colab": {
          "base_uri": "https://localhost:8080/"
        },
        "id": "n4nmb9cRpqXp",
        "outputId": "9d6fd704-c784-4a4a-e41d-f8a057381305"
      },
      "execution_count": 76,
      "outputs": [
        {
          "output_type": "execute_result",
          "data": {
            "text/plain": [
              "-0.12738285377936295"
            ]
          },
          "metadata": {},
          "execution_count": 76
        }
      ]
    },
    {
      "cell_type": "markdown",
      "source": [
        "학습률의 지정, 가중치 보정값을 결정한다."
      ],
      "metadata": {
        "id": "5p60-OVHqiYx"
      }
    },
    {
      "cell_type": "code",
      "source": [
        "a = 0.1 # 학습률\n",
        "\n",
        "aw35 = a*y3*delta5\n",
        "aw35"
      ],
      "metadata": {
        "colab": {
          "base_uri": "https://localhost:8080/"
        },
        "id": "_jLk1iZkqdC7",
        "outputId": "4b19c792-f76f-4310-f89a-b7d34f1c8e81"
      },
      "execution_count": 77,
      "outputs": [
        {
          "output_type": "execute_result",
          "data": {
            "text/plain": [
              "-0.0066873347075838575"
            ]
          },
          "metadata": {},
          "execution_count": 77
        }
      ]
    },
    {
      "cell_type": "code",
      "source": [
        "aw45 = a*y4*delta5\n",
        "aw45"
      ],
      "metadata": {
        "colab": {
          "base_uri": "https://localhost:8080/"
        },
        "id": "sHfaDdQirLea",
        "outputId": "c48c3951-2d26-4cdf-f1bc-34dfe924b790"
      },
      "execution_count": 78,
      "outputs": [
        {
          "output_type": "execute_result",
          "data": {
            "text/plain": [
              "-0.011219844539334674"
            ]
          },
          "metadata": {},
          "execution_count": 78
        }
      ]
    },
    {
      "cell_type": "code",
      "source": [
        "aa5 = a*-1*delta5\n",
        "aa5"
      ],
      "metadata": {
        "colab": {
          "base_uri": "https://localhost:8080/"
        },
        "id": "uOUT3cFxrOVa",
        "outputId": "7898e2d3-3312-44b9-f751-2ad569160b88"
      },
      "execution_count": 79,
      "outputs": [
        {
          "output_type": "execute_result",
          "data": {
            "text/plain": [
              "0.012738285377936295"
            ]
          },
          "metadata": {},
          "execution_count": 79
        }
      ]
    },
    {
      "cell_type": "markdown",
      "source": [
        "다음으로 은닉층의 뉴런 3과 뉴런 4의 오차 기울기를 계산한다."
      ],
      "metadata": {
        "id": "lplYwYverlPq"
      }
    },
    {
      "cell_type": "code",
      "source": [
        "delta3 = y3*(1-y3)*delta5*w35\n",
        "delta3"
      ],
      "metadata": {
        "colab": {
          "base_uri": "https://localhost:8080/"
        },
        "id": "HIsYQndUrcJE",
        "outputId": "37e2ccbd-e6f9-4632-a8e7-aa32c5eba81d"
      },
      "execution_count": 80,
      "outputs": [
        {
          "output_type": "execute_result",
          "data": {
            "text/plain": [
              "0.038119477996761235"
            ]
          },
          "metadata": {},
          "execution_count": 80
        }
      ]
    },
    {
      "cell_type": "code",
      "source": [
        "delta4 = y4*(1-y4)*delta5*w45\n",
        "delta4"
      ],
      "metadata": {
        "colab": {
          "base_uri": "https://localhost:8080/"
        },
        "id": "-eJo-nKKrxav",
        "outputId": "5f6eca99-b808-4e09-de05-92c07a8ac1df"
      },
      "execution_count": 81,
      "outputs": [
        {
          "output_type": "execute_result",
          "data": {
            "text/plain": [
              "-0.014711820790948535"
            ]
          },
          "metadata": {},
          "execution_count": 81
        }
      ]
    },
    {
      "cell_type": "code",
      "source": [
        "aw13 = a*x1*delta3\n",
        "aw13"
      ],
      "metadata": {
        "colab": {
          "base_uri": "https://localhost:8080/"
        },
        "id": "OztyTGxnsMKT",
        "outputId": "e24c79d7-f4c7-4ade-bc06-3e7bdd8ae139"
      },
      "execution_count": 82,
      "outputs": [
        {
          "output_type": "execute_result",
          "data": {
            "text/plain": [
              "0.0038119477996761235"
            ]
          },
          "metadata": {},
          "execution_count": 82
        }
      ]
    },
    {
      "cell_type": "code",
      "source": [
        "aw23 = a*x2*delta3\n",
        "aw23"
      ],
      "metadata": {
        "colab": {
          "base_uri": "https://localhost:8080/"
        },
        "id": "CShFz7_JsYF6",
        "outputId": "be3a9e4e-3ac9-45d5-a729-f794609c0c04"
      },
      "execution_count": 83,
      "outputs": [
        {
          "output_type": "execute_result",
          "data": {
            "text/plain": [
              "0.0038119477996761235"
            ]
          },
          "metadata": {},
          "execution_count": 83
        }
      ]
    },
    {
      "cell_type": "code",
      "source": [
        "aa3 = a*-1*delta3\n",
        "aa3"
      ],
      "metadata": {
        "colab": {
          "base_uri": "https://localhost:8080/"
        },
        "id": "RrdEjo1NsZPi",
        "outputId": "f0782b75-8fa9-4e68-d2fe-f3b816772228"
      },
      "execution_count": 84,
      "outputs": [
        {
          "output_type": "execute_result",
          "data": {
            "text/plain": [
              "-0.0038119477996761235"
            ]
          },
          "metadata": {},
          "execution_count": 84
        }
      ]
    },
    {
      "cell_type": "code",
      "source": [
        "aw14 = a*x1*delta4\n",
        "aw14"
      ],
      "metadata": {
        "colab": {
          "base_uri": "https://localhost:8080/"
        },
        "id": "N-BAZ7rIsacA",
        "outputId": "97cf21bf-9197-4d2f-9915-ef475566b25c"
      },
      "execution_count": 85,
      "outputs": [
        {
          "output_type": "execute_result",
          "data": {
            "text/plain": [
              "-0.0014711820790948536"
            ]
          },
          "metadata": {},
          "execution_count": 85
        }
      ]
    },
    {
      "cell_type": "code",
      "source": [
        "aw24 = a*x2*delta4\n",
        "aw24"
      ],
      "metadata": {
        "colab": {
          "base_uri": "https://localhost:8080/"
        },
        "id": "HJw_ruPJsouD",
        "outputId": "92fdf9a6-2e85-4b05-cc75-43cfca031046"
      },
      "execution_count": 86,
      "outputs": [
        {
          "output_type": "execute_result",
          "data": {
            "text/plain": [
              "-0.0014711820790948536"
            ]
          },
          "metadata": {},
          "execution_count": 86
        }
      ]
    },
    {
      "cell_type": "code",
      "source": [
        "aa4 = a*-1*delta4\n",
        "aa4"
      ],
      "metadata": {
        "colab": {
          "base_uri": "https://localhost:8080/"
        },
        "id": "WPfckz1Hsrg5",
        "outputId": "873c7762-aec1-48c4-c60c-38ed945bed83"
      },
      "execution_count": 87,
      "outputs": [
        {
          "output_type": "execute_result",
          "data": {
            "text/plain": [
              "0.0014711820790948536"
            ]
          },
          "metadata": {},
          "execution_count": 87
        }
      ]
    },
    {
      "cell_type": "markdown",
      "source": [
        "마지막으로 이 신경망의 모든 가중치와 임계값 수준을 갱신한다."
      ],
      "metadata": {
        "id": "rqmbkNxPsxtt"
      }
    },
    {
      "cell_type": "code",
      "source": [
        "w13 = w13 + aw13\n",
        "w13"
      ],
      "metadata": {
        "colab": {
          "base_uri": "https://localhost:8080/"
        },
        "id": "b4Wl3InzstWg",
        "outputId": "34276432-ab8d-4ea2-f388-ee556d7e96ed"
      },
      "execution_count": 88,
      "outputs": [
        {
          "output_type": "execute_result",
          "data": {
            "text/plain": [
              "0.5038119477996761"
            ]
          },
          "metadata": {},
          "execution_count": 88
        }
      ]
    },
    {
      "cell_type": "code",
      "source": [
        "w14 = w14 + aw14\n",
        "w14"
      ],
      "metadata": {
        "colab": {
          "base_uri": "https://localhost:8080/"
        },
        "id": "agMsN3QQtMVh",
        "outputId": "99eb14ce-9043-42ce-bcb3-15f7e704fbb8"
      },
      "execution_count": 89,
      "outputs": [
        {
          "output_type": "execute_result",
          "data": {
            "text/plain": [
              "0.8985288179209052"
            ]
          },
          "metadata": {},
          "execution_count": 89
        }
      ]
    },
    {
      "cell_type": "code",
      "source": [
        "w23 = w23 + aw23\n",
        "w23"
      ],
      "metadata": {
        "colab": {
          "base_uri": "https://localhost:8080/"
        },
        "id": "HWU5YxFOttTP",
        "outputId": "48d1d771-003b-4c6d-c94f-aa41f0cfb708"
      },
      "execution_count": 90,
      "outputs": [
        {
          "output_type": "execute_result",
          "data": {
            "text/plain": [
              "0.40381194779967616"
            ]
          },
          "metadata": {},
          "execution_count": 90
        }
      ]
    },
    {
      "cell_type": "code",
      "source": [
        "w24 = w24 + aw24\n",
        "w24"
      ],
      "metadata": {
        "colab": {
          "base_uri": "https://localhost:8080/"
        },
        "id": "pgR2U_L_tu-7",
        "outputId": "aef7f81f-9318-4d46-ce06-0e0d904b72d3"
      },
      "execution_count": 91,
      "outputs": [
        {
          "output_type": "execute_result",
          "data": {
            "text/plain": [
              "0.9985288179209052"
            ]
          },
          "metadata": {},
          "execution_count": 91
        }
      ]
    },
    {
      "cell_type": "code",
      "source": [
        "w35 = w35 + aw35\n",
        "w35"
      ],
      "metadata": {
        "colab": {
          "base_uri": "https://localhost:8080/"
        },
        "id": "jslrO-tetyRB",
        "outputId": "9c6de480-03a8-4be2-9f6e-b014e408b5d8"
      },
      "execution_count": 92,
      "outputs": [
        {
          "output_type": "execute_result",
          "data": {
            "text/plain": [
              "-1.2066873347075837"
            ]
          },
          "metadata": {},
          "execution_count": 92
        }
      ]
    },
    {
      "cell_type": "code",
      "source": [
        "w45 = w45 + aw45\n",
        "w45"
      ],
      "metadata": {
        "colab": {
          "base_uri": "https://localhost:8080/"
        },
        "id": "bJt3lFFXt01N",
        "outputId": "23fd5678-b922-4b5a-dfa2-ff23775336f9"
      },
      "execution_count": 93,
      "outputs": [
        {
          "output_type": "execute_result",
          "data": {
            "text/plain": [
              "1.0887801554606653"
            ]
          },
          "metadata": {},
          "execution_count": 93
        }
      ]
    },
    {
      "cell_type": "code",
      "source": [
        "a3 = a3 + aa3\n",
        "a3"
      ],
      "metadata": {
        "colab": {
          "base_uri": "https://localhost:8080/"
        },
        "id": "qJGy9hbGt29n",
        "outputId": "83c36e28-4b4e-4d3e-89d0-f066317e11c8"
      },
      "execution_count": 94,
      "outputs": [
        {
          "output_type": "execute_result",
          "data": {
            "text/plain": [
              "0.796188052200324"
            ]
          },
          "metadata": {},
          "execution_count": 94
        }
      ]
    },
    {
      "cell_type": "code",
      "source": [
        "a4 = a4 + aa4\n",
        "a4"
      ],
      "metadata": {
        "colab": {
          "base_uri": "https://localhost:8080/"
        },
        "id": "dDUAUeiht5Tg",
        "outputId": "edbc3d95-3079-4cf5-e8e0-6afd596747dd"
      },
      "execution_count": 95,
      "outputs": [
        {
          "output_type": "execute_result",
          "data": {
            "text/plain": [
              "-0.09852881792090515"
            ]
          },
          "metadata": {},
          "execution_count": 95
        }
      ]
    },
    {
      "cell_type": "code",
      "source": [
        "a5 = a5 + aa5\n",
        "a5"
      ],
      "metadata": {
        "colab": {
          "base_uri": "https://localhost:8080/"
        },
        "id": "UIrMmg3_t597",
        "outputId": "f50ffa09-3d4c-4302-db23-010233aff539"
      },
      "execution_count": 96,
      "outputs": [
        {
          "output_type": "execute_result",
          "data": {
            "text/plain": [
              "0.3127382853779363"
            ]
          },
          "metadata": {},
          "execution_count": 96
        }
      ]
    }
  ]
}