{
  "nbformat": 4,
  "nbformat_minor": 0,
  "metadata": {
    "colab": {
      "provenance": [],
      "collapsed_sections": []
    },
    "kernelspec": {
      "name": "python3",
      "display_name": "Python 3"
    },
    "language_info": {
      "name": "python"
    }
  },
  "cells": [
    {
      "cell_type": "code",
      "execution_count": 1,
      "metadata": {
        "id": "GjWYglY6i8on"
      },
      "outputs": [],
      "source": [
        "import numpy as np"
      ]
    },
    {
      "cell_type": "markdown",
      "source": [
        "행렬 생성"
      ],
      "metadata": {
        "id": "20gCi3beG_AL"
      }
    },
    {
      "cell_type": "code",
      "source": [
        "a = np.random.random(16)\n",
        "a"
      ],
      "metadata": {
        "colab": {
          "base_uri": "https://localhost:8080/"
        },
        "id": "OlYaVtVTxWUA",
        "outputId": "ba79f5e5-6344-4caa-ba1d-dfc24a391df2"
      },
      "execution_count": 2,
      "outputs": [
        {
          "output_type": "execute_result",
          "data": {
            "text/plain": [
              "array([0.36137765, 0.64347275, 0.78088256, 0.14557616, 0.15891768,\n",
              "       0.29322314, 0.32697214, 0.18413188, 0.41987165, 0.31104381,\n",
              "       0.83626438, 0.87189381, 0.13557866, 0.85052252, 0.17658111,\n",
              "       0.76025121])"
            ]
          },
          "metadata": {},
          "execution_count": 2
        }
      ]
    },
    {
      "cell_type": "code",
      "source": [
        "a.shape"
      ],
      "metadata": {
        "colab": {
          "base_uri": "https://localhost:8080/"
        },
        "id": "Ahql2GfXGSZE",
        "outputId": "582a2050-69ac-4cae-984e-d57e81c6c9c0"
      },
      "execution_count": 3,
      "outputs": [
        {
          "output_type": "execute_result",
          "data": {
            "text/plain": [
              "(16,)"
            ]
          },
          "metadata": {},
          "execution_count": 3
        }
      ]
    },
    {
      "cell_type": "code",
      "source": [
        "a = np.random.random(16).reshape(4,4)\n",
        "a"
      ],
      "metadata": {
        "colab": {
          "base_uri": "https://localhost:8080/"
        },
        "id": "G0c7aWLdx8VG",
        "outputId": "23963b80-c16c-41bd-c574-f3ccba95cbe2"
      },
      "execution_count": 4,
      "outputs": [
        {
          "output_type": "execute_result",
          "data": {
            "text/plain": [
              "array([[0.34341832, 0.41186063, 0.72310685, 0.80852906],\n",
              "       [0.45525505, 0.05585165, 0.86267619, 0.801103  ],\n",
              "       [0.73514302, 0.30367276, 0.9453417 , 0.24552262],\n",
              "       [0.65983331, 0.03270704, 0.3370283 , 0.97283191]])"
            ]
          },
          "metadata": {},
          "execution_count": 4
        }
      ]
    },
    {
      "cell_type": "code",
      "source": [
        "a.shape"
      ],
      "metadata": {
        "colab": {
          "base_uri": "https://localhost:8080/"
        },
        "id": "JWCQAH0YGOLF",
        "outputId": "6e9b84c1-60fb-4590-c514-4b2fcfa61015"
      },
      "execution_count": 5,
      "outputs": [
        {
          "output_type": "execute_result",
          "data": {
            "text/plain": [
              "(4, 4)"
            ]
          },
          "metadata": {},
          "execution_count": 5
        }
      ]
    },
    {
      "cell_type": "markdown",
      "source": [
        "입력 데이터 생성"
      ],
      "metadata": {
        "id": "Kds_pEWsG9Do"
      }
    },
    {
      "cell_type": "code",
      "source": [
        "input = np.random.random(16).reshape(4,4)\n",
        "input"
      ],
      "metadata": {
        "colab": {
          "base_uri": "https://localhost:8080/"
        },
        "id": "8heP6ZcIGTiZ",
        "outputId": "7586a0cb-3bbd-4ccb-8984-cd9b56cdd5dc"
      },
      "execution_count": 6,
      "outputs": [
        {
          "output_type": "execute_result",
          "data": {
            "text/plain": [
              "array([[0.55281309, 0.96490838, 0.96244924, 0.06141017],\n",
              "       [0.98767887, 0.19230592, 0.67605589, 0.45613937],\n",
              "       [0.7133357 , 0.68137346, 0.85323024, 0.6984816 ],\n",
              "       [0.04180194, 0.33755356, 0.58393166, 0.82826018]])"
            ]
          },
          "metadata": {},
          "execution_count": 6
        }
      ]
    },
    {
      "cell_type": "markdown",
      "source": [
        "가중치 커널 생성"
      ],
      "metadata": {
        "id": "FlZdNk6SHSXN"
      }
    },
    {
      "cell_type": "code",
      "source": [
        "w = np.random.random(4).reshape(2,2)\n",
        "w"
      ],
      "metadata": {
        "colab": {
          "base_uri": "https://localhost:8080/"
        },
        "id": "-TpJqq7aHQHA",
        "outputId": "90a35574-08fb-43af-8543-3e08106c23c8"
      },
      "execution_count": 7,
      "outputs": [
        {
          "output_type": "execute_result",
          "data": {
            "text/plain": [
              "array([[0.18120805, 0.03265708],\n",
              "       [0.13781069, 0.87132649]])"
            ]
          },
          "metadata": {},
          "execution_count": 7
        }
      ]
    },
    {
      "cell_type": "markdown",
      "source": [
        "합성곱 신경망의 연산은 커널을 플립하지 않은 연산, cross-corelation 을 더 많이 사용한다.\n",
        "\n",
        "동일한 두 크기의 행렬의 원소 곱으로 계산할 수 있을 것"
      ],
      "metadata": {
        "id": "qqhAVz7zICfE"
      }
    },
    {
      "cell_type": "code",
      "source": [
        "row = []\n",
        "matrix = []\n",
        "\n",
        "for matrix_row in range(input.shape[0]-w.shape[0]+1):\n",
        "  for matrix_col in range(input.shape[1]-w.shape[1]+1):\n",
        "    matrix = []\n",
        "    for w_row in range(w.shape[0]):\n",
        "      row = []\n",
        "      for w_col in range(w.shape[0]):\n",
        "        row.append(input[matrix_row+w_row,matrix_col+w_col])\n",
        "      matrix.append(row)\n",
        "    print(matrix) "
      ],
      "metadata": {
        "colab": {
          "base_uri": "https://localhost:8080/"
        },
        "id": "QLESkEktG8ms",
        "outputId": "2f8dd327-9435-48a3-a3c7-c139b4de39c2"
      },
      "execution_count": 8,
      "outputs": [
        {
          "output_type": "stream",
          "name": "stdout",
          "text": [
            "[[0.5528130915124375, 0.9649083842366438], [0.9876788683030719, 0.19230592202556662]]\n",
            "[[0.9649083842366438, 0.9624492438244256], [0.19230592202556662, 0.6760558938257557]]\n",
            "[[0.9624492438244256, 0.06141016765953644], [0.6760558938257557, 0.45613936824031365]]\n",
            "[[0.9876788683030719, 0.19230592202556662], [0.7133356980298609, 0.6813734575430217]]\n",
            "[[0.19230592202556662, 0.6760558938257557], [0.6813734575430217, 0.8532302422944891]]\n",
            "[[0.6760558938257557, 0.45613936824031365], [0.8532302422944891, 0.6984815957707333]]\n",
            "[[0.7133356980298609, 0.6813734575430217], [0.04180194363561962, 0.33755356351307675]]\n",
            "[[0.6813734575430217, 0.8532302422944891], [0.33755356351307675, 0.5839316553288559]]\n",
            "[[0.8532302422944891, 0.6984815957707333], [0.5839316553288559, 0.8282601848145766]]\n"
          ]
        }
      ]
    },
    {
      "cell_type": "code",
      "source": [
        "row = []\n",
        "matrix = []\n",
        "result = []\n",
        "\n",
        "for matrix_row in range(input.shape[0]-w.shape[0]+1):\n",
        "  for matrix_col in range(input.shape[1]-w.shape[1]+1):\n",
        "    matrix = []\n",
        "    for w_row in range(w.shape[0]):\n",
        "      row = []\n",
        "      for w_col in range(w.shape[0]):\n",
        "        row.append(input[matrix_row+w_row,matrix_col+w_col])\n",
        "      matrix.append(row)\n",
        "    result.append(matrix*w)"
      ],
      "metadata": {
        "id": "zwRmNdHNQzv5"
      },
      "execution_count": 9,
      "outputs": []
    },
    {
      "cell_type": "code",
      "source": [
        "result = np.array(result)\n",
        "result.reshape(9,-1)\n",
        "result"
      ],
      "metadata": {
        "colab": {
          "base_uri": "https://localhost:8080/"
        },
        "id": "h9ly-38yUiAl",
        "outputId": "de00ef12-8cee-4bc3-f48c-2113f94ccbc9"
      },
      "execution_count": 10,
      "outputs": [
        {
          "output_type": "execute_result",
          "data": {
            "text/plain": [
              "array([[[0.10017418, 0.03151109],\n",
              "        [0.13611271, 0.16756124]],\n",
              "\n",
              "       [[0.17484916, 0.03143078],\n",
              "        [0.02650181, 0.58906541]],\n",
              "\n",
              "       [[0.17440355, 0.00200548],\n",
              "        [0.09316773, 0.39744631]],\n",
              "\n",
              "       [[0.17897536, 0.00628015],\n",
              "        [0.09830528, 0.59369874]],\n",
              "\n",
              "       [[0.03484738, 0.02207801],\n",
              "        [0.09390055, 0.74344211]],\n",
              "\n",
              "       [[0.12250677, 0.01489618],\n",
              "        [0.11758425, 0.60860552]],\n",
              "\n",
              "       [[0.12926217, 0.02225167],\n",
              "        [0.00576075, 0.29411936]],\n",
              "\n",
              "       [[0.12347035, 0.02786401],\n",
              "        [0.04651849, 0.50879512]],\n",
              "\n",
              "       [[0.15461218, 0.02281037],\n",
              "        [0.08047202, 0.72168504]]])"
            ]
          },
          "metadata": {},
          "execution_count": 10
        }
      ]
    },
    {
      "cell_type": "code",
      "source": [
        "sum_list = []\n",
        "for i in range(result.shape[0]):\n",
        "  sum = 0\n",
        "  for j in range(w.shape[0]):\n",
        "    for k in range(w.shape[1]):\n",
        "      sum += result[i][j,k]\n",
        "  sum_list.append(sum)"
      ],
      "metadata": {
        "id": "v57I5xkpWlyi"
      },
      "execution_count": 11,
      "outputs": []
    },
    {
      "cell_type": "code",
      "source": [
        "sum_list"
      ],
      "metadata": {
        "colab": {
          "base_uri": "https://localhost:8080/"
        },
        "id": "fayXHTbGU3Rd",
        "outputId": "930a6a3f-f19d-4c9d-fcd2-4c31681d2d59"
      },
      "execution_count": 12,
      "outputs": [
        {
          "output_type": "execute_result",
          "data": {
            "text/plain": [
              "[0.43535922168438235,\n",
              " 0.8218471668016154,\n",
              " 0.6670230659756229,\n",
              " 0.8772595341132035,\n",
              " 0.894268050304617,\n",
              " 0.8635927121227236,\n",
              " 0.45139395292804346,\n",
              " 0.7066479711788187,\n",
              " 0.9795796182389389]"
            ]
          },
          "metadata": {},
          "execution_count": 12
        }
      ]
    },
    {
      "cell_type": "code",
      "source": [
        "sum_matrix = np.array(sum_list).reshape(input.shape[0]-w.shape[0]+1, input.shape[1]-w.shape[1]+1)\n",
        "sum_matrix"
      ],
      "metadata": {
        "colab": {
          "base_uri": "https://localhost:8080/"
        },
        "id": "FHp9m9xQW1E9",
        "outputId": "ebb9a416-bca5-4654-c95b-759ce1b12752"
      },
      "execution_count": 13,
      "outputs": [
        {
          "output_type": "execute_result",
          "data": {
            "text/plain": [
              "array([[0.43535922, 0.82184717, 0.66702307],\n",
              "       [0.87725953, 0.89426805, 0.86359271],\n",
              "       [0.45139395, 0.70664797, 0.97957962]])"
            ]
          },
          "metadata": {},
          "execution_count": 13
        }
      ]
    },
    {
      "cell_type": "code",
      "source": [
        "b = sum_matrix + 1 \n",
        "b"
      ],
      "metadata": {
        "colab": {
          "base_uri": "https://localhost:8080/"
        },
        "id": "papihxBcYJDg",
        "outputId": "e0145418-2a96-480a-e815-4f5be7aa587d"
      },
      "execution_count": 14,
      "outputs": [
        {
          "output_type": "execute_result",
          "data": {
            "text/plain": [
              "array([[1.43535922, 1.82184717, 1.66702307],\n",
              "       [1.87725953, 1.89426805, 1.86359271],\n",
              "       [1.45139395, 1.70664797, 1.97957962]])"
            ]
          },
          "metadata": {},
          "execution_count": 14
        }
      ]
    },
    {
      "cell_type": "markdown",
      "source": [
        "패딩의 수행"
      ],
      "metadata": {
        "id": "viW2xEahcLwZ"
      }
    },
    {
      "cell_type": "code",
      "source": [
        "padding_matrix = np.zeros((input.shape[0]+w.shape[0], input.shape[1]+w.shape[1]))\n",
        "padding_matrix"
      ],
      "metadata": {
        "colab": {
          "base_uri": "https://localhost:8080/"
        },
        "id": "v2DRnN30ZJLW",
        "outputId": "0987a8f3-bd86-4230-b510-a1ff1a8a5012"
      },
      "execution_count": 24,
      "outputs": [
        {
          "output_type": "execute_result",
          "data": {
            "text/plain": [
              "array([[0., 0., 0., 0., 0., 0.],\n",
              "       [0., 0., 0., 0., 0., 0.],\n",
              "       [0., 0., 0., 0., 0., 0.],\n",
              "       [0., 0., 0., 0., 0., 0.],\n",
              "       [0., 0., 0., 0., 0., 0.],\n",
              "       [0., 0., 0., 0., 0., 0.]])"
            ]
          },
          "metadata": {},
          "execution_count": 24
        }
      ]
    },
    {
      "cell_type": "code",
      "source": [
        "input"
      ],
      "metadata": {
        "colab": {
          "base_uri": "https://localhost:8080/"
        },
        "id": "q8SUiedWEToh",
        "outputId": "c4f8b97d-1593-491f-882e-6e4e05d15f07"
      },
      "execution_count": 25,
      "outputs": [
        {
          "output_type": "execute_result",
          "data": {
            "text/plain": [
              "array([[0.55281309, 0.96490838, 0.96244924, 0.06141017],\n",
              "       [0.98767887, 0.19230592, 0.67605589, 0.45613937],\n",
              "       [0.7133357 , 0.68137346, 0.85323024, 0.6984816 ],\n",
              "       [0.04180194, 0.33755356, 0.58393166, 0.82826018]])"
            ]
          },
          "metadata": {},
          "execution_count": 25
        }
      ]
    },
    {
      "cell_type": "code",
      "source": [
        "for i in range(input.shape[0]):\n",
        "  for j in range(input.shape[1]):\n",
        "    padding_matrix[i+1][j+1] = input[i][j]"
      ],
      "metadata": {
        "id": "XfE0FOp4dIIa"
      },
      "execution_count": 26,
      "outputs": []
    },
    {
      "cell_type": "code",
      "source": [
        "padding_matrix"
      ],
      "metadata": {
        "colab": {
          "base_uri": "https://localhost:8080/"
        },
        "id": "KxVhf2SJgKJa",
        "outputId": "ad918113-4ec7-4a7a-8879-03f2d5779d36"
      },
      "execution_count": 27,
      "outputs": [
        {
          "output_type": "execute_result",
          "data": {
            "text/plain": [
              "array([[0.        , 0.        , 0.        , 0.        , 0.        ,\n",
              "        0.        ],\n",
              "       [0.        , 0.55281309, 0.96490838, 0.96244924, 0.06141017,\n",
              "        0.        ],\n",
              "       [0.        , 0.98767887, 0.19230592, 0.67605589, 0.45613937,\n",
              "        0.        ],\n",
              "       [0.        , 0.7133357 , 0.68137346, 0.85323024, 0.6984816 ,\n",
              "        0.        ],\n",
              "       [0.        , 0.04180194, 0.33755356, 0.58393166, 0.82826018,\n",
              "        0.        ],\n",
              "       [0.        , 0.        , 0.        , 0.        , 0.        ,\n",
              "        0.        ]])"
            ]
          },
          "metadata": {},
          "execution_count": 27
        }
      ]
    },
    {
      "cell_type": "markdown",
      "source": [
        "스트라이드 적용"
      ],
      "metadata": {
        "id": "GDuq7w38Nkaq"
      }
    },
    {
      "cell_type": "code",
      "source": [
        "row = []\n",
        "matrix = []\n",
        "result = []\n",
        "\n",
        "for matrix_row in range(int((input.shape[0]-w.shape[0])/2)+1):\n",
        "  for matrix_col in range(int((input.shape[1]-w.shape[1])/2)+1):\n",
        "    matrix = []\n",
        "    for w_row in range(w.shape[0]):\n",
        "      row = []\n",
        "      for w_col in range(w.shape[1]):\n",
        "        row.append(input[matrix_row*2+w_row,matrix_col*2+w_col])\n",
        "      matrix.append(row)\n",
        "    print(matrix)\n",
        "    result.append(matrix*w)"
      ],
      "metadata": {
        "colab": {
          "base_uri": "https://localhost:8080/"
        },
        "id": "AiJsoJc8gLVB",
        "outputId": "29e67e35-ffd6-4f97-af6d-ea762a8776ff"
      },
      "execution_count": 71,
      "outputs": [
        {
          "output_type": "stream",
          "name": "stdout",
          "text": [
            "[[0.5528130915124375, 0.9649083842366438], [0.9876788683030719, 0.19230592202556662]]\n",
            "[[0.9624492438244256, 0.06141016765953644], [0.6760558938257557, 0.45613936824031365]]\n",
            "[[0.7133356980298609, 0.6813734575430217], [0.04180194363561962, 0.33755356351307675]]\n",
            "[[0.8532302422944891, 0.6984815957707333], [0.5839316553288559, 0.8282601848145766]]\n"
          ]
        }
      ]
    },
    {
      "cell_type": "code",
      "source": [
        "result"
      ],
      "metadata": {
        "colab": {
          "base_uri": "https://localhost:8080/"
        },
        "id": "JWY9JzaWRZDx",
        "outputId": "6b9decc3-3d41-4901-d664-d7d52acd47bb"
      },
      "execution_count": 53,
      "outputs": [
        {
          "output_type": "execute_result",
          "data": {
            "text/plain": [
              "[array([[0.10017418, 0.03151109],\n",
              "        [0.13611271, 0.16756124]]), array([[0.17440355, 0.00200548],\n",
              "        [0.09316773, 0.39744631]]), array([[0.12926217, 0.02225167],\n",
              "        [0.00576075, 0.29411936]]), array([[0.15461218, 0.02281037],\n",
              "        [0.08047202, 0.72168504]])]"
            ]
          },
          "metadata": {},
          "execution_count": 53
        }
      ]
    },
    {
      "cell_type": "code",
      "source": [
        "def cal_cnn(input, w, stride):\n",
        "  \"\"\"\n",
        "  합성곱 연산\n",
        "  Args:\n",
        "    input : 입력값\n",
        "    w : 가중치, 커널\n",
        "    stride : 스트라이드 값\n",
        "  Return:\n",
        "    합성곱 연산 결과\n",
        "  \"\"\"\n",
        "  row = []\n",
        "  matrix = []\n",
        "  result = []\n",
        "  print(int((input.shape[0]-w.shape[0])/stride)+1)\n",
        "\n",
        "  # 해당 반복문의 크기는 합성곱 연산 결과와 동일하게 만들어준다.\n",
        "  # 원소곱을 시행후 행렬들의 생성\n",
        "  for matrix_row in range(int((input.shape[0]-w.shape[0])/stride)+1):\n",
        "    for matrix_col in range(int((input.shape[1]-w.shape[1])/stride)+1):\n",
        "      matrix = []\n",
        "      for w_row in range(w.shape[0]):\n",
        "        row = []\n",
        "        for w_col in range(w.shape[1]):\n",
        "          row.append(input[matrix_row*stride+w_row,matrix_col*stride+w_col])\n",
        "        matrix.append(row)\n",
        "      result.append(matrix*w)\n",
        "  \n",
        "  result = np.array(result)\n",
        "  result.reshape((int((input.shape[0]-w.shape[0])/2)+1)*(int((input.shape[1]-w.shape[1])/2)+1),-1)\n",
        "\n",
        "  sum_list = []\n",
        "  for i in range(result.shape[0]):\n",
        "    sum = 0\n",
        "    for j in range(w.shape[0]):\n",
        "      for k in range(w.shape[1]):\n",
        "        sum += result[i][j,k]\n",
        "    sum_list.append(sum)\n",
        "\n",
        "  sum_matrix = np.array(sum_list).reshape(int((input.shape[0]-w.shape[0])/stride)+1, int((input.shape[1]-w.shape[1])/stride)+1)\n",
        "\n",
        "  return sum_matrix"
      ],
      "metadata": {
        "id": "MyJPRjD-N1Bx"
      },
      "execution_count": 92,
      "outputs": []
    },
    {
      "cell_type": "code",
      "source": [
        "cal_cnn(input, w, 2)"
      ],
      "metadata": {
        "colab": {
          "base_uri": "https://localhost:8080/"
        },
        "id": "T3sIjdYpS-Oe",
        "outputId": "5a06b176-9e5b-4d1d-8d75-0848a0943b90"
      },
      "execution_count": 93,
      "outputs": [
        {
          "output_type": "stream",
          "name": "stdout",
          "text": [
            "2\n"
          ]
        },
        {
          "output_type": "execute_result",
          "data": {
            "text/plain": [
              "array([[0.43535922, 0.66702307],\n",
              "       [0.45139395, 0.97957962]])"
            ]
          },
          "metadata": {},
          "execution_count": 93
        }
      ]
    },
    {
      "cell_type": "code",
      "source": [
        "cal_cnn(input, w, 1)"
      ],
      "metadata": {
        "colab": {
          "base_uri": "https://localhost:8080/"
        },
        "id": "lSr50JS5TDLE",
        "outputId": "649ba973-cfee-4482-f569-7fc6346b6ce4"
      },
      "execution_count": 94,
      "outputs": [
        {
          "output_type": "stream",
          "name": "stdout",
          "text": [
            "3\n"
          ]
        },
        {
          "output_type": "execute_result",
          "data": {
            "text/plain": [
              "array([[0.43535922, 0.82184717, 0.66702307],\n",
              "       [0.87725953, 0.89426805, 0.86359271],\n",
              "       [0.45139395, 0.70664797, 0.97957962]])"
            ]
          },
          "metadata": {},
          "execution_count": 94
        }
      ]
    },
    {
      "cell_type": "code",
      "source": [],
      "metadata": {
        "id": "LZfkGfUeUXvD"
      },
      "execution_count": null,
      "outputs": []
    }
  ]
}