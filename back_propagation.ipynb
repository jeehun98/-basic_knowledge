{
  "nbformat": 4,
  "nbformat_minor": 0,
  "metadata": {
    "colab": {
      "provenance": [],
      "collapsed_sections": []
    },
    "kernelspec": {
      "name": "python3",
      "display_name": "Python 3"
    },
    "language_info": {
      "name": "python"
    }
  },
  "cells": [
    {
      "cell_type": "markdown",
      "source": [
        "오차 역전파를 통해 오차를 기반으로 가중치를 수정한 후 더 좋은 성능을 낼 수 있도록 모형을 개선한다.\n",
        "\n",
        "임의의 입력 값과 출력값의 설정"
      ],
      "metadata": {
        "id": "NjLAxyO2MoRv"
      }
    },
    {
      "cell_type": "code",
      "execution_count": 233,
      "metadata": {
        "id": "oRIr-snNasdA"
      },
      "outputs": [],
      "source": [
        "import numpy as np"
      ]
    },
    {
      "cell_type": "code",
      "source": [
        "input = np.array([[1,2,3]])\n",
        "input.shape"
      ],
      "metadata": {
        "colab": {
          "base_uri": "https://localhost:8080/"
        },
        "id": "mxJGieDwNiNe",
        "outputId": "3522cf40-5b50-428d-9294-95e3b83d06fa"
      },
      "execution_count": 234,
      "outputs": [
        {
          "output_type": "execute_result",
          "data": {
            "text/plain": [
              "(1, 3)"
            ]
          },
          "metadata": {},
          "execution_count": 234
        }
      ]
    },
    {
      "cell_type": "code",
      "source": [
        "target = np.array([[0.5,0.1]])\n",
        "target"
      ],
      "metadata": {
        "colab": {
          "base_uri": "https://localhost:8080/"
        },
        "id": "7HYGROypNm4q",
        "outputId": "ef6d4b16-df89-43eb-b22c-885010672e0a"
      },
      "execution_count": 235,
      "outputs": [
        {
          "output_type": "execute_result",
          "data": {
            "text/plain": [
              "array([[0.5, 0.1]])"
            ]
          },
          "metadata": {},
          "execution_count": 235
        }
      ]
    },
    {
      "cell_type": "code",
      "source": [
        "print(input.shape, target.shape)"
      ],
      "metadata": {
        "colab": {
          "base_uri": "https://localhost:8080/"
        },
        "id": "OsAKO100PUev",
        "outputId": "6df29093-13cc-49c6-e9e9-5d3e07ac0126"
      },
      "execution_count": 236,
      "outputs": [
        {
          "output_type": "stream",
          "name": "stdout",
          "text": [
            "(1, 3) (1, 2)\n"
          ]
        }
      ]
    },
    {
      "cell_type": "markdown",
      "source": [
        "임의의 가중치 설정"
      ],
      "metadata": {
        "id": "zc95DpoMyAJn"
      }
    },
    {
      "cell_type": "code",
      "source": [
        "w1 = np.array([[0.1,0.3,0.5],[0.2,0.4,0.6]])\n",
        "w1.shape"
      ],
      "metadata": {
        "colab": {
          "base_uri": "https://localhost:8080/"
        },
        "id": "--p1LlbbrkBN",
        "outputId": "a0451ded-a1a6-4741-a67c-adc6def9f211"
      },
      "execution_count": 237,
      "outputs": [
        {
          "output_type": "execute_result",
          "data": {
            "text/plain": [
              "(2, 3)"
            ]
          },
          "metadata": {},
          "execution_count": 237
        }
      ]
    },
    {
      "cell_type": "code",
      "source": [
        "w2 = np.array([[0.7,0.9],[0.8,0.1]])\n",
        "w2.shape"
      ],
      "metadata": {
        "colab": {
          "base_uri": "https://localhost:8080/"
        },
        "id": "QW2ZWWPa1mcQ",
        "outputId": "57761e1a-d625-4590-8882-b68c1f0f4cd0"
      },
      "execution_count": 238,
      "outputs": [
        {
          "output_type": "execute_result",
          "data": {
            "text/plain": [
              "(2, 2)"
            ]
          },
          "metadata": {},
          "execution_count": 238
        }
      ]
    },
    {
      "cell_type": "code",
      "source": [
        "b1 = np.array([[0.5],[0.5]])\n",
        "b1.shape"
      ],
      "metadata": {
        "colab": {
          "base_uri": "https://localhost:8080/"
        },
        "id": "On2noTZF6RnU",
        "outputId": "8cf4b1c0-3ebf-415a-b7ec-86d22289eed2"
      },
      "execution_count": 239,
      "outputs": [
        {
          "output_type": "execute_result",
          "data": {
            "text/plain": [
              "(2, 1)"
            ]
          },
          "metadata": {},
          "execution_count": 239
        }
      ]
    },
    {
      "cell_type": "code",
      "source": [
        "b2 = np.array([[0.3],[0.3]])\n",
        "b2.shape"
      ],
      "metadata": {
        "colab": {
          "base_uri": "https://localhost:8080/"
        },
        "id": "dJpL6rwX6ZaY",
        "outputId": "1b65947d-6cd3-4b8d-935f-5228347cc346"
      },
      "execution_count": 240,
      "outputs": [
        {
          "output_type": "execute_result",
          "data": {
            "text/plain": [
              "(2, 1)"
            ]
          },
          "metadata": {},
          "execution_count": 240
        }
      ]
    },
    {
      "cell_type": "markdown",
      "source": [
        "순전파를 통한 출력값 계산"
      ],
      "metadata": {
        "id": "Znn1P6QJ7BSa"
      }
    },
    {
      "cell_type": "code",
      "source": [
        "print(input.shape,w1.shape)"
      ],
      "metadata": {
        "colab": {
          "base_uri": "https://localhost:8080/"
        },
        "id": "33kDpyYQ7NSK",
        "outputId": "62a23051-cfb8-4bf4-f47a-b87f55ec747f"
      },
      "execution_count": 241,
      "outputs": [
        {
          "output_type": "stream",
          "name": "stdout",
          "text": [
            "(1, 3) (2, 3)\n"
          ]
        }
      ]
    },
    {
      "cell_type": "code",
      "source": [
        "g11 = w1@(input.T)+b1\n",
        "g11"
      ],
      "metadata": {
        "colab": {
          "base_uri": "https://localhost:8080/"
        },
        "id": "m8kqe2Jj6drH",
        "outputId": "9c6c098f-c4fe-4161-cb0a-a0ecefc71e89"
      },
      "execution_count": 242,
      "outputs": [
        {
          "output_type": "execute_result",
          "data": {
            "text/plain": [
              "array([[2.7],\n",
              "       [3.3]])"
            ]
          },
          "metadata": {},
          "execution_count": 242
        }
      ]
    },
    {
      "cell_type": "code",
      "source": [
        "g12 = w1.dot(input.T)+b1\n",
        "g12"
      ],
      "metadata": {
        "colab": {
          "base_uri": "https://localhost:8080/"
        },
        "id": "XtNhM0DA7gZ1",
        "outputId": "3a3a8b50-e27d-4e18-ec32-5d83c591c70d"
      },
      "execution_count": 243,
      "outputs": [
        {
          "output_type": "execute_result",
          "data": {
            "text/plain": [
              "array([[2.7],\n",
              "       [3.3]])"
            ]
          },
          "metadata": {},
          "execution_count": 243
        }
      ]
    },
    {
      "cell_type": "code",
      "source": [
        "print(np.equal(g11, g12))"
      ],
      "metadata": {
        "colab": {
          "base_uri": "https://localhost:8080/"
        },
        "id": "z1yAhUE-8GHa",
        "outputId": "5544e928-b99f-4c84-c141-9d10ac138abd"
      },
      "execution_count": 244,
      "outputs": [
        {
          "output_type": "stream",
          "name": "stdout",
          "text": [
            "[[ True]\n",
            " [ True]]\n"
          ]
        }
      ]
    },
    {
      "cell_type": "code",
      "source": [
        "h = 1/(1+np.exp(-g11))\n",
        "h"
      ],
      "metadata": {
        "colab": {
          "base_uri": "https://localhost:8080/"
        },
        "id": "U_DMc9hT8Iab",
        "outputId": "d06d3616-14b0-4f65-8f81-c9a62d4a7fc2"
      },
      "execution_count": 245,
      "outputs": [
        {
          "output_type": "execute_result",
          "data": {
            "text/plain": [
              "array([[0.93702664],\n",
              "       [0.96442881]])"
            ]
          },
          "metadata": {},
          "execution_count": 245
        }
      ]
    },
    {
      "cell_type": "markdown",
      "source": [
        "함수화"
      ],
      "metadata": {
        "id": "05ulwp1B__iC"
      }
    },
    {
      "cell_type": "code",
      "source": [
        "def hidden_cal(x,w,b):\n",
        "  g = w.dot(x)+b\n",
        "  h = 1/(1+np.exp(-g))\n",
        "  return h"
      ],
      "metadata": {
        "id": "yZIHTPT6-2ZW"
      },
      "execution_count": 246,
      "outputs": []
    },
    {
      "cell_type": "code",
      "source": [
        "h2 = hidden_cal(h,w2,b2)\n",
        "h2"
      ],
      "metadata": {
        "colab": {
          "base_uri": "https://localhost:8080/"
        },
        "id": "74tbCwLxAS_f",
        "outputId": "7c77170a-2127-4f57-9f07-dc438247aba7"
      },
      "execution_count": 247,
      "outputs": [
        {
          "output_type": "execute_result",
          "data": {
            "text/plain": [
              "array([[0.86103399],\n",
              "       [0.75879129]])"
            ]
          },
          "metadata": {},
          "execution_count": 247
        }
      ]
    },
    {
      "cell_type": "markdown",
      "source": [
        "비용 함수 정의 및 1차 미분식 계산\n",
        "\n",
        "비용 함수로는 오차 제곱합을 사용, 미분식의 계산을 편리하게 하기 위한 1/2 연산의 추가"
      ],
      "metadata": {
        "id": "cMmu78WhApe1"
      }
    },
    {
      "cell_type": "markdown",
      "source": [
        "활성화 함수로 사용하는 시그모이드 함수의 미분"
      ],
      "metadata": {
        "id": "E0kCNB9LX_dN"
      }
    },
    {
      "cell_type": "code",
      "source": [
        "from sympy import Derivative, symbols\n",
        "\n",
        "x = symbols('x')"
      ],
      "metadata": {
        "id": "QIWZ51EcAYDJ"
      },
      "execution_count": 248,
      "outputs": []
    },
    {
      "cell_type": "code",
      "source": [
        "fx = 1/(1+np.e**-x)"
      ],
      "metadata": {
        "id": "MLnlrgnRYJL0"
      },
      "execution_count": 249,
      "outputs": []
    },
    {
      "cell_type": "code",
      "source": [
        "fprime = Derivative(fx, x).doit()\n",
        "fprime"
      ],
      "metadata": {
        "colab": {
          "base_uri": "https://localhost:8080/",
          "height": 60
        },
        "id": "wSLxR-JKYTuz",
        "outputId": "8254ea81-11b2-45ee-c797-f8855032e521"
      },
      "execution_count": 250,
      "outputs": [
        {
          "output_type": "execute_result",
          "data": {
            "text/plain": [
              "1.0*2.71828182845905**(-x)/(1 + 2.71828182845905**(-x))**2"
            ],
            "text/latex": "$\\displaystyle \\frac{1.0 \\cdot 2.71828182845905^{- x}}{\\left(1 + 2.71828182845905^{- x}\\right)^{2}}$"
          },
          "metadata": {},
          "execution_count": 250
        }
      ]
    },
    {
      "cell_type": "markdown",
      "source": [
        "역전파를 통한 1차 미분값 구하기"
      ],
      "metadata": {
        "id": "UVmk6Sm4Zc4G"
      }
    },
    {
      "cell_type": "markdown",
      "source": [
        "은닉층에서 출력층까지 연결되는 가중치가 변했을 때 비용 함수의 변화량"
      ],
      "metadata": {
        "id": "1vxqUcIsZh0u"
      }
    },
    {
      "cell_type": "code",
      "source": [
        "target.astype"
      ],
      "metadata": {
        "colab": {
          "base_uri": "https://localhost:8080/"
        },
        "id": "HaqBCr5RasnF",
        "outputId": "a9605d54-471a-4be2-cc36-da4aab7949ef"
      },
      "execution_count": 251,
      "outputs": [
        {
          "output_type": "execute_result",
          "data": {
            "text/plain": [
              "<function ndarray.astype>"
            ]
          },
          "metadata": {},
          "execution_count": 251
        }
      ]
    },
    {
      "cell_type": "code",
      "source": [
        "target[0,0]"
      ],
      "metadata": {
        "colab": {
          "base_uri": "https://localhost:8080/"
        },
        "id": "nNxyTV3magKG",
        "outputId": "df47b253-9971-49cf-cc51-23a4b3562c51"
      },
      "execution_count": 252,
      "outputs": [
        {
          "output_type": "execute_result",
          "data": {
            "text/plain": [
              "0.5"
            ]
          },
          "metadata": {},
          "execution_count": 252
        }
      ]
    },
    {
      "cell_type": "code",
      "source": [
        "target[0,1]"
      ],
      "metadata": {
        "colab": {
          "base_uri": "https://localhost:8080/"
        },
        "id": "9YRC37Kpb3ZJ",
        "outputId": "ce048101-8529-4e00-f993-537ae9a5a72f"
      },
      "execution_count": 253,
      "outputs": [
        {
          "output_type": "execute_result",
          "data": {
            "text/plain": [
              "0.1"
            ]
          },
          "metadata": {},
          "execution_count": 253
        }
      ]
    },
    {
      "cell_type": "code",
      "source": [
        "h2"
      ],
      "metadata": {
        "colab": {
          "base_uri": "https://localhost:8080/"
        },
        "id": "85t-5fIMbwmB",
        "outputId": "44e94b30-51c5-44f1-e79f-6ae5955de0b8"
      },
      "execution_count": 254,
      "outputs": [
        {
          "output_type": "execute_result",
          "data": {
            "text/plain": [
              "array([[0.86103399],\n",
              "       [0.75879129]])"
            ]
          },
          "metadata": {},
          "execution_count": 254
        }
      ]
    },
    {
      "cell_type": "code",
      "source": [
        "h2[0]"
      ],
      "metadata": {
        "colab": {
          "base_uri": "https://localhost:8080/"
        },
        "id": "a3W5HWfFbyle",
        "outputId": "5716e78c-ab78-491f-b023-fcb4f8ad4966"
      },
      "execution_count": 255,
      "outputs": [
        {
          "output_type": "execute_result",
          "data": {
            "text/plain": [
              "array([0.86103399])"
            ]
          },
          "metadata": {},
          "execution_count": 255
        }
      ]
    },
    {
      "cell_type": "code",
      "source": [
        "h2[1]"
      ],
      "metadata": {
        "colab": {
          "base_uri": "https://localhost:8080/"
        },
        "id": "uSQdeYtIbz4l",
        "outputId": "b921783a-46c6-4469-cf91-ed5b68b9cae7"
      },
      "execution_count": 256,
      "outputs": [
        {
          "output_type": "execute_result",
          "data": {
            "text/plain": [
              "array([0.75879129])"
            ]
          },
          "metadata": {},
          "execution_count": 256
        }
      ]
    },
    {
      "cell_type": "code",
      "source": [
        "h2[0]-target[0,0]"
      ],
      "metadata": {
        "colab": {
          "base_uri": "https://localhost:8080/"
        },
        "id": "cumbg-4qYuGm",
        "outputId": "a357e6e1-3b9b-4fab-8a57-f62ddd05061d"
      },
      "execution_count": 257,
      "outputs": [
        {
          "output_type": "execute_result",
          "data": {
            "text/plain": [
              "array([0.36103399])"
            ]
          },
          "metadata": {},
          "execution_count": 257
        }
      ]
    },
    {
      "cell_type": "code",
      "source": [
        "h2[0]*(1-h2[0])"
      ],
      "metadata": {
        "colab": {
          "base_uri": "https://localhost:8080/"
        },
        "id": "fHNKL2PgbN2m",
        "outputId": "318fee36-0873-49d5-badc-725d544e5398"
      },
      "execution_count": 258,
      "outputs": [
        {
          "output_type": "execute_result",
          "data": {
            "text/plain": [
              "array([0.11965446])"
            ]
          },
          "metadata": {},
          "execution_count": 258
        }
      ]
    },
    {
      "cell_type": "code",
      "source": [
        "bw41 = (h2[0]-target[0,0]) * (h2[0]*(1-h2[0])) * h[0]\n",
        "bw41"
      ],
      "metadata": {
        "colab": {
          "base_uri": "https://localhost:8080/"
        },
        "id": "MqydW3GwbZHn",
        "outputId": "4a9ce226-93ce-4a67-8769-507c51d07825"
      },
      "execution_count": 259,
      "outputs": [
        {
          "output_type": "execute_result",
          "data": {
            "text/plain": [
              "array([0.04047892])"
            ]
          },
          "metadata": {},
          "execution_count": 259
        }
      ]
    },
    {
      "cell_type": "code",
      "source": [
        "bw42 = (h2[1]-target[0,1]) * (h2[1]*(1-h2[1])) * h[0]\n",
        "bw42"
      ],
      "metadata": {
        "colab": {
          "base_uri": "https://localhost:8080/"
        },
        "id": "Wz5xBz2pbjgy",
        "outputId": "c72d6dd6-a26b-4bee-8037-36777dbc8e5d"
      },
      "execution_count": 260,
      "outputs": [
        {
          "output_type": "execute_result",
          "data": {
            "text/plain": [
              "array([0.11298352])"
            ]
          },
          "metadata": {},
          "execution_count": 260
        }
      ]
    },
    {
      "cell_type": "code",
      "source": [
        "bw51 = (h2[0]-target[0,0]) * (h2[0]*(1-h2[0])) * h[1]\n",
        "bw51"
      ],
      "metadata": {
        "colab": {
          "base_uri": "https://localhost:8080/"
        },
        "id": "IURqIGImbpWC",
        "outputId": "5066894c-a3af-4b7d-c295-62057b45bffd"
      },
      "execution_count": 261,
      "outputs": [
        {
          "output_type": "execute_result",
          "data": {
            "text/plain": [
              "array([0.04166268])"
            ]
          },
          "metadata": {},
          "execution_count": 261
        }
      ]
    },
    {
      "cell_type": "code",
      "source": [
        "bw52 = (h2[1]-target[0,1]) * (h2[1]*(1-h2[1])) * h[1]\n",
        "bw52"
      ],
      "metadata": {
        "colab": {
          "base_uri": "https://localhost:8080/"
        },
        "id": "ouJryCUacdKE",
        "outputId": "29ccd3af-145d-4382-a7f8-f01beeae2fc2"
      },
      "execution_count": 262,
      "outputs": [
        {
          "output_type": "execute_result",
          "data": {
            "text/plain": [
              "array([0.11628758])"
            ]
          },
          "metadata": {},
          "execution_count": 262
        }
      ]
    },
    {
      "cell_type": "code",
      "source": [
        "bb2 = (h2[0]-target[0,0]) * (h2[0]*(1-h2[0])) * 1 + (h2[1]-target[0,1]) * (h2[1]*(1-h2[1])) * 1\n",
        "bb2"
      ],
      "metadata": {
        "colab": {
          "base_uri": "https://localhost:8080/"
        },
        "id": "C9AcphpqdBK0",
        "outputId": "4ffa75fb-2c31-4664-a4e8-a970089a77dd"
      },
      "execution_count": 266,
      "outputs": [
        {
          "output_type": "execute_result",
          "data": {
            "text/plain": [
              "array([0.16377596])"
            ]
          },
          "metadata": {},
          "execution_count": 266
        }
      ]
    },
    {
      "cell_type": "markdown",
      "source": [
        "은닉층에서 입력층으로 거슬러 올라가는 계산"
      ],
      "metadata": {
        "id": "mjgAwfPDfLT9"
      }
    },
    {
      "cell_type": "code",
      "source": [],
      "metadata": {
        "id": "fAmYgLW5e-ko"
      },
      "execution_count": null,
      "outputs": []
    }
  ]
}