{
  "nbformat": 4,
  "nbformat_minor": 0,
  "metadata": {
    "colab": {
      "provenance": []
    },
    "kernelspec": {
      "name": "python3",
      "display_name": "Python 3"
    },
    "language_info": {
      "name": "python"
    }
  },
  "cells": [
    {
      "cell_type": "code",
      "execution_count": 22,
      "metadata": {
        "id": "lJUuIXDp5HnL"
      },
      "outputs": [],
      "source": [
        "import numpy as np"
      ]
    },
    {
      "cell_type": "code",
      "source": [
        "np.random.random(10)"
      ],
      "metadata": {
        "colab": {
          "base_uri": "https://localhost:8080/"
        },
        "id": "OePTjgw55a4q",
        "outputId": "21e78687-c7f1-4e02-d5c3-326ac6dccf57"
      },
      "execution_count": 23,
      "outputs": [
        {
          "output_type": "execute_result",
          "data": {
            "text/plain": [
              "array([0.11002549, 0.89292016, 0.18191698, 0.29125905, 0.75213597,\n",
              "       0.19003221, 0.92413057, 0.22093307, 0.34410257, 0.73407713])"
            ]
          },
          "metadata": {},
          "execution_count": 23
        }
      ]
    },
    {
      "cell_type": "code",
      "source": [
        "a_1 = np.random.uniform(0,1,10).reshape(1,10)\n",
        "a_1"
      ],
      "metadata": {
        "colab": {
          "base_uri": "https://localhost:8080/"
        },
        "id": "k2uQzXSw58kE",
        "outputId": "a1691259-3153-4082-ff17-f1ea74a9d333"
      },
      "execution_count": 24,
      "outputs": [
        {
          "output_type": "execute_result",
          "data": {
            "text/plain": [
              "array([[0.03469035, 0.75268437, 0.87531154, 0.070726  , 0.48743429,\n",
              "        0.68499242, 0.35791091, 0.94000895, 0.1697126 , 0.67921846]])"
            ]
          },
          "metadata": {},
          "execution_count": 24
        }
      ]
    },
    {
      "cell_type": "code",
      "source": [
        "a_2 = np.random.uniform(3,5,10).reshape(1,10)\n",
        "a_2"
      ],
      "metadata": {
        "colab": {
          "base_uri": "https://localhost:8080/"
        },
        "id": "ANjtDYti6B7N",
        "outputId": "d587b1c9-4b56-459d-ff65-3e3615433c0e"
      },
      "execution_count": 25,
      "outputs": [
        {
          "output_type": "execute_result",
          "data": {
            "text/plain": [
              "array([[4.34678827, 3.77574155, 4.67685232, 3.43667384, 3.19231599,\n",
              "        3.68352198, 3.50401283, 3.35793393, 4.66404846, 3.00791598]])"
            ]
          },
          "metadata": {},
          "execution_count": 25
        }
      ]
    },
    {
      "cell_type": "code",
      "source": [
        "b_1 = np.random.uniform(5,10,10).reshape(1,10)\n",
        "b_1"
      ],
      "metadata": {
        "colab": {
          "base_uri": "https://localhost:8080/"
        },
        "id": "jT2VAusV68Yt",
        "outputId": "9fea655c-b4a8-4df3-e60d-706fd0b9032e"
      },
      "execution_count": 26,
      "outputs": [
        {
          "output_type": "execute_result",
          "data": {
            "text/plain": [
              "array([[7.33868828, 7.75959245, 5.59262272, 6.42270982, 5.33400013,\n",
              "        8.87724871, 6.24702906, 8.4271758 , 7.54124974, 6.53569375]])"
            ]
          },
          "metadata": {},
          "execution_count": 26
        }
      ]
    },
    {
      "cell_type": "code",
      "source": [
        "b_2 = np.random.uniform(2,3,10).reshape(1,10)\n",
        "b_2"
      ],
      "metadata": {
        "colab": {
          "base_uri": "https://localhost:8080/"
        },
        "id": "7RRxL4_17W11",
        "outputId": "9fa97790-7672-4c5b-d528-22f0844267eb"
      },
      "execution_count": 27,
      "outputs": [
        {
          "output_type": "execute_result",
          "data": {
            "text/plain": [
              "array([[2.60458277, 2.44726742, 2.33649348, 2.34075202, 2.8604337 ,\n",
              "        2.36797659, 2.37990476, 2.23774693, 2.1385798 , 2.18587848]])"
            ]
          },
          "metadata": {},
          "execution_count": 27
        }
      ]
    },
    {
      "cell_type": "code",
      "source": [
        "a_1.shape"
      ],
      "metadata": {
        "colab": {
          "base_uri": "https://localhost:8080/"
        },
        "id": "b24AJzQ38V17",
        "outputId": "77ef67f9-bab7-4da4-e4de-9fac79d7f3db"
      },
      "execution_count": 28,
      "outputs": [
        {
          "output_type": "execute_result",
          "data": {
            "text/plain": [
              "(1, 10)"
            ]
          },
          "metadata": {},
          "execution_count": 28
        }
      ]
    },
    {
      "cell_type": "code",
      "source": [
        "a = np.concatenate((a_1,a_2), axis=1)\n",
        "a"
      ],
      "metadata": {
        "colab": {
          "base_uri": "https://localhost:8080/"
        },
        "id": "3Ovb2vt-7Yy9",
        "outputId": "d17fcfa9-5439-442a-a03a-d94c00d3553f"
      },
      "execution_count": 29,
      "outputs": [
        {
          "output_type": "execute_result",
          "data": {
            "text/plain": [
              "array([[0.03469035, 0.75268437, 0.87531154, 0.070726  , 0.48743429,\n",
              "        0.68499242, 0.35791091, 0.94000895, 0.1697126 , 0.67921846,\n",
              "        4.34678827, 3.77574155, 4.67685232, 3.43667384, 3.19231599,\n",
              "        3.68352198, 3.50401283, 3.35793393, 4.66404846, 3.00791598]])"
            ]
          },
          "metadata": {},
          "execution_count": 29
        }
      ]
    },
    {
      "cell_type": "code",
      "source": [
        "b = np.concatenate((b_1,b_2), axis=1)\n",
        "b"
      ],
      "metadata": {
        "colab": {
          "base_uri": "https://localhost:8080/"
        },
        "id": "6psPbJf38DyW",
        "outputId": "ea45d1d8-0d4c-46e5-8bc0-6138d0c7026a"
      },
      "execution_count": 30,
      "outputs": [
        {
          "output_type": "execute_result",
          "data": {
            "text/plain": [
              "array([[7.33868828, 7.75959245, 5.59262272, 6.42270982, 5.33400013,\n",
              "        8.87724871, 6.24702906, 8.4271758 , 7.54124974, 6.53569375,\n",
              "        2.60458277, 2.44726742, 2.33649348, 2.34075202, 2.8604337 ,\n",
              "        2.36797659, 2.37990476, 2.23774693, 2.1385798 , 2.18587848]])"
            ]
          },
          "metadata": {},
          "execution_count": 30
        }
      ]
    },
    {
      "cell_type": "code",
      "source": [
        "data = np.concatenate((a,b),axis=0)\n",
        "data"
      ],
      "metadata": {
        "colab": {
          "base_uri": "https://localhost:8080/"
        },
        "id": "EVyhAF_i9Nl9",
        "outputId": "90507a28-e224-4094-9e9d-24ac915eee6c"
      },
      "execution_count": 33,
      "outputs": [
        {
          "output_type": "execute_result",
          "data": {
            "text/plain": [
              "array([[0.03469035, 0.75268437, 0.87531154, 0.070726  , 0.48743429,\n",
              "        0.68499242, 0.35791091, 0.94000895, 0.1697126 , 0.67921846,\n",
              "        4.34678827, 3.77574155, 4.67685232, 3.43667384, 3.19231599,\n",
              "        3.68352198, 3.50401283, 3.35793393, 4.66404846, 3.00791598],\n",
              "       [7.33868828, 7.75959245, 5.59262272, 6.42270982, 5.33400013,\n",
              "        8.87724871, 6.24702906, 8.4271758 , 7.54124974, 6.53569375,\n",
              "        2.60458277, 2.44726742, 2.33649348, 2.34075202, 2.8604337 ,\n",
              "        2.36797659, 2.37990476, 2.23774693, 2.1385798 , 2.18587848]])"
            ]
          },
          "metadata": {},
          "execution_count": 33
        }
      ]
    },
    {
      "cell_type": "code",
      "source": [
        "data.shape"
      ],
      "metadata": {
        "colab": {
          "base_uri": "https://localhost:8080/"
        },
        "id": "_fY24o9e9UC8",
        "outputId": "d34d2ca7-fd90-4c9a-e43a-a25835e60973"
      },
      "execution_count": 34,
      "outputs": [
        {
          "output_type": "execute_result",
          "data": {
            "text/plain": [
              "(2, 20)"
            ]
          },
          "metadata": {},
          "execution_count": 34
        }
      ]
    },
    {
      "cell_type": "code",
      "source": [
        "target_1 = np.zeros((1,10))\n",
        "target_1"
      ],
      "metadata": {
        "colab": {
          "base_uri": "https://localhost:8080/"
        },
        "id": "mjHnZ33x9kwn",
        "outputId": "a81c77a9-56b8-49f5-bd15-94226cc27a13"
      },
      "execution_count": 36,
      "outputs": [
        {
          "output_type": "execute_result",
          "data": {
            "text/plain": [
              "array([[0., 0., 0., 0., 0., 0., 0., 0., 0., 0.]])"
            ]
          },
          "metadata": {},
          "execution_count": 36
        }
      ]
    },
    {
      "cell_type": "code",
      "source": [
        "target_2 = np.ones((1,10))\n",
        "target_2"
      ],
      "metadata": {
        "colab": {
          "base_uri": "https://localhost:8080/"
        },
        "id": "-8qT_AiD9s2e",
        "outputId": "b9647ec0-8c0c-47d2-9f19-fa6f3010f18b"
      },
      "execution_count": 37,
      "outputs": [
        {
          "output_type": "execute_result",
          "data": {
            "text/plain": [
              "array([[1., 1., 1., 1., 1., 1., 1., 1., 1., 1.]])"
            ]
          },
          "metadata": {},
          "execution_count": 37
        }
      ]
    },
    {
      "cell_type": "code",
      "source": [
        "target = np.concatenate((target_1, target_2), axis=1)\n",
        "target"
      ],
      "metadata": {
        "colab": {
          "base_uri": "https://localhost:8080/"
        },
        "id": "Jkz0Y71x9wmQ",
        "outputId": "e9789ad7-1fa9-444c-dbb4-f694640c30d8"
      },
      "execution_count": 38,
      "outputs": [
        {
          "output_type": "execute_result",
          "data": {
            "text/plain": [
              "array([[0., 0., 0., 0., 0., 0., 0., 0., 0., 0., 1., 1., 1., 1., 1., 1.,\n",
              "        1., 1., 1., 1.]])"
            ]
          },
          "metadata": {},
          "execution_count": 38
        }
      ]
    },
    {
      "cell_type": "code",
      "source": [
        "target.shape"
      ],
      "metadata": {
        "colab": {
          "base_uri": "https://localhost:8080/"
        },
        "id": "OiuMCzDN93fj",
        "outputId": "73951449-dbfd-4670-a2fc-e44fd4ece1cd"
      },
      "execution_count": 39,
      "outputs": [
        {
          "output_type": "execute_result",
          "data": {
            "text/plain": [
              "(1, 20)"
            ]
          },
          "metadata": {},
          "execution_count": 39
        }
      ]
    },
    {
      "cell_type": "code",
      "source": [],
      "metadata": {
        "id": "SpGHqNfu95es"
      },
      "execution_count": null,
      "outputs": []
    }
  ]
}