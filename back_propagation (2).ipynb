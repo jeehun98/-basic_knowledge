{
  "nbformat": 4,
  "nbformat_minor": 0,
  "metadata": {
    "colab": {
      "provenance": [],
      "collapsed_sections": []
    },
    "kernelspec": {
      "name": "python3",
      "display_name": "Python 3"
    },
    "language_info": {
      "name": "python"
    }
  },
  "cells": [
    {
      "cell_type": "markdown",
      "source": [
        "오차 역전파를 통해 오차를 기반으로 가중치를 수정한 후 더 좋은 성능을 낼 수 있도록 모형을 개선한다.\n",
        "\n",
        "임의의 입력 값과 출력값의 설정"
      ],
      "metadata": {
        "id": "NjLAxyO2MoRv"
      }
    },
    {
      "cell_type": "code",
      "execution_count": 1,
      "metadata": {
        "id": "oRIr-snNasdA"
      },
      "outputs": [],
      "source": [
        "import numpy as np"
      ]
    },
    {
      "cell_type": "code",
      "source": [
        "input = np.array([[1,2,3]])\n",
        "input.shape"
      ],
      "metadata": {
        "colab": {
          "base_uri": "https://localhost:8080/"
        },
        "id": "mxJGieDwNiNe",
        "outputId": "77bbdf45-3c0c-48dc-f6c5-6c6a84bd1fb1"
      },
      "execution_count": 2,
      "outputs": [
        {
          "output_type": "execute_result",
          "data": {
            "text/plain": [
              "(1, 3)"
            ]
          },
          "metadata": {},
          "execution_count": 2
        }
      ]
    },
    {
      "cell_type": "code",
      "source": [
        "target = np.array([[0.5,0.1]])\n",
        "target.shape"
      ],
      "metadata": {
        "colab": {
          "base_uri": "https://localhost:8080/"
        },
        "id": "7HYGROypNm4q",
        "outputId": "d7fca17d-cfd8-42f8-8122-784abcf5190c"
      },
      "execution_count": 3,
      "outputs": [
        {
          "output_type": "execute_result",
          "data": {
            "text/plain": [
              "(1, 2)"
            ]
          },
          "metadata": {},
          "execution_count": 3
        }
      ]
    },
    {
      "cell_type": "code",
      "source": [
        "print(input.shape, target.shape)"
      ],
      "metadata": {
        "colab": {
          "base_uri": "https://localhost:8080/"
        },
        "id": "OsAKO100PUev",
        "outputId": "bad14967-5b8c-456b-eb2f-50b87dc3a851"
      },
      "execution_count": 4,
      "outputs": [
        {
          "output_type": "stream",
          "name": "stdout",
          "text": [
            "(1, 3) (1, 2)\n"
          ]
        }
      ]
    },
    {
      "cell_type": "markdown",
      "source": [
        "임의의 가중치 설정"
      ],
      "metadata": {
        "id": "zc95DpoMyAJn"
      }
    },
    {
      "cell_type": "code",
      "source": [
        "w1 = np.array([[0.1,0.3,0.5],[0.2,0.4,0.6]])\n",
        "w1.shape"
      ],
      "metadata": {
        "colab": {
          "base_uri": "https://localhost:8080/"
        },
        "id": "--p1LlbbrkBN",
        "outputId": "d6c9cb10-b135-4ce6-8162-885182b125d7"
      },
      "execution_count": 5,
      "outputs": [
        {
          "output_type": "execute_result",
          "data": {
            "text/plain": [
              "(2, 3)"
            ]
          },
          "metadata": {},
          "execution_count": 5
        }
      ]
    },
    {
      "cell_type": "code",
      "source": [
        "w2 = np.array([[0.7,0.9],[0.8,0.1]])\n",
        "w2.shape"
      ],
      "metadata": {
        "colab": {
          "base_uri": "https://localhost:8080/"
        },
        "id": "QW2ZWWPa1mcQ",
        "outputId": "5b8da1e3-7af1-42f0-8507-b12bb249a164"
      },
      "execution_count": 6,
      "outputs": [
        {
          "output_type": "execute_result",
          "data": {
            "text/plain": [
              "(2, 2)"
            ]
          },
          "metadata": {},
          "execution_count": 6
        }
      ]
    },
    {
      "cell_type": "code",
      "source": [
        "b1 = np.array([[0.5],[0.5]])\n",
        "b1.shape"
      ],
      "metadata": {
        "colab": {
          "base_uri": "https://localhost:8080/"
        },
        "id": "On2noTZF6RnU",
        "outputId": "a168d21f-a50a-4ca5-90c1-a46a4c9c09b0"
      },
      "execution_count": 7,
      "outputs": [
        {
          "output_type": "execute_result",
          "data": {
            "text/plain": [
              "(2, 1)"
            ]
          },
          "metadata": {},
          "execution_count": 7
        }
      ]
    },
    {
      "cell_type": "code",
      "source": [
        "b2 = np.array([[0.3],[0.3]])\n",
        "b2.shape"
      ],
      "metadata": {
        "colab": {
          "base_uri": "https://localhost:8080/"
        },
        "id": "dJpL6rwX6ZaY",
        "outputId": "b90b149b-aae7-413f-89f6-074eb04cde0c"
      },
      "execution_count": 8,
      "outputs": [
        {
          "output_type": "execute_result",
          "data": {
            "text/plain": [
              "(2, 1)"
            ]
          },
          "metadata": {},
          "execution_count": 8
        }
      ]
    },
    {
      "cell_type": "markdown",
      "source": [
        "순전파를 통한 출력값 계산"
      ],
      "metadata": {
        "id": "Znn1P6QJ7BSa"
      }
    },
    {
      "cell_type": "code",
      "source": [
        "print(input.shape,w1.shape)"
      ],
      "metadata": {
        "colab": {
          "base_uri": "https://localhost:8080/"
        },
        "id": "33kDpyYQ7NSK",
        "outputId": "67ebdb91-164c-49fb-ae0d-61ccbaf526f5"
      },
      "execution_count": 9,
      "outputs": [
        {
          "output_type": "stream",
          "name": "stdout",
          "text": [
            "(1, 3) (2, 3)\n"
          ]
        }
      ]
    },
    {
      "cell_type": "code",
      "source": [
        "g11 = w1@(input.T)+b1 # 순전파 계산\n",
        "g11"
      ],
      "metadata": {
        "colab": {
          "base_uri": "https://localhost:8080/"
        },
        "id": "m8kqe2Jj6drH",
        "outputId": "4d3d4b05-74d9-4435-80d3-923435fb779d"
      },
      "execution_count": 10,
      "outputs": [
        {
          "output_type": "execute_result",
          "data": {
            "text/plain": [
              "array([[2.7],\n",
              "       [3.3]])"
            ]
          },
          "metadata": {},
          "execution_count": 10
        }
      ]
    },
    {
      "cell_type": "code",
      "source": [
        "g12 = w1.dot(input.T)+b1\n",
        "g12"
      ],
      "metadata": {
        "colab": {
          "base_uri": "https://localhost:8080/"
        },
        "id": "XtNhM0DA7gZ1",
        "outputId": "a5096e0b-9ca7-419d-e2b4-979f127dca2f"
      },
      "execution_count": 11,
      "outputs": [
        {
          "output_type": "execute_result",
          "data": {
            "text/plain": [
              "array([[2.7],\n",
              "       [3.3]])"
            ]
          },
          "metadata": {},
          "execution_count": 11
        }
      ]
    },
    {
      "cell_type": "code",
      "source": [
        "print(np.equal(g11, g12))"
      ],
      "metadata": {
        "colab": {
          "base_uri": "https://localhost:8080/"
        },
        "id": "z1yAhUE-8GHa",
        "outputId": "031f6375-cac4-41d0-e176-d22987c70e3f"
      },
      "execution_count": 12,
      "outputs": [
        {
          "output_type": "stream",
          "name": "stdout",
          "text": [
            "[[ True]\n",
            " [ True]]\n"
          ]
        }
      ]
    },
    {
      "cell_type": "code",
      "source": [
        "h = 1/(1+np.exp(-g11)) # 활성화 함수, 시그모이드 계산\n",
        "h"
      ],
      "metadata": {
        "colab": {
          "base_uri": "https://localhost:8080/"
        },
        "id": "U_DMc9hT8Iab",
        "outputId": "74e3ec08-b0c9-45a9-f319-41144f7f9fc2"
      },
      "execution_count": 13,
      "outputs": [
        {
          "output_type": "execute_result",
          "data": {
            "text/plain": [
              "array([[0.93702664],\n",
              "       [0.96442881]])"
            ]
          },
          "metadata": {},
          "execution_count": 13
        }
      ]
    },
    {
      "cell_type": "markdown",
      "source": [
        "함수화"
      ],
      "metadata": {
        "id": "05ulwp1B__iC"
      }
    },
    {
      "cell_type": "code",
      "source": [
        "def hidden_cal(x,w,b):\n",
        "  g = w.dot(x)+b\n",
        "  h = 1/(1+np.exp(-g))\n",
        "  return h"
      ],
      "metadata": {
        "id": "yZIHTPT6-2ZW"
      },
      "execution_count": 14,
      "outputs": []
    },
    {
      "cell_type": "code",
      "source": [
        "h2 = hidden_cal(h,w2,b2)\n",
        "h2"
      ],
      "metadata": {
        "colab": {
          "base_uri": "https://localhost:8080/"
        },
        "id": "74tbCwLxAS_f",
        "outputId": "500f145a-1ee4-461b-ac7d-314eb733fdb7"
      },
      "execution_count": 15,
      "outputs": [
        {
          "output_type": "execute_result",
          "data": {
            "text/plain": [
              "array([[0.86103399],\n",
              "       [0.75879129]])"
            ]
          },
          "metadata": {},
          "execution_count": 15
        }
      ]
    },
    {
      "cell_type": "markdown",
      "source": [
        "비용 함수 정의 및 1차 미분식 계산\n",
        "\n",
        "비용 함수로는 오차 제곱합을 사용, 미분식의 계산을 편리하게 하기 위한 1/2 연산의 추가"
      ],
      "metadata": {
        "id": "cMmu78WhApe1"
      }
    },
    {
      "cell_type": "markdown",
      "source": [
        "활성화 함수로 사용하는 시그모이드 함수의 미분"
      ],
      "metadata": {
        "id": "E0kCNB9LX_dN"
      }
    },
    {
      "cell_type": "code",
      "source": [
        "from sympy import Derivative, symbols"
      ],
      "metadata": {
        "id": "QIWZ51EcAYDJ"
      },
      "execution_count": 16,
      "outputs": []
    },
    {
      "cell_type": "code",
      "source": [
        "y1 = symbols('y1')\n",
        "y2 = symbols('y2')\n",
        "\n",
        "t1 = symbols('t1')\n",
        "t2 = symbols('t2')\n",
        "\n",
        "C = 1/2*(((y1-t1)**2)+((y2-t2)**2))"
      ],
      "metadata": {
        "id": "3n4QWBym3boh"
      },
      "execution_count": 24,
      "outputs": []
    },
    {
      "cell_type": "code",
      "source": [
        "fprime = Derivative(C, t1).doit()\n",
        "fprime"
      ],
      "metadata": {
        "colab": {
          "base_uri": "https://localhost:8080/",
          "height": 38
        },
        "id": "EjzAouc46HLB",
        "outputId": "5072b70d-352f-4c40-e27d-52b8a4c9696f"
      },
      "execution_count": 27,
      "outputs": [
        {
          "output_type": "execute_result",
          "data": {
            "text/plain": [
              "1.0*t1 - 1.0*y1"
            ],
            "text/latex": "$\\displaystyle 1.0 t_{1} - 1.0 y_{1}$"
          },
          "metadata": {},
          "execution_count": 27
        }
      ]
    },
    {
      "cell_type": "code",
      "source": [
        "fprime = Derivative(C, t2).doit()\n",
        "fprime"
      ],
      "metadata": {
        "colab": {
          "base_uri": "https://localhost:8080/",
          "height": 38
        },
        "id": "bPGICRUY6LgB",
        "outputId": "d4ca4cdb-495c-427b-a69f-ef113b5082e0"
      },
      "execution_count": 28,
      "outputs": [
        {
          "output_type": "execute_result",
          "data": {
            "text/plain": [
              "1.0*t2 - 1.0*y2"
            ],
            "text/latex": "$\\displaystyle 1.0 t_{2} - 1.0 y_{2}$"
          },
          "metadata": {},
          "execution_count": 28
        }
      ]
    },
    {
      "cell_type": "code",
      "source": [
        "x = symbols('x')"
      ],
      "metadata": {
        "id": "MLnlrgnRYJL0"
      },
      "execution_count": 29,
      "outputs": []
    },
    {
      "cell_type": "code",
      "source": [
        "fx = 1/(1+np.e**-x)"
      ],
      "metadata": {
        "id": "QI9zDVhB5jSK"
      },
      "execution_count": 30,
      "outputs": []
    },
    {
      "cell_type": "code",
      "source": [
        "fprime = Derivative(fx, x).doit()\n",
        "fprime"
      ],
      "metadata": {
        "colab": {
          "base_uri": "https://localhost:8080/",
          "height": 60
        },
        "id": "wSLxR-JKYTuz",
        "outputId": "ac2eabae-4ef6-46b7-9d95-ffa5e3bd93db"
      },
      "execution_count": 31,
      "outputs": [
        {
          "output_type": "execute_result",
          "data": {
            "text/plain": [
              "1.0*2.71828182845905**(-x)/(1 + 2.71828182845905**(-x))**2"
            ],
            "text/latex": "$\\displaystyle \\frac{1.0 \\cdot 2.71828182845905^{- x}}{\\left(1 + 2.71828182845905^{- x}\\right)^{2}}$"
          },
          "metadata": {},
          "execution_count": 31
        }
      ]
    },
    {
      "cell_type": "markdown",
      "source": [
        "역전파를 통한 1차 미분값 구하기"
      ],
      "metadata": {
        "id": "UVmk6Sm4Zc4G"
      }
    },
    {
      "cell_type": "markdown",
      "source": [
        "은닉층에서 출력층까지 연결되는 가중치가 변했을 때 비용 함수의 변화량"
      ],
      "metadata": {
        "id": "1vxqUcIsZh0u"
      }
    },
    {
      "cell_type": "code",
      "source": [
        "target.astype"
      ],
      "metadata": {
        "colab": {
          "base_uri": "https://localhost:8080/"
        },
        "id": "HaqBCr5RasnF",
        "outputId": "9d464f06-3a89-41cf-8b3a-c39268fe7f1e"
      },
      "execution_count": 32,
      "outputs": [
        {
          "output_type": "execute_result",
          "data": {
            "text/plain": [
              "<function ndarray.astype>"
            ]
          },
          "metadata": {},
          "execution_count": 32
        }
      ]
    },
    {
      "cell_type": "code",
      "source": [
        "target[0,0]"
      ],
      "metadata": {
        "colab": {
          "base_uri": "https://localhost:8080/"
        },
        "id": "nNxyTV3magKG",
        "outputId": "72c9e004-e075-4db8-fa99-ab679b3fb58d"
      },
      "execution_count": 33,
      "outputs": [
        {
          "output_type": "execute_result",
          "data": {
            "text/plain": [
              "0.5"
            ]
          },
          "metadata": {},
          "execution_count": 33
        }
      ]
    },
    {
      "cell_type": "code",
      "source": [
        "target[0,1]"
      ],
      "metadata": {
        "colab": {
          "base_uri": "https://localhost:8080/"
        },
        "id": "9YRC37Kpb3ZJ",
        "outputId": "381317e1-6c82-46c3-a674-145d53272b98"
      },
      "execution_count": 34,
      "outputs": [
        {
          "output_type": "execute_result",
          "data": {
            "text/plain": [
              "0.1"
            ]
          },
          "metadata": {},
          "execution_count": 34
        }
      ]
    },
    {
      "cell_type": "code",
      "source": [
        "h2"
      ],
      "metadata": {
        "colab": {
          "base_uri": "https://localhost:8080/"
        },
        "id": "85t-5fIMbwmB",
        "outputId": "f7c81073-4211-4e9c-b81b-faea6ff575d6"
      },
      "execution_count": 35,
      "outputs": [
        {
          "output_type": "execute_result",
          "data": {
            "text/plain": [
              "array([[0.86103399],\n",
              "       [0.75879129]])"
            ]
          },
          "metadata": {},
          "execution_count": 35
        }
      ]
    },
    {
      "cell_type": "code",
      "source": [
        "h2[0]"
      ],
      "metadata": {
        "colab": {
          "base_uri": "https://localhost:8080/"
        },
        "id": "a3W5HWfFbyle",
        "outputId": "67fa1b70-8797-41ea-93cd-ea2d1dc467e2"
      },
      "execution_count": 36,
      "outputs": [
        {
          "output_type": "execute_result",
          "data": {
            "text/plain": [
              "array([0.86103399])"
            ]
          },
          "metadata": {},
          "execution_count": 36
        }
      ]
    },
    {
      "cell_type": "code",
      "source": [
        "h2[1]"
      ],
      "metadata": {
        "colab": {
          "base_uri": "https://localhost:8080/"
        },
        "id": "uSQdeYtIbz4l",
        "outputId": "0018dd84-dd20-47c0-84df-8473caeffde8"
      },
      "execution_count": 37,
      "outputs": [
        {
          "output_type": "execute_result",
          "data": {
            "text/plain": [
              "array([0.75879129])"
            ]
          },
          "metadata": {},
          "execution_count": 37
        }
      ]
    },
    {
      "cell_type": "code",
      "source": [
        "h2[0]-target[0,0]"
      ],
      "metadata": {
        "colab": {
          "base_uri": "https://localhost:8080/"
        },
        "id": "cumbg-4qYuGm",
        "outputId": "27b472f0-f3cd-4c5d-b070-8d0d69a8f2ce"
      },
      "execution_count": 38,
      "outputs": [
        {
          "output_type": "execute_result",
          "data": {
            "text/plain": [
              "array([0.36103399])"
            ]
          },
          "metadata": {},
          "execution_count": 38
        }
      ]
    },
    {
      "cell_type": "code",
      "source": [
        "h2[0]*(1-h2[0])"
      ],
      "metadata": {
        "colab": {
          "base_uri": "https://localhost:8080/"
        },
        "id": "fHNKL2PgbN2m",
        "outputId": "493663c7-1dd1-4638-8544-ce40d0ac771d"
      },
      "execution_count": 39,
      "outputs": [
        {
          "output_type": "execute_result",
          "data": {
            "text/plain": [
              "array([0.11965446])"
            ]
          },
          "metadata": {},
          "execution_count": 39
        }
      ]
    },
    {
      "cell_type": "markdown",
      "source": [
        "거꾸러 올라가는 과정의 수식 계산"
      ],
      "metadata": {
        "id": "pxu58DeXflIR"
      }
    },
    {
      "cell_type": "code",
      "source": [
        "w2 # 은닉층의 가중치 행렬의 전치"
      ],
      "metadata": {
        "colab": {
          "base_uri": "https://localhost:8080/"
        },
        "id": "dMQLd2ztfkau",
        "outputId": "c30e3cc3-da2f-4333-9064-a3336a58ceae"
      },
      "execution_count": 40,
      "outputs": [
        {
          "output_type": "execute_result",
          "data": {
            "text/plain": [
              "array([[0.7, 0.9],\n",
              "       [0.8, 0.1]])"
            ]
          },
          "metadata": {},
          "execution_count": 40
        }
      ]
    },
    {
      "cell_type": "code",
      "source": [
        "h2 # 은닉층의 입력값"
      ],
      "metadata": {
        "colab": {
          "base_uri": "https://localhost:8080/"
        },
        "id": "jWQMdgR4gYNz",
        "outputId": "93a85ecc-ddde-4882-a28b-4a24236de436"
      },
      "execution_count": 41,
      "outputs": [
        {
          "output_type": "execute_result",
          "data": {
            "text/plain": [
              "array([[0.86103399],\n",
              "       [0.75879129]])"
            ]
          },
          "metadata": {},
          "execution_count": 41
        }
      ]
    },
    {
      "cell_type": "code",
      "source": [
        "b2 # 은닉층의 편향 가중치"
      ],
      "metadata": {
        "colab": {
          "base_uri": "https://localhost:8080/"
        },
        "id": "7cUhErrPgm9a",
        "outputId": "0144fbf4-e769-4da9-f3d4-f2a2456e64cb"
      },
      "execution_count": 42,
      "outputs": [
        {
          "output_type": "execute_result",
          "data": {
            "text/plain": [
              "array([[0.3],\n",
              "       [0.3]])"
            ]
          },
          "metadata": {},
          "execution_count": 42
        }
      ]
    },
    {
      "cell_type": "code",
      "source": [
        "print(w2.shape, h2.shape)"
      ],
      "metadata": {
        "colab": {
          "base_uri": "https://localhost:8080/"
        },
        "id": "a4BnCKABh6O5",
        "outputId": "6990b49d-6b5f-4b0b-98d9-162faeee718b"
      },
      "execution_count": 43,
      "outputs": [
        {
          "output_type": "stream",
          "name": "stdout",
          "text": [
            "(2, 2) (2, 1)\n"
          ]
        }
      ]
    },
    {
      "cell_type": "code",
      "source": [
        "w2@(h2)+b2"
      ],
      "metadata": {
        "colab": {
          "base_uri": "https://localhost:8080/"
        },
        "id": "aeZnF8Keg0Vb",
        "outputId": "7a1b75d0-9924-4863-a414-753b058bb4a8"
      },
      "execution_count": 44,
      "outputs": [
        {
          "output_type": "execute_result",
          "data": {
            "text/plain": [
              "array([[1.58563595],\n",
              "       [1.06470632]])"
            ]
          },
          "metadata": {},
          "execution_count": 44
        }
      ]
    },
    {
      "cell_type": "code",
      "source": [
        "print(w2[0,0], h2[0,0])"
      ],
      "metadata": {
        "colab": {
          "base_uri": "https://localhost:8080/"
        },
        "id": "JEXllP_Xhi87",
        "outputId": "fc705fc8-b3f7-474d-b4fc-c59b922cc29d"
      },
      "execution_count": 45,
      "outputs": [
        {
          "output_type": "stream",
          "name": "stdout",
          "text": [
            "0.7 0.8610339864424298\n"
          ]
        }
      ]
    },
    {
      "cell_type": "code",
      "source": [
        "w2[0,0]*h2[0,0]"
      ],
      "metadata": {
        "colab": {
          "base_uri": "https://localhost:8080/"
        },
        "id": "4AVggMAFhVaf",
        "outputId": "edd15bee-7d44-4e56-f469-c3514bd7cdec"
      },
      "execution_count": 46,
      "outputs": [
        {
          "output_type": "execute_result",
          "data": {
            "text/plain": [
              "0.6027237905097008"
            ]
          },
          "metadata": {},
          "execution_count": 46
        }
      ]
    },
    {
      "cell_type": "code",
      "source": [
        "w2[0,1]*h2[1,0]"
      ],
      "metadata": {
        "colab": {
          "base_uri": "https://localhost:8080/"
        },
        "id": "o0Zj3RrsiDNq",
        "outputId": "859bb392-96fd-4b2d-8d1b-69acb4c3e039"
      },
      "execution_count": 47,
      "outputs": [
        {
          "output_type": "execute_result",
          "data": {
            "text/plain": [
              "0.6829121630087827"
            ]
          },
          "metadata": {},
          "execution_count": 47
        }
      ]
    },
    {
      "cell_type": "code",
      "source": [
        "w2[0,0]*h2[0,0]+w2[0,1]*h2[1,0]+b2[0]"
      ],
      "metadata": {
        "colab": {
          "base_uri": "https://localhost:8080/"
        },
        "id": "QR6HB1miiLD7",
        "outputId": "9912ddd2-8726-4841-ba6f-c36084e19f97"
      },
      "execution_count": 48,
      "outputs": [
        {
          "output_type": "execute_result",
          "data": {
            "text/plain": [
              "array([1.58563595])"
            ]
          },
          "metadata": {},
          "execution_count": 48
        }
      ]
    },
    {
      "cell_type": "markdown",
      "source": [
        "위 수식을 미분한 값을 얻기 위한 함수 작성\n",
        "\n",
        "행렬곱을 펼친 수식을 얻어야 한다.\n"
      ],
      "metadata": {
        "id": "sfoLz--imCtC"
      }
    },
    {
      "cell_type": "code",
      "source": [
        "x = symbols('x')\n",
        "y = symbols('y')\n",
        "\n",
        "b = x+y\n",
        "c = b+y\n",
        "c"
      ],
      "metadata": {
        "colab": {
          "base_uri": "https://localhost:8080/",
          "height": 38
        },
        "id": "k1oi4B5RKOqu",
        "outputId": "15121194-cdd4-426e-9c31-f7d9d13bbd1a"
      },
      "execution_count": 49,
      "outputs": [
        {
          "output_type": "execute_result",
          "data": {
            "text/plain": [
              "x + 2*y"
            ],
            "text/latex": "$\\displaystyle x + 2 y$"
          },
          "metadata": {},
          "execution_count": 49
        }
      ]
    },
    {
      "cell_type": "code",
      "source": [
        "def propagation_diff(w, h, b):\n",
        "  \"\"\"\n",
        "  행렬 연산을 펼친 수식(문자열)을 얻기 위한 함수\n",
        "  Arguments:\n",
        "    w : 가중치 행렬의 전치\n",
        "    h : 입력 데이터\n",
        "    b : 가중치 편향값\n",
        "  Return:\n",
        "    list_num : 수식 문자열\n",
        "  \"\"\"\n",
        "  num_unit = w.shape[1] # 은닉층의 unit 개수\n",
        "  num_output = w.shape[0] # 출력층의 unit 개수, bias의 개수\n",
        "\n",
        "  # 각 행렬의 기호 변수화\n",
        "  for i in range(num_unit):\n",
        "    exec(f\"b{i} = symbols('b{i}')\")\n",
        "    exec(f\"h{i}{0} = symbols('h{i}{0}')\")\n",
        "    for j in range(num_output):\n",
        "      exec(f\"w{i}{j}=symbols('w{i}{j}')\")\n",
        "  \n",
        "  # 각 기호 변수들에 대한 미분 시행\n",
        "  list_num = []\n",
        "  list_mul = 0\n",
        "\n",
        "  for i in range(num_unit):\n",
        "    # 출력층의 i번째 입력 수식값 생성\n",
        "    list_mul = eval(f\"b{i}\")    \n",
        "    for j in range(num_output):\n",
        "      list_mul += eval(f\"w{i}{j}*h{j}{0}\")\n",
        "\n",
        "    list_num.append(list_mul)\n",
        "    z1 = 0\n",
        "\n",
        "  return list_num"
      ],
      "metadata": {
        "id": "dLkQmr3dmCDA"
      },
      "execution_count": 50,
      "outputs": []
    },
    {
      "cell_type": "code",
      "source": [
        "list_mul = propagation_diff(w2, h2, b2)\n",
        "list_mul"
      ],
      "metadata": {
        "colab": {
          "base_uri": "https://localhost:8080/"
        },
        "id": "l8wmYmXG6n2s",
        "outputId": "04e6f42b-274f-4783-91df-65c0c30d6115"
      },
      "execution_count": 51,
      "outputs": [
        {
          "output_type": "execute_result",
          "data": {
            "text/plain": [
              "[b0 + h00*w00 + h10*w01, b1 + h00*w10 + h10*w11]"
            ]
          },
          "metadata": {},
          "execution_count": 51
        }
      ]
    },
    {
      "cell_type": "code",
      "source": [
        "def propagation_matrix_element(matrix_list, num_unit, num_output):\n",
        "  \"\"\"\n",
        "  Arguments:\n",
        "    matrix_list : \n",
        "    num_unit : \n",
        "    numt_output :\n",
        "  \"\"\"\n",
        "  # 각 행렬의 기호 변수화\n",
        "  for i in range(num_unit):\n",
        "    exec(f\"b{i} = symbols('b{i}')\")\n",
        "    exec(f\"h{i}{0} = symbols('h{i}{0}')\")\n",
        "    for j in range(num_output):\n",
        "      exec(f\"w{i}{j}=symbols('w{i}{j}')\")\n",
        "\n",
        "  fprime = []\n",
        "\n",
        "  for i in range(num_unit):\n",
        "    for j in range(num_output):\n",
        "      fprime.append(eval(f\"Derivative({matrix_list}[{i}], 'w{i}{j}').doit()\"))\n",
        "    fprime.append(eval(f\"Derivative({matrix_list}[{i}], 'b{i}{0}').doit()\"))\n",
        "\n",
        "  return fprime"
      ],
      "metadata": {
        "id": "aUPp1pbonLmp"
      },
      "execution_count": 63,
      "outputs": []
    },
    {
      "cell_type": "code",
      "source": [
        "list = propagation_matrix_element(list_mul, w2.shape[0], w2.shape[1])\n",
        "for i in list:\n",
        "  print(i)"
      ],
      "metadata": {
        "colab": {
          "base_uri": "https://localhost:8080/"
        },
        "id": "3bIPx_ee1rEl",
        "outputId": "78d346d4-64e0-4905-815e-cbdd8163db2a"
      },
      "execution_count": 64,
      "outputs": [
        {
          "output_type": "stream",
          "name": "stdout",
          "text": [
            "h00\n",
            "h10\n",
            "0\n",
            "h00\n",
            "h10\n",
            "0\n"
          ]
        }
      ]
    },
    {
      "cell_type": "code",
      "source": [
        "list_mul[0]"
      ],
      "metadata": {
        "id": "qzdr4r3kYWL-"
      },
      "execution_count": null,
      "outputs": []
    },
    {
      "cell_type": "code",
      "source": [
        "list_mul[1]"
      ],
      "metadata": {
        "id": "s9_8XcJf1nWO"
      },
      "execution_count": null,
      "outputs": []
    },
    {
      "cell_type": "code",
      "source": [
        "fprime = Derivative(list_mul[0], 'w00').doit()\n",
        "fprime"
      ],
      "metadata": {
        "id": "q-eDOXQA8gn6"
      },
      "execution_count": null,
      "outputs": []
    },
    {
      "cell_type": "code",
      "source": [
        "bw41 = (h2[0]-target[0,0]) * (h2[0]*(1-h2[0])) * h[0]\n",
        "bw41"
      ],
      "metadata": {
        "id": "MqydW3GwbZHn"
      },
      "execution_count": null,
      "outputs": []
    },
    {
      "cell_type": "code",
      "source": [
        "bw42 = (h2[1]-target[0,1]) * (h2[1]*(1-h2[1])) * h[0]\n",
        "bw42"
      ],
      "metadata": {
        "id": "Wz5xBz2pbjgy"
      },
      "execution_count": null,
      "outputs": []
    },
    {
      "cell_type": "code",
      "source": [
        "bw51 = (h2[0]-target[0,0]) * (h2[0]*(1-h2[0])) * h[1]\n",
        "bw51"
      ],
      "metadata": {
        "id": "IURqIGImbpWC"
      },
      "execution_count": null,
      "outputs": []
    },
    {
      "cell_type": "code",
      "source": [
        "bw52 = (h2[1]-target[0,1]) * (h2[1]*(1-h2[1])) * h[1]\n",
        "bw52"
      ],
      "metadata": {
        "id": "ouJryCUacdKE"
      },
      "execution_count": null,
      "outputs": []
    },
    {
      "cell_type": "code",
      "source": [
        "bb2 = (h2[0]-target[0,0]) * (h2[0]*(1-h2[0])) * 1 + (h2[1]-target[0,1]) * (h2[1]*(1-h2[1])) * 1\n",
        "bb2"
      ],
      "metadata": {
        "id": "C9AcphpqdBK0"
      },
      "execution_count": null,
      "outputs": []
    },
    {
      "cell_type": "markdown",
      "source": [
        "은닉층에서 입력층으로 거슬러 올라가는 계산"
      ],
      "metadata": {
        "id": "mjgAwfPDfLT9"
      }
    },
    {
      "cell_type": "code",
      "source": [],
      "metadata": {
        "id": "fAmYgLW5e-ko"
      },
      "execution_count": null,
      "outputs": []
    }
  ]
}