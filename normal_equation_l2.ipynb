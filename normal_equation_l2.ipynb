{
  "nbformat": 4,
  "nbformat_minor": 0,
  "metadata": {
    "colab": {
      "provenance": [],
      "collapsed_sections": []
    },
    "kernelspec": {
      "name": "python3",
      "display_name": "Python 3"
    },
    "language_info": {
      "name": "python"
    }
  },
  "cells": [
    {
      "cell_type": "markdown",
      "source": [
        "무작위 선형 데이터 생성"
      ],
      "metadata": {
        "id": "svT89H_g63AC"
      }
    },
    {
      "cell_type": "code",
      "execution_count": 27,
      "metadata": {
        "id": "8rcyhCzY2nMx"
      },
      "outputs": [],
      "source": [
        "import numpy as np\n",
        "\n",
        "X = 2*np.random.rand(100,1)\n",
        "y = 4+3*X+np.random.randn(100,1)"
      ]
    },
    {
      "cell_type": "markdown",
      "source": [
        "정규 방정식을 사용한 가중치 계산\n",
        "\n",
        "1.최소 제곱법을 통해서 오차의 제곱합을 구한다.\n",
        "2.가중치 변화에 따른 오차의 변화가 최소가 되는 가중치 탐색(미분한 값이 0이 되도록)"
      ],
      "metadata": {
        "id": "2oo5k87k6889"
      }
    },
    {
      "cell_type": "code",
      "source": [
        "X_b = np.c_[np.ones((100, 1)), X]\n",
        "theta_best = np.linalg.inv(X_b.T.dot(X_b)).dot(X_b.T).dot(y)"
      ],
      "metadata": {
        "id": "A68kVQWo5_W6"
      },
      "execution_count": 28,
      "outputs": []
    },
    {
      "cell_type": "code",
      "source": [
        "theta_best"
      ],
      "metadata": {
        "colab": {
          "base_uri": "https://localhost:8080/"
        },
        "id": "MIIT5jEj7N9q",
        "outputId": "2c3fe67f-8d5b-42ae-d0ca-0b2152465f03"
      },
      "execution_count": 29,
      "outputs": [
        {
          "output_type": "execute_result",
          "data": {
            "text/plain": [
              "array([[3.89535721],\n",
              "       [3.06814555]])"
            ]
          },
          "metadata": {},
          "execution_count": 29
        }
      ]
    },
    {
      "cell_type": "markdown",
      "source": [
        "릿지회귀 분석(L2 제약식)\n",
        "\n",
        "회귀 분석 최적화 모형에서 가중치 요소 제곱합이 t보다 작다는 제약식이 추가된 형태\n",
        "\n",
        "shrinkage parameter 를 통한 릿지 회귀 조정"
      ],
      "metadata": {
        "id": "Ek-8Dpzq9JkW"
      }
    },
    {
      "cell_type": "code",
      "source": [
        "shrinkage_parameter = 0.1"
      ],
      "metadata": {
        "id": "qH-YeCZB7PBr"
      },
      "execution_count": 30,
      "outputs": []
    },
    {
      "cell_type": "markdown",
      "source": [],
      "metadata": {
        "id": "-pLbLMGT9xiA"
      }
    },
    {
      "cell_type": "markdown",
      "source": [
        "단위 행렬 생성, shtinkage_parameter와의 곱"
      ],
      "metadata": {
        "id": "l6tsxC9A9xmU"
      }
    },
    {
      "cell_type": "code",
      "source": [
        "X_b.shape"
      ],
      "metadata": {
        "colab": {
          "base_uri": "https://localhost:8080/"
        },
        "id": "7zRiUnnU-WXD",
        "outputId": "a6762d85-34a3-490e-f774-ffe078f7412d"
      },
      "execution_count": 31,
      "outputs": [
        {
          "output_type": "execute_result",
          "data": {
            "text/plain": [
              "(100, 2)"
            ]
          },
          "metadata": {},
          "execution_count": 31
        }
      ]
    },
    {
      "cell_type": "code",
      "source": [
        "unit_matrix = np.eye(2)\n",
        "unit_matrix = unit_matrix*shrinkage_parameter\n",
        "unit_matrix"
      ],
      "metadata": {
        "colab": {
          "base_uri": "https://localhost:8080/"
        },
        "id": "W1xXRw_p9mGj",
        "outputId": "9a0bad66-cf96-41f8-e969-2488a3a964a1"
      },
      "execution_count": 32,
      "outputs": [
        {
          "output_type": "execute_result",
          "data": {
            "text/plain": [
              "array([[0.1, 0. ],\n",
              "       [0. , 0.1]])"
            ]
          },
          "metadata": {},
          "execution_count": 32
        }
      ]
    },
    {
      "cell_type": "markdown",
      "source": [
        "기존의 정규방정식에\n",
        "오차 제곱에 shrinkage_parameter의 합을 더한 값에 연산을 수행한다."
      ],
      "metadata": {
        "id": "-KaQcpQV_usn"
      }
    },
    {
      "cell_type": "code",
      "source": [
        "theta_best_l2 = np.linalg.inv(X_b.T.dot(X_b)+unit_matrix).dot(X_b.T).dot(y)\n",
        "theta_best_l2"
      ],
      "metadata": {
        "colab": {
          "base_uri": "https://localhost:8080/"
        },
        "id": "M09fKpoj-sUb",
        "outputId": "90fb8167-fbb2-431c-d815-2ced687275c8"
      },
      "execution_count": 33,
      "outputs": [
        {
          "output_type": "execute_result",
          "data": {
            "text/plain": [
              "array([[3.88884539],\n",
              "       [3.0707521 ]])"
            ]
          },
          "metadata": {},
          "execution_count": 33
        }
      ]
    },
    {
      "cell_type": "code",
      "source": [
        "from sklearn.linear_model import LinearRegression\n",
        "lin_reg = LinearRegression()\n",
        "lin_reg.fit(X, y)"
      ],
      "metadata": {
        "colab": {
          "base_uri": "https://localhost:8080/"
        },
        "id": "j9IOM6jsE9lZ",
        "outputId": "4441a32c-5762-4324-e4f2-3c4a3d16835a"
      },
      "execution_count": 34,
      "outputs": [
        {
          "output_type": "execute_result",
          "data": {
            "text/plain": [
              "LinearRegression()"
            ]
          },
          "metadata": {},
          "execution_count": 34
        }
      ]
    },
    {
      "cell_type": "code",
      "source": [
        "print(lin_reg.intercept_, lin_reg.coef_, theta_best)"
      ],
      "metadata": {
        "colab": {
          "base_uri": "https://localhost:8080/"
        },
        "id": "eQxqfacrHvLs",
        "outputId": "2547491b-4012-4132-9c5a-4f94283cb1db"
      },
      "execution_count": 35,
      "outputs": [
        {
          "output_type": "stream",
          "name": "stdout",
          "text": [
            "[3.89535721] [[3.06814555]] [[3.89535721]\n",
            " [3.06814555]]\n"
          ]
        }
      ]
    },
    {
      "cell_type": "code",
      "source": [
        "from sklearn.linear_model import Lasso\n",
        "lin_reg_l2 = Lasso(alpha=shrinkage_parameter)\n",
        "lin_reg_l2.fit(X, y)"
      ],
      "metadata": {
        "colab": {
          "base_uri": "https://localhost:8080/"
        },
        "id": "eF6LeVGIHyKG",
        "outputId": "b8ae802e-62dc-4875-e248-fcfa48b5c7fc"
      },
      "execution_count": 36,
      "outputs": [
        {
          "output_type": "execute_result",
          "data": {
            "text/plain": [
              "Lasso(alpha=0.1)"
            ]
          },
          "metadata": {},
          "execution_count": 36
        }
      ]
    },
    {
      "cell_type": "code",
      "source": [
        "print(lin_reg_l2.intercept_, lin_reg_l2.coef_, theta_best_l2)"
      ],
      "metadata": {
        "colab": {
          "base_uri": "https://localhost:8080/"
        },
        "id": "rvs8phPvIZmS",
        "outputId": "93f3d870-9381-495a-bce8-389fab0731c2"
      },
      "execution_count": 37,
      "outputs": [
        {
          "output_type": "stream",
          "name": "stdout",
          "text": [
            "[4.20665598] [2.75879549] [[3.88884539]\n",
            " [3.0707521 ]]\n"
          ]
        }
      ]
    },
    {
      "cell_type": "code",
      "source": [],
      "metadata": {
        "id": "Xc9iiXxKIpyx"
      },
      "execution_count": 37,
      "outputs": []
    }
  ]
}