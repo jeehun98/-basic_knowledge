{
  "nbformat": 4,
  "nbformat_minor": 0,
  "metadata": {
    "colab": {
      "provenance": []
    },
    "kernelspec": {
      "name": "python3",
      "display_name": "Python 3"
    },
    "language_info": {
      "name": "python"
    }
  },
  "cells": [
    {
      "cell_type": "code",
      "execution_count": 50,
      "metadata": {
        "id": "lJUuIXDp5HnL"
      },
      "outputs": [],
      "source": [
        "import numpy as np"
      ]
    },
    {
      "cell_type": "code",
      "source": [
        "np.random.random(10)"
      ],
      "metadata": {
        "colab": {
          "base_uri": "https://localhost:8080/"
        },
        "id": "OePTjgw55a4q",
        "outputId": "af1e0e51-7d42-4878-e166-2d57e6dd2b1f"
      },
      "execution_count": 51,
      "outputs": [
        {
          "output_type": "execute_result",
          "data": {
            "text/plain": [
              "array([0.27220456, 0.78783918, 0.64947451, 0.70427606, 0.40487792,\n",
              "       0.34691954, 0.54926097, 0.84765772, 0.09076463, 0.77736874])"
            ]
          },
          "metadata": {},
          "execution_count": 51
        }
      ]
    },
    {
      "cell_type": "code",
      "source": [
        "a_1 = np.random.uniform(0,1,10).reshape(1,10)\n",
        "a_1"
      ],
      "metadata": {
        "colab": {
          "base_uri": "https://localhost:8080/"
        },
        "id": "k2uQzXSw58kE",
        "outputId": "5a61d058-64dd-43f2-f73c-a18f4a556212"
      },
      "execution_count": 52,
      "outputs": [
        {
          "output_type": "execute_result",
          "data": {
            "text/plain": [
              "array([[0.71442361, 0.75488455, 0.62151421, 0.06805095, 0.45489752,\n",
              "        0.05403986, 0.07613687, 0.89981016, 0.64713015, 0.7603995 ]])"
            ]
          },
          "metadata": {},
          "execution_count": 52
        }
      ]
    },
    {
      "cell_type": "code",
      "source": [
        "a_2 = np.random.uniform(3,5,10).reshape(1,10)\n",
        "a_2"
      ],
      "metadata": {
        "colab": {
          "base_uri": "https://localhost:8080/"
        },
        "id": "ANjtDYti6B7N",
        "outputId": "eb8f3693-dd9e-493c-d340-a7e43f0d6c0e"
      },
      "execution_count": 53,
      "outputs": [
        {
          "output_type": "execute_result",
          "data": {
            "text/plain": [
              "array([[4.63371934, 3.25875968, 4.03362091, 4.0596316 , 4.39204431,\n",
              "        4.33713736, 3.80827041, 4.33832601, 4.58756305, 3.78357046]])"
            ]
          },
          "metadata": {},
          "execution_count": 53
        }
      ]
    },
    {
      "cell_type": "code",
      "source": [
        "b_1 = np.random.uniform(5,10,10).reshape(1,10)\n",
        "b_1"
      ],
      "metadata": {
        "colab": {
          "base_uri": "https://localhost:8080/"
        },
        "id": "jT2VAusV68Yt",
        "outputId": "b72b299c-e03e-455b-fda1-1c77bc4587ba"
      },
      "execution_count": 54,
      "outputs": [
        {
          "output_type": "execute_result",
          "data": {
            "text/plain": [
              "array([[6.82414591, 8.0779028 , 8.64490415, 9.44497234, 7.0608993 ,\n",
              "        5.46319348, 8.48616045, 9.42329685, 7.23387653, 9.48796207]])"
            ]
          },
          "metadata": {},
          "execution_count": 54
        }
      ]
    },
    {
      "cell_type": "code",
      "source": [
        "b_2 = np.random.uniform(2,3,10).reshape(1,10)\n",
        "b_2"
      ],
      "metadata": {
        "colab": {
          "base_uri": "https://localhost:8080/"
        },
        "id": "7RRxL4_17W11",
        "outputId": "540ccaaa-b5e4-4705-b201-0f4c1ac5195d"
      },
      "execution_count": 55,
      "outputs": [
        {
          "output_type": "execute_result",
          "data": {
            "text/plain": [
              "array([[2.38117214, 2.47508694, 2.05739373, 2.40231553, 2.56161266,\n",
              "        2.38054581, 2.2410456 , 2.43641124, 2.64119909, 2.75295221]])"
            ]
          },
          "metadata": {},
          "execution_count": 55
        }
      ]
    },
    {
      "cell_type": "code",
      "source": [
        "a_1.shape"
      ],
      "metadata": {
        "colab": {
          "base_uri": "https://localhost:8080/"
        },
        "id": "b24AJzQ38V17",
        "outputId": "1cc44d38-274e-40c1-adaa-9d94fa24373b"
      },
      "execution_count": 56,
      "outputs": [
        {
          "output_type": "execute_result",
          "data": {
            "text/plain": [
              "(1, 10)"
            ]
          },
          "metadata": {},
          "execution_count": 56
        }
      ]
    },
    {
      "cell_type": "code",
      "source": [
        "a = np.concatenate((a_1,a_2), axis=1)\n",
        "a"
      ],
      "metadata": {
        "colab": {
          "base_uri": "https://localhost:8080/"
        },
        "id": "3Ovb2vt-7Yy9",
        "outputId": "a327ebd7-ceb5-48ed-ff01-e41f63012b13"
      },
      "execution_count": 57,
      "outputs": [
        {
          "output_type": "execute_result",
          "data": {
            "text/plain": [
              "array([[0.71442361, 0.75488455, 0.62151421, 0.06805095, 0.45489752,\n",
              "        0.05403986, 0.07613687, 0.89981016, 0.64713015, 0.7603995 ,\n",
              "        4.63371934, 3.25875968, 4.03362091, 4.0596316 , 4.39204431,\n",
              "        4.33713736, 3.80827041, 4.33832601, 4.58756305, 3.78357046]])"
            ]
          },
          "metadata": {},
          "execution_count": 57
        }
      ]
    },
    {
      "cell_type": "code",
      "source": [
        "b = np.concatenate((b_1,b_2), axis=1)\n",
        "b"
      ],
      "metadata": {
        "colab": {
          "base_uri": "https://localhost:8080/"
        },
        "id": "6psPbJf38DyW",
        "outputId": "5cf32125-c4c7-496b-d207-45ad56b12795"
      },
      "execution_count": 58,
      "outputs": [
        {
          "output_type": "execute_result",
          "data": {
            "text/plain": [
              "array([[6.82414591, 8.0779028 , 8.64490415, 9.44497234, 7.0608993 ,\n",
              "        5.46319348, 8.48616045, 9.42329685, 7.23387653, 9.48796207,\n",
              "        2.38117214, 2.47508694, 2.05739373, 2.40231553, 2.56161266,\n",
              "        2.38054581, 2.2410456 , 2.43641124, 2.64119909, 2.75295221]])"
            ]
          },
          "metadata": {},
          "execution_count": 58
        }
      ]
    },
    {
      "cell_type": "code",
      "source": [
        "data = np.concatenate((a,b),axis=0)\n",
        "data"
      ],
      "metadata": {
        "colab": {
          "base_uri": "https://localhost:8080/"
        },
        "id": "EVyhAF_i9Nl9",
        "outputId": "96c9a22e-59c8-409d-9537-b9a9c1a9ffc0"
      },
      "execution_count": 59,
      "outputs": [
        {
          "output_type": "execute_result",
          "data": {
            "text/plain": [
              "array([[0.71442361, 0.75488455, 0.62151421, 0.06805095, 0.45489752,\n",
              "        0.05403986, 0.07613687, 0.89981016, 0.64713015, 0.7603995 ,\n",
              "        4.63371934, 3.25875968, 4.03362091, 4.0596316 , 4.39204431,\n",
              "        4.33713736, 3.80827041, 4.33832601, 4.58756305, 3.78357046],\n",
              "       [6.82414591, 8.0779028 , 8.64490415, 9.44497234, 7.0608993 ,\n",
              "        5.46319348, 8.48616045, 9.42329685, 7.23387653, 9.48796207,\n",
              "        2.38117214, 2.47508694, 2.05739373, 2.40231553, 2.56161266,\n",
              "        2.38054581, 2.2410456 , 2.43641124, 2.64119909, 2.75295221]])"
            ]
          },
          "metadata": {},
          "execution_count": 59
        }
      ]
    },
    {
      "cell_type": "code",
      "source": [
        "data.shape"
      ],
      "metadata": {
        "colab": {
          "base_uri": "https://localhost:8080/"
        },
        "id": "_fY24o9e9UC8",
        "outputId": "2b3f7c95-604e-4cc7-cb68-0f78cfb2abd7"
      },
      "execution_count": 60,
      "outputs": [
        {
          "output_type": "execute_result",
          "data": {
            "text/plain": [
              "(2, 20)"
            ]
          },
          "metadata": {},
          "execution_count": 60
        }
      ]
    },
    {
      "cell_type": "code",
      "source": [
        "target_1 = np.zeros((1,10))\n",
        "target_1"
      ],
      "metadata": {
        "colab": {
          "base_uri": "https://localhost:8080/"
        },
        "id": "mjHnZ33x9kwn",
        "outputId": "ee66e533-f31a-47f9-af16-0b657279c5e3"
      },
      "execution_count": 61,
      "outputs": [
        {
          "output_type": "execute_result",
          "data": {
            "text/plain": [
              "array([[0., 0., 0., 0., 0., 0., 0., 0., 0., 0.]])"
            ]
          },
          "metadata": {},
          "execution_count": 61
        }
      ]
    },
    {
      "cell_type": "code",
      "source": [
        "target_2 = np.ones((1,10))\n",
        "target_2"
      ],
      "metadata": {
        "colab": {
          "base_uri": "https://localhost:8080/"
        },
        "id": "-8qT_AiD9s2e",
        "outputId": "5d102602-e266-4547-ebbe-d3cca064bc67"
      },
      "execution_count": 62,
      "outputs": [
        {
          "output_type": "execute_result",
          "data": {
            "text/plain": [
              "array([[1., 1., 1., 1., 1., 1., 1., 1., 1., 1.]])"
            ]
          },
          "metadata": {},
          "execution_count": 62
        }
      ]
    },
    {
      "cell_type": "code",
      "source": [
        "target = np.concatenate((target_1, target_2), axis=1)\n",
        "target"
      ],
      "metadata": {
        "colab": {
          "base_uri": "https://localhost:8080/"
        },
        "id": "Jkz0Y71x9wmQ",
        "outputId": "e709c137-d202-4c4a-d673-ba03663d5a5d"
      },
      "execution_count": 63,
      "outputs": [
        {
          "output_type": "execute_result",
          "data": {
            "text/plain": [
              "array([[0., 0., 0., 0., 0., 0., 0., 0., 0., 0., 1., 1., 1., 1., 1., 1.,\n",
              "        1., 1., 1., 1.]])"
            ]
          },
          "metadata": {},
          "execution_count": 63
        }
      ]
    },
    {
      "cell_type": "code",
      "source": [
        "target.shape"
      ],
      "metadata": {
        "colab": {
          "base_uri": "https://localhost:8080/"
        },
        "id": "OiuMCzDN93fj",
        "outputId": "ab1dc907-4f0e-401c-b2d8-0e29399df771"
      },
      "execution_count": 64,
      "outputs": [
        {
          "output_type": "execute_result",
          "data": {
            "text/plain": [
              "(1, 20)"
            ]
          },
          "metadata": {},
          "execution_count": 64
        }
      ]
    },
    {
      "cell_type": "code",
      "source": [
        "import matplotlib.pyplot as plt"
      ],
      "metadata": {
        "id": "SpGHqNfu95es"
      },
      "execution_count": 65,
      "outputs": []
    },
    {
      "cell_type": "code",
      "source": [
        "plt.scatter(data[0],data[1])\n",
        "plt.show"
      ],
      "metadata": {
        "colab": {
          "base_uri": "https://localhost:8080/",
          "height": 283
        },
        "id": "xoVyqVTQqj7t",
        "outputId": "7ad35c2d-223d-420d-f0ee-c2f1bb0863d9"
      },
      "execution_count": 66,
      "outputs": [
        {
          "output_type": "execute_result",
          "data": {
            "text/plain": [
              "<function matplotlib.pyplot.show(*args, **kw)>"
            ]
          },
          "metadata": {},
          "execution_count": 66
        },
        {
          "output_type": "display_data",
          "data": {
            "text/plain": [
              "<Figure size 432x288 with 1 Axes>"
            ],
            "image/png": "[encoded data removed]"
          },
          "metadata": {
            "needs_background": "light"
          }
        }
      ]
    },
    {
      "cell_type": "code",
      "source": [
        "class normal_equation:\n",
        "  x_b = 0\n",
        "  w = 0\n",
        "\n",
        "  def __init__(self):\n",
        "    self.x_b = 0\n",
        "    self.w = 0\n",
        "\n",
        "  def linear_regression(self, x, y):\n",
        "    \"\"\"\n",
        "    선형 회귀를 위한 정규 방정식 함수\n",
        "    Args:\n",
        "      x : 입력 데이터\n",
        "      y : 타깃 데이터\n",
        "    Return:\n",
        "      w : 가중치 추정량\n",
        "    \"\"\"\n",
        "    self.x_b = np.c_[x, np.ones((x.shape[0],1))] # 입력 데이터에 편향값을 위한 1의 추가\n",
        "    self.w = np.linalg.inv(self.x_b.T.dot(self.x_b)).dot(self.x_b.T).dot(y) # 정규 방정식의 수행\n",
        "\n",
        "    return self.w\n",
        "\n",
        "  def predict(self, x):\n",
        "    \"\"\"\n",
        "    입력값의 예측값 출력\n",
        "    \"\"\"\n",
        "    x_b = np.c_[x, np.ones((x.shape[0],1))]\n",
        "    return (x_b).dot(self.w)"
      ],
      "metadata": {
        "id": "vjdNSv1cqmtK"
      },
      "execution_count": 67,
      "outputs": []
    },
    {
      "cell_type": "code",
      "source": [
        "x_1 = data[0][:10]\n",
        "x_1"
      ],
      "metadata": {
        "colab": {
          "base_uri": "https://localhost:8080/"
        },
        "id": "yp4SkyNP-iFV",
        "outputId": "180c71b4-2b48-4900-9394-fb5b451578ec"
      },
      "execution_count": 68,
      "outputs": [
        {
          "output_type": "execute_result",
          "data": {
            "text/plain": [
              "array([0.71442361, 0.75488455, 0.62151421, 0.06805095, 0.45489752,\n",
              "       0.05403986, 0.07613687, 0.89981016, 0.64713015, 0.7603995 ])"
            ]
          },
          "metadata": {},
          "execution_count": 68
        }
      ]
    },
    {
      "cell_type": "code",
      "source": [
        "y_1 = data[1][:10]\n",
        "y_1"
      ],
      "metadata": {
        "colab": {
          "base_uri": "https://localhost:8080/"
        },
        "id": "BgIfgK4A_dct",
        "outputId": "d9265963-80f8-4816-c5b2-14facb0a9c99"
      },
      "execution_count": 69,
      "outputs": [
        {
          "output_type": "execute_result",
          "data": {
            "text/plain": [
              "array([6.82414591, 8.0779028 , 8.64490415, 9.44497234, 7.0608993 ,\n",
              "       5.46319348, 8.48616045, 9.42329685, 7.23387653, 9.48796207])"
            ]
          },
          "metadata": {},
          "execution_count": 69
        }
      ]
    },
    {
      "cell_type": "code",
      "source": [
        "x_2 = data[0][10:]\n",
        "x_2"
      ],
      "metadata": {
        "colab": {
          "base_uri": "https://localhost:8080/"
        },
        "id": "Rd6BoNDY_Yyb",
        "outputId": "7a202cec-4689-4438-ab5a-8eb785b6e973"
      },
      "execution_count": 70,
      "outputs": [
        {
          "output_type": "execute_result",
          "data": {
            "text/plain": [
              "array([4.63371934, 3.25875968, 4.03362091, 4.0596316 , 4.39204431,\n",
              "       4.33713736, 3.80827041, 4.33832601, 4.58756305, 3.78357046])"
            ]
          },
          "metadata": {},
          "execution_count": 70
        }
      ]
    },
    {
      "cell_type": "code",
      "source": [
        "y_2 = data[1][10:]\n",
        "y_2"
      ],
      "metadata": {
        "colab": {
          "base_uri": "https://localhost:8080/"
        },
        "id": "F5oO-6td_f6P",
        "outputId": "3369588f-1774-4c95-af01-d0dacbd6ee9b"
      },
      "execution_count": 80,
      "outputs": [
        {
          "output_type": "execute_result",
          "data": {
            "text/plain": [
              "array([2.38117214, 2.47508694, 2.05739373, 2.40231553, 2.56161266,\n",
              "       2.38054581, 2.2410456 , 2.43641124, 2.64119909, 2.75295221])"
            ]
          },
          "metadata": {},
          "execution_count": 80
        }
      ]
    },
    {
      "cell_type": "code",
      "source": [
        "ne1 = normal_equation()\n",
        "w1 = ne1.linear_regression(x_1, y_1)\n",
        "w1"
      ],
      "metadata": {
        "colab": {
          "base_uri": "https://localhost:8080/"
        },
        "id": "-d92z8EZ90gi",
        "outputId": "99582056-4836-4400-f39d-b5337d2eae56"
      },
      "execution_count": 84,
      "outputs": [
        {
          "output_type": "execute_result",
          "data": {
            "text/plain": [
              "array([1.09626701, 7.46097542])"
            ]
          },
          "metadata": {},
          "execution_count": 84
        }
      ]
    },
    {
      "cell_type": "code",
      "source": [
        "ne2 = normal_equation()\n",
        "w2 = ne2.linear_regression(x_2, y_2)\n",
        "w2"
      ],
      "metadata": {
        "colab": {
          "base_uri": "https://localhost:8080/"
        },
        "id": "exwTbX2593fY",
        "outputId": "943d1e2d-f828-41fb-f346-dd6a33c92010"
      },
      "execution_count": 85,
      "outputs": [
        {
          "output_type": "execute_result",
          "data": {
            "text/plain": [
              "array([0.02806661, 2.31724745])"
            ]
          },
          "metadata": {},
          "execution_count": 85
        }
      ]
    },
    {
      "cell_type": "code",
      "source": [
        "w1[1]"
      ],
      "metadata": {
        "colab": {
          "base_uri": "https://localhost:8080/"
        },
        "id": "HdfaHu2mDFot",
        "outputId": "90410a61-0f6a-49cf-918f-297ebe9ea353"
      },
      "execution_count": 87,
      "outputs": [
        {
          "output_type": "execute_result",
          "data": {
            "text/plain": [
              "7.460975416173663"
            ]
          },
          "metadata": {},
          "execution_count": 87
        }
      ]
    },
    {
      "cell_type": "code",
      "source": [
        "def f(x, w):\n",
        "  return x * w[0] + w[1]"
      ],
      "metadata": {
        "id": "tAbO915oAlW-"
      },
      "execution_count": 90,
      "outputs": []
    },
    {
      "cell_type": "code",
      "source": [
        "x1 = np.linspace(min(x_1), max(x_1), 1000)"
      ],
      "metadata": {
        "id": "jpAy_KV3DMSd"
      },
      "execution_count": 100,
      "outputs": []
    },
    {
      "cell_type": "code",
      "source": [
        "plt.plot(x1, f(x1, w1))\n",
        "plt.show()"
      ],
      "metadata": {
        "colab": {
          "base_uri": "https://localhost:8080/",
          "height": 265
        },
        "id": "NMMLVHW7DXWW",
        "outputId": "accb66e0-3792-43cc-a922-a6cb750d8591"
      },
      "execution_count": 101,
      "outputs": [
        {
          "output_type": "display_data",
          "data": {
            "text/plain": [
              "<Figure size 432x288 with 1 Axes>"
            ],
            "image/png": "[encoded data removed]"
          },
          "metadata": {
            "needs_background": "light"
          }
        }
      ]
    },
    {
      "cell_type": "code",
      "source": [
        "x2 = np.linspace(min(x_2), max(x_2), 1000)"
      ],
      "metadata": {
        "id": "0HtmNfC4Desl"
      },
      "execution_count": 102,
      "outputs": []
    },
    {
      "cell_type": "code",
      "source": [
        "plt.plot(x2, f(x2, w2))\n",
        "plt.show()"
      ],
      "metadata": {
        "colab": {
          "base_uri": "https://localhost:8080/",
          "height": 265
        },
        "id": "JwLhWHZHDlEO",
        "outputId": "29476134-418f-4c2d-9624-db0fc2807e9c"
      },
      "execution_count": 103,
      "outputs": [
        {
          "output_type": "display_data",
          "data": {
            "text/plain": [
              "<Figure size 432x288 with 1 Axes>"
            ],
            "image/png": "[encoded data removed]"
          },
          "metadata": {
            "needs_background": "light"
          }
        }
      ]
    },
    {
      "cell_type": "code",
      "source": [
        "x1 = np.linspace(min(data[0]), max(data[0]), 1000)\n",
        "x2 = np.linspace(min(data[0]), max(data[0]), 1000)"
      ],
      "metadata": {
        "id": "uPHA1SSqEZbB"
      },
      "execution_count": 107,
      "outputs": []
    },
    {
      "cell_type": "code",
      "source": [
        "plt.plot(x1, f(x1, w1), x2, f(x2, w2))\n",
        "plt.show"
      ],
      "metadata": {
        "colab": {
          "base_uri": "https://localhost:8080/",
          "height": 283
        },
        "id": "I1VuVO9bDnHT",
        "outputId": "98a6ea2a-4ce1-477c-ab30-877cbe658fd0"
      },
      "execution_count": 108,
      "outputs": [
        {
          "output_type": "execute_result",
          "data": {
            "text/plain": [
              "<function matplotlib.pyplot.show(*args, **kw)>"
            ]
          },
          "metadata": {},
          "execution_count": 108
        },
        {
          "output_type": "display_data",
          "data": {
            "text/plain": [
              "<Figure size 432x288 with 1 Axes>"
            ],
            "image/png": "[encoded data removed]"
          },
          "metadata": {
            "needs_background": "light"
          }
        }
      ]
    },
    {
      "cell_type": "code",
      "source": [
        "w_mean = np.array((w1[0] + w2[0]) / 2).reshape(1,-1)\n",
        "w_mean"
      ],
      "metadata": {
        "colab": {
          "base_uri": "https://localhost:8080/"
        },
        "id": "Zkd9GEYnOcNr",
        "outputId": "4c51eaca-a766-42a4-9f45-3a04ceff70c9"
      },
      "execution_count": 124,
      "outputs": [
        {
          "output_type": "execute_result",
          "data": {
            "text/plain": [
              "array([[0.56216681]])"
            ]
          },
          "metadata": {},
          "execution_count": 124
        }
      ]
    },
    {
      "cell_type": "code",
      "source": [
        "b_mean = np.array((w1[1] + w2[1]) / 2).reshape(1,-1)\n",
        "b_mean"
      ],
      "metadata": {
        "colab": {
          "base_uri": "https://localhost:8080/"
        },
        "id": "W2gTOPMaEDkx",
        "outputId": "50b1e5cc-764f-4a36-d6cb-59367359d333"
      },
      "execution_count": 138,
      "outputs": [
        {
          "output_type": "execute_result",
          "data": {
            "text/plain": [
              "array([[4.88911143]])"
            ]
          },
          "metadata": {},
          "execution_count": 138
        }
      ]
    },
    {
      "cell_type": "code",
      "source": [
        "weight_mean = np.concatenate((w_mean, b_mean), axis = 0)\n",
        "weight_mean"
      ],
      "metadata": {
        "colab": {
          "base_uri": "https://localhost:8080/"
        },
        "id": "0GHM_0BOQweQ",
        "outputId": "e327b9f4-eb2f-4436-ea1f-7ec0f589fbaf"
      },
      "execution_count": 133,
      "outputs": [
        {
          "output_type": "execute_result",
          "data": {
            "text/plain": [
              "array([[0.56216681],\n",
              "       [4.88911143]])"
            ]
          },
          "metadata": {},
          "execution_count": 133
        }
      ]
    },
    {
      "cell_type": "code",
      "source": [
        "x3 = np.linspace(min(data[0]), max(data[0]), 1000)"
      ],
      "metadata": {
        "id": "PSOIKMaIQo7h"
      },
      "execution_count": 134,
      "outputs": []
    },
    {
      "cell_type": "code",
      "source": [
        "plt.plot(x1, f(x1, w1), x2, f(x2, w2), x3, f(x3, weight_mean))\n",
        "plt.show"
      ],
      "metadata": {
        "colab": {
          "base_uri": "https://localhost:8080/",
          "height": 283
        },
        "id": "Plbv8sT-QbFo",
        "outputId": "f570b219-b671-4b8f-f30b-2a0f6cbf0255"
      },
      "execution_count": 137,
      "outputs": [
        {
          "output_type": "execute_result",
          "data": {
            "text/plain": [
              "<function matplotlib.pyplot.show(*args, **kw)>"
            ]
          },
          "metadata": {},
          "execution_count": 137
        },
        {
          "output_type": "display_data",
          "data": {
            "text/plain": [
              "<Figure size 432x288 with 1 Axes>"
            ],
            "image/png": "[encoded data removed]"
          },
          "metadata": {
            "needs_background": "light"
          }
        }
      ]
    },
    {
      "cell_type": "code",
      "source": [],
      "metadata": {
        "id": "JPNFAUDsROtL"
      },
      "execution_count": null,
      "outputs": []
    }
  ]
}