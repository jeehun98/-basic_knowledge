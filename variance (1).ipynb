{
  "nbformat": 4,
  "nbformat_minor": 0,
  "metadata": {
    "colab": {
      "provenance": [],
      "collapsed_sections": []
    },
    "kernelspec": {
      "name": "python3",
      "display_name": "Python 3"
    },
    "language_info": {
      "name": "python"
    }
  },
  "cells": [
    {
      "cell_type": "code",
      "execution_count": 230,
      "metadata": {
        "id": "tKdyUgCyzeIE"
      },
      "outputs": [],
      "source": [
        "import numpy as np"
      ]
    },
    {
      "cell_type": "markdown",
      "source": [
        "랜덤 데이터 생성"
      ],
      "metadata": {
        "id": "Dh1ghPe31lny"
      }
    },
    {
      "cell_type": "code",
      "source": [
        "np.random.seed(42)\n",
        "\n",
        "a = np.array(np.random.random(10)).reshape(-1,10)\n",
        "b = np.array(np.random.random(10)).reshape(-1,10)"
      ],
      "metadata": {
        "id": "ZH_3ZGD301ED"
      },
      "execution_count": 231,
      "outputs": []
    },
    {
      "cell_type": "code",
      "source": [
        "print(a, b)"
      ],
      "metadata": {
        "colab": {
          "base_uri": "https://localhost:8080/"
        },
        "id": "WTvL1z3V1G-j",
        "outputId": "fe18f5d8-aeb0-4d49-e5a9-b2ee9c2534a1"
      },
      "execution_count": 232,
      "outputs": [
        {
          "output_type": "stream",
          "name": "stdout",
          "text": [
            "[[0.37454012 0.95071431 0.73199394 0.59865848 0.15601864 0.15599452\n",
            "  0.05808361 0.86617615 0.60111501 0.70807258]] [[0.02058449 0.96990985 0.83244264 0.21233911 0.18182497 0.18340451\n",
            "  0.30424224 0.52475643 0.43194502 0.29122914]]\n"
          ]
        }
      ]
    },
    {
      "cell_type": "markdown",
      "source": [
        "분산 계산"
      ],
      "metadata": {
        "id": "TtGPj0Rz1oF0"
      }
    },
    {
      "cell_type": "code",
      "source": [
        "a_variance = np.var(a)\n",
        "a_variance"
      ],
      "metadata": {
        "colab": {
          "base_uri": "https://localhost:8080/"
        },
        "id": "6GjyB46o1fQp",
        "outputId": "96da2218-df97-4198-a73f-c4492435a62d"
      },
      "execution_count": 233,
      "outputs": [
        {
          "output_type": "execute_result",
          "data": {
            "text/plain": [
              "0.08979398245355814"
            ]
          },
          "metadata": {},
          "execution_count": 233
        }
      ]
    },
    {
      "cell_type": "code",
      "source": [
        "def variance(a):\n",
        "  a_mean = np.mean(a)\n",
        "  return np.mean((a-a_mean)**2)"
      ],
      "metadata": {
        "id": "ixBmvX9_3TwL"
      },
      "execution_count": 234,
      "outputs": []
    },
    {
      "cell_type": "code",
      "source": [
        "variance(a)"
      ],
      "metadata": {
        "colab": {
          "base_uri": "https://localhost:8080/"
        },
        "id": "7JxGoSpa3qtx",
        "outputId": "95f1c242-338c-476d-a43b-0592f9df3538"
      },
      "execution_count": 235,
      "outputs": [
        {
          "output_type": "execute_result",
          "data": {
            "text/plain": [
              "0.08979398245355814"
            ]
          },
          "metadata": {},
          "execution_count": 235
        }
      ]
    },
    {
      "cell_type": "code",
      "source": [
        "def variance2(a):\n",
        "  a_mean = np.mean(a)\n",
        "  return np.mean(a**2)-a_mean**2"
      ],
      "metadata": {
        "id": "KXSLYitQ4HYd"
      },
      "execution_count": 236,
      "outputs": []
    },
    {
      "cell_type": "code",
      "source": [
        "variance2(a)"
      ],
      "metadata": {
        "colab": {
          "base_uri": "https://localhost:8080/"
        },
        "id": "cz6amy7v4OAA",
        "outputId": "ad43d13d-96ec-48e7-942a-a645bba213fa"
      },
      "execution_count": 237,
      "outputs": [
        {
          "output_type": "execute_result",
          "data": {
            "text/plain": [
              "0.08979398245355813"
            ]
          },
          "metadata": {},
          "execution_count": 237
        }
      ]
    },
    {
      "cell_type": "markdown",
      "source": [
        "공분산"
      ],
      "metadata": {
        "id": "e5BywO945bsY"
      }
    },
    {
      "cell_type": "code",
      "source": [
        "np.cov(a, b)"
      ],
      "metadata": {
        "colab": {
          "base_uri": "https://localhost:8080/"
        },
        "id": "BoGXb4QS-SeI",
        "outputId": "7686be1b-e0ac-44f6-9f8b-d6159653027f"
      },
      "execution_count": 238,
      "outputs": [
        {
          "output_type": "execute_result",
          "data": {
            "text/plain": [
              "array([[0.09977109, 0.06726516],\n",
              "       [0.06726516, 0.09142799]])"
            ]
          },
          "metadata": {},
          "execution_count": 238
        }
      ]
    },
    {
      "cell_type": "code",
      "source": [
        "np.cov(b,a)"
      ],
      "metadata": {
        "id": "Xj_REtMWOhry",
        "colab": {
          "base_uri": "https://localhost:8080/"
        },
        "outputId": "652eb683-aa5f-4a0c-c356-eafacabe739e"
      },
      "execution_count": 239,
      "outputs": [
        {
          "output_type": "execute_result",
          "data": {
            "text/plain": [
              "array([[0.09142799, 0.06726516],\n",
              "       [0.06726516, 0.09977109]])"
            ]
          },
          "metadata": {},
          "execution_count": 239
        }
      ]
    },
    {
      "cell_type": "code",
      "source": [
        "np.cov(a,a)"
      ],
      "metadata": {
        "colab": {
          "base_uri": "https://localhost:8080/"
        },
        "id": "gtbFrcuNUnpz",
        "outputId": "2497314f-22ee-4a5e-d799-78875b834e65"
      },
      "execution_count": 240,
      "outputs": [
        {
          "output_type": "execute_result",
          "data": {
            "text/plain": [
              "array([[0.09977109, 0.09977109],\n",
              "       [0.09977109, 0.09977109]])"
            ]
          },
          "metadata": {},
          "execution_count": 240
        }
      ]
    },
    {
      "cell_type": "code",
      "source": [
        "def convariance(a, b):\n",
        "  a_mean = np.mean(a)\n",
        "  b_mean = np.mean(b)\n",
        "\n",
        "  ab = (a-a_mean)*(b-b_mean)\n",
        "  return np.mean(ab)"
      ],
      "metadata": {
        "id": "i5-6Sw6OWTvv"
      },
      "execution_count": 241,
      "outputs": []
    },
    {
      "cell_type": "code",
      "source": [
        "convariance(a,b)"
      ],
      "metadata": {
        "colab": {
          "base_uri": "https://localhost:8080/"
        },
        "id": "U_1OL2ggXHw8",
        "outputId": "30e951e4-0e86-45cf-f91a-c74738150198"
      },
      "execution_count": 242,
      "outputs": [
        {
          "output_type": "execute_result",
          "data": {
            "text/plain": [
              "0.06053864033673627"
            ]
          },
          "metadata": {},
          "execution_count": 242
        }
      ]
    },
    {
      "cell_type": "code",
      "source": [
        "np.cov(a, b)"
      ],
      "metadata": {
        "colab": {
          "base_uri": "https://localhost:8080/"
        },
        "id": "ZFuTP5WIXJU0",
        "outputId": "c03263b0-7c00-4bd7-b282-344de613cf51"
      },
      "execution_count": 243,
      "outputs": [
        {
          "output_type": "execute_result",
          "data": {
            "text/plain": [
              "array([[0.09977109, 0.06726516],\n",
              "       [0.06726516, 0.09142799]])"
            ]
          },
          "metadata": {},
          "execution_count": 243
        }
      ]
    },
    {
      "cell_type": "markdown",
      "source": [
        "다른 방식으로 분산의 계산"
      ],
      "metadata": {
        "id": "DMZGQv4_Xj0h"
      }
    },
    {
      "cell_type": "code",
      "source": [
        "def convariance2(a,b):\n",
        "  ab_mean = np.mean(a*b)\n",
        "  a_mean = np.mean(a)\n",
        "  b_mean = np.mean(b)\n",
        "  return ab_mean - a_mean*b_mean"
      ],
      "metadata": {
        "id": "PckuhxrzXiQL"
      },
      "execution_count": 244,
      "outputs": []
    },
    {
      "cell_type": "markdown",
      "source": [
        "순서와는 상관이 없다"
      ],
      "metadata": {
        "id": "Fo56k30FKtAJ"
      }
    },
    {
      "cell_type": "code",
      "source": [
        "convariance2(a,b)"
      ],
      "metadata": {
        "colab": {
          "base_uri": "https://localhost:8080/"
        },
        "id": "ZwyK5VaEXT8O",
        "outputId": "f94d3c80-59f8-4315-dcae-da814e09695e"
      },
      "execution_count": 245,
      "outputs": [
        {
          "output_type": "execute_result",
          "data": {
            "text/plain": [
              "0.06053864033673623"
            ]
          },
          "metadata": {},
          "execution_count": 245
        }
      ]
    },
    {
      "cell_type": "code",
      "source": [
        "convariance2(b,a)"
      ],
      "metadata": {
        "colab": {
          "base_uri": "https://localhost:8080/"
        },
        "id": "_iNEBhb4KpqI",
        "outputId": "8e440520-e424-4a68-f6c5-b2a37da7ea58"
      },
      "execution_count": 246,
      "outputs": [
        {
          "output_type": "execute_result",
          "data": {
            "text/plain": [
              "0.06053864033673623"
            ]
          },
          "metadata": {},
          "execution_count": 246
        }
      ]
    },
    {
      "cell_type": "markdown",
      "source": [
        "X끼리의 공분산은 분산과 같다"
      ],
      "metadata": {
        "id": "k5Mt9IdEKvPn"
      }
    },
    {
      "cell_type": "code",
      "source": [
        "convariance(a,a)"
      ],
      "metadata": {
        "colab": {
          "base_uri": "https://localhost:8080/"
        },
        "id": "ElzPA33yKeGK",
        "outputId": "0307f265-0fe4-4e3d-b1f3-d9f4ea9c24d0"
      },
      "execution_count": 247,
      "outputs": [
        {
          "output_type": "execute_result",
          "data": {
            "text/plain": [
              "0.08979398245355814"
            ]
          },
          "metadata": {},
          "execution_count": 247
        }
      ]
    },
    {
      "cell_type": "code",
      "source": [
        "variance(a)"
      ],
      "metadata": {
        "colab": {
          "base_uri": "https://localhost:8080/"
        },
        "id": "TjsYdIA-KfdW",
        "outputId": "3b331d20-53d2-40b0-c5a2-bebcde11822a"
      },
      "execution_count": 248,
      "outputs": [
        {
          "output_type": "execute_result",
          "data": {
            "text/plain": [
              "0.08979398245355814"
            ]
          },
          "metadata": {},
          "execution_count": 248
        }
      ]
    },
    {
      "cell_type": "code",
      "source": [
        "matrix = np.concatenate([a,b], 0)\n",
        "matrix"
      ],
      "metadata": {
        "id": "vL4WSdQ_ZRJe",
        "colab": {
          "base_uri": "https://localhost:8080/"
        },
        "outputId": "b225fcf1-1144-4493-f56c-9799f0b23504"
      },
      "execution_count": 249,
      "outputs": [
        {
          "output_type": "execute_result",
          "data": {
            "text/plain": [
              "array([[0.37454012, 0.95071431, 0.73199394, 0.59865848, 0.15601864,\n",
              "        0.15599452, 0.05808361, 0.86617615, 0.60111501, 0.70807258],\n",
              "       [0.02058449, 0.96990985, 0.83244264, 0.21233911, 0.18182497,\n",
              "        0.18340451, 0.30424224, 0.52475643, 0.43194502, 0.29122914]])"
            ]
          },
          "metadata": {},
          "execution_count": 249
        }
      ]
    },
    {
      "cell_type": "code",
      "source": [
        "matrix.shape"
      ],
      "metadata": {
        "colab": {
          "base_uri": "https://localhost:8080/"
        },
        "id": "WumkLe-uFXOX",
        "outputId": "b49a49d0-2f6b-4bcc-8ce4-9858fb1345a5"
      },
      "execution_count": 250,
      "outputs": [
        {
          "output_type": "execute_result",
          "data": {
            "text/plain": [
              "(2, 10)"
            ]
          },
          "metadata": {},
          "execution_count": 250
        }
      ]
    },
    {
      "cell_type": "code",
      "source": [
        "matrix_mean = np.mean(matrix, axis=0).reshape(-1,10)\n",
        "matrix_mean"
      ],
      "metadata": {
        "colab": {
          "base_uri": "https://localhost:8080/"
        },
        "id": "SkbfeKEwCxmc",
        "outputId": "d5eef3af-dd6e-41ce-d04c-b2371ed3ce44"
      },
      "execution_count": 251,
      "outputs": [
        {
          "output_type": "execute_result",
          "data": {
            "text/plain": [
              "array([[0.19756231, 0.96031208, 0.78221829, 0.4054988 , 0.1689218 ,\n",
              "        0.16969952, 0.18116293, 0.69546629, 0.51653002, 0.49965086]])"
            ]
          },
          "metadata": {},
          "execution_count": 251
        }
      ]
    },
    {
      "cell_type": "code",
      "source": [
        "matrix_mean.shape"
      ],
      "metadata": {
        "colab": {
          "base_uri": "https://localhost:8080/"
        },
        "id": "6KkZZQooFX-M",
        "outputId": "b68138dc-0032-4d04-bc83-7a796b33ddad"
      },
      "execution_count": 252,
      "outputs": [
        {
          "output_type": "execute_result",
          "data": {
            "text/plain": [
              "(1, 10)"
            ]
          },
          "metadata": {},
          "execution_count": 252
        }
      ]
    },
    {
      "cell_type": "code",
      "source": [
        "matrix_deviation = matrix-matrix_mean\n",
        "matrix_deviation"
      ],
      "metadata": {
        "colab": {
          "base_uri": "https://localhost:8080/"
        },
        "id": "EFSYW8_iDsiE",
        "outputId": "1e235879-c32f-4cd4-ed78-e98b3c4374b0"
      },
      "execution_count": 253,
      "outputs": [
        {
          "output_type": "execute_result",
          "data": {
            "text/plain": [
              "array([[ 0.17697781, -0.00959777, -0.05022435,  0.19315969, -0.01290316,\n",
              "        -0.01370499, -0.12307932,  0.17070986,  0.084585  ,  0.20842172],\n",
              "       [-0.17697781,  0.00959777,  0.05022435, -0.19315969,  0.01290316,\n",
              "         0.01370499,  0.12307932, -0.17070986, -0.084585  , -0.20842172]])"
            ]
          },
          "metadata": {},
          "execution_count": 253
        }
      ]
    },
    {
      "cell_type": "code",
      "source": [
        "matrix_deviation.shape"
      ],
      "metadata": {
        "colab": {
          "base_uri": "https://localhost:8080/"
        },
        "id": "jBauJ4teGCTc",
        "outputId": "a3236514-cd87-477f-c77c-9b345c36582b"
      },
      "execution_count": 254,
      "outputs": [
        {
          "output_type": "execute_result",
          "data": {
            "text/plain": [
              "(2, 10)"
            ]
          },
          "metadata": {},
          "execution_count": 254
        }
      ]
    },
    {
      "cell_type": "code",
      "source": [
        "(matrix_deviation@matrix_deviation.T)/2"
      ],
      "metadata": {
        "colab": {
          "base_uri": "https://localhost:8080/"
        },
        "id": "DYhxMrNSEH1y",
        "outputId": "4c757e07-a347-4159-f3f3-7737a50868d4"
      },
      "execution_count": 255,
      "outputs": [
        {
          "output_type": "execute_result",
          "data": {
            "text/plain": [
              "array([[ 0.08324267, -0.08324267],\n",
              "       [-0.08324267,  0.08324267]])"
            ]
          },
          "metadata": {},
          "execution_count": 255
        }
      ]
    },
    {
      "cell_type": "code",
      "source": [
        "m = np.arange(10, dtype=np.float64)\n",
        "f = np.arange(10) * 2"
      ],
      "metadata": {
        "id": "DKQTML5xIr1-"
      },
      "execution_count": 256,
      "outputs": []
    },
    {
      "cell_type": "code",
      "source": [
        "m"
      ],
      "metadata": {
        "colab": {
          "base_uri": "https://localhost:8080/"
        },
        "id": "Yns4sUu7Iw2w",
        "outputId": "b36a573c-e9e2-4b27-9834-2a004c024d5c"
      },
      "execution_count": 257,
      "outputs": [
        {
          "output_type": "execute_result",
          "data": {
            "text/plain": [
              "array([0., 1., 2., 3., 4., 5., 6., 7., 8., 9.])"
            ]
          },
          "metadata": {},
          "execution_count": 257
        }
      ]
    },
    {
      "cell_type": "code",
      "source": [
        "f"
      ],
      "metadata": {
        "colab": {
          "base_uri": "https://localhost:8080/"
        },
        "id": "n4EWkCE-IxU2",
        "outputId": "de43b33e-1e6b-4c3f-c7d6-27d72186ada1"
      },
      "execution_count": 258,
      "outputs": [
        {
          "output_type": "execute_result",
          "data": {
            "text/plain": [
              "array([ 0,  2,  4,  6,  8, 10, 12, 14, 16, 18])"
            ]
          },
          "metadata": {},
          "execution_count": 258
        }
      ]
    },
    {
      "cell_type": "code",
      "source": [
        "mean = np.mean(m)\n",
        "mean"
      ],
      "metadata": {
        "colab": {
          "base_uri": "https://localhost:8080/"
        },
        "id": "sWvw9igfJOTC",
        "outputId": "046bad93-f07b-4c31-947d-330f50d338c7"
      },
      "execution_count": 259,
      "outputs": [
        {
          "output_type": "execute_result",
          "data": {
            "text/plain": [
              "4.5"
            ]
          },
          "metadata": {},
          "execution_count": 259
        }
      ]
    },
    {
      "cell_type": "code",
      "source": [
        "var = np.var(m)\n",
        "var # 분산"
      ],
      "metadata": {
        "colab": {
          "base_uri": "https://localhost:8080/"
        },
        "id": "J-HIK2z8Ite3",
        "outputId": "4f6a4316-9ad7-4f73-c2da-b6f92a487b4e"
      },
      "execution_count": 260,
      "outputs": [
        {
          "output_type": "execute_result",
          "data": {
            "text/plain": [
              "8.25"
            ]
          },
          "metadata": {},
          "execution_count": 260
        }
      ]
    },
    {
      "cell_type": "code",
      "source": [
        "var**(1/2) # 표준 편차"
      ],
      "metadata": {
        "colab": {
          "base_uri": "https://localhost:8080/"
        },
        "id": "ghYUmmajIvho",
        "outputId": "40d2a74d-258d-4e1d-db12-d42a554c3aee"
      },
      "execution_count": 261,
      "outputs": [
        {
          "output_type": "execute_result",
          "data": {
            "text/plain": [
              "2.8722813232690143"
            ]
          },
          "metadata": {},
          "execution_count": 261
        }
      ]
    },
    {
      "cell_type": "code",
      "source": [
        "np.var(m)"
      ],
      "metadata": {
        "colab": {
          "base_uri": "https://localhost:8080/"
        },
        "id": "_pCw9e2bJXyN",
        "outputId": "86f9d1b0-e46a-41bc-d170-23e72d223fc2"
      },
      "execution_count": 263,
      "outputs": [
        {
          "output_type": "execute_result",
          "data": {
            "text/plain": [
              "8.25"
            ]
          },
          "metadata": {},
          "execution_count": 263
        }
      ]
    },
    {
      "cell_type": "code",
      "source": [
        "convariance(m,m)"
      ],
      "metadata": {
        "colab": {
          "base_uri": "https://localhost:8080/"
        },
        "id": "9ppAsjaIJcvl",
        "outputId": "55ee8219-fcba-4c94-9d8e-d1ba1f2e23be"
      },
      "execution_count": 264,
      "outputs": [
        {
          "output_type": "execute_result",
          "data": {
            "text/plain": [
              "8.25"
            ]
          },
          "metadata": {},
          "execution_count": 264
        }
      ]
    },
    {
      "cell_type": "code",
      "source": [
        "variance(m)"
      ],
      "metadata": {
        "colab": {
          "base_uri": "https://localhost:8080/"
        },
        "id": "5vovoGWyJoX4",
        "outputId": "6d61ff09-36e0-4c9a-f7e0-886aafc2ca42"
      },
      "execution_count": 265,
      "outputs": [
        {
          "output_type": "execute_result",
          "data": {
            "text/plain": [
              "8.25"
            ]
          },
          "metadata": {},
          "execution_count": 265
        }
      ]
    },
    {
      "cell_type": "code",
      "source": [
        "convariance(m,f)"
      ],
      "metadata": {
        "colab": {
          "base_uri": "https://localhost:8080/"
        },
        "id": "LjpMW--bJtgZ",
        "outputId": "1dae8c53-5a41-4d72-f2b3-23b33a479210"
      },
      "execution_count": 267,
      "outputs": [
        {
          "output_type": "execute_result",
          "data": {
            "text/plain": [
              "16.5"
            ]
          },
          "metadata": {},
          "execution_count": 267
        }
      ]
    },
    {
      "cell_type": "code",
      "source": [
        "matrix = np.concatenate([m,f], 0).reshape(2,10)\n",
        "matrix"
      ],
      "metadata": {
        "colab": {
          "base_uri": "https://localhost:8080/"
        },
        "id": "E2y3HgW1woeP",
        "outputId": "81a11c55-b7fe-4aa4-edc0-3fd25afed820"
      },
      "execution_count": 272,
      "outputs": [
        {
          "output_type": "execute_result",
          "data": {
            "text/plain": [
              "array([[ 0.,  1.,  2.,  3.,  4.,  5.,  6.,  7.,  8.,  9.],\n",
              "       [ 0.,  2.,  4.,  6.,  8., 10., 12., 14., 16., 18.]])"
            ]
          },
          "metadata": {},
          "execution_count": 272
        }
      ]
    },
    {
      "cell_type": "code",
      "source": [
        "matrix_mean = np.mean(matrix, axis=0)\n",
        "matrix_mean"
      ],
      "metadata": {
        "colab": {
          "base_uri": "https://localhost:8080/"
        },
        "id": "I2WX4XsRw_DT",
        "outputId": "1d1a2b12-921a-490f-aaba-6292d0fc2991"
      },
      "execution_count": 273,
      "outputs": [
        {
          "output_type": "execute_result",
          "data": {
            "text/plain": [
              "array([ 0. ,  1.5,  3. ,  4.5,  6. ,  7.5,  9. , 10.5, 12. , 13.5])"
            ]
          },
          "metadata": {},
          "execution_count": 273
        }
      ]
    },
    {
      "cell_type": "code",
      "source": [
        "matrix_deviation = matrix - matrix_mean\n",
        "matrix_deviation"
      ],
      "metadata": {
        "colab": {
          "base_uri": "https://localhost:8080/"
        },
        "id": "REQEVpnMxWbf",
        "outputId": "bf9f7155-f3e3-405c-c166-63b426b6f16f"
      },
      "execution_count": 276,
      "outputs": [
        {
          "output_type": "execute_result",
          "data": {
            "text/plain": [
              "array([[ 0. , -0.5, -1. , -1.5, -2. , -2.5, -3. , -3.5, -4. , -4.5],\n",
              "       [ 0. ,  0.5,  1. ,  1.5,  2. ,  2.5,  3. ,  3.5,  4. ,  4.5]])"
            ]
          },
          "metadata": {},
          "execution_count": 276
        }
      ]
    },
    {
      "cell_type": "code",
      "source": [
        "matrix_deviation@(matrix_deviation.T)"
      ],
      "metadata": {
        "colab": {
          "base_uri": "https://localhost:8080/"
        },
        "id": "UD5esMS8xa4j",
        "outputId": "ce937c85-9399-415e-c2d2-06102e7ce725"
      },
      "execution_count": 278,
      "outputs": [
        {
          "output_type": "execute_result",
          "data": {
            "text/plain": [
              "array([[ 71.25, -71.25],\n",
              "       [-71.25,  71.25]])"
            ]
          },
          "metadata": {},
          "execution_count": 278
        }
      ]
    },
    {
      "cell_type": "code",
      "source": [],
      "metadata": {
        "colab": {
          "base_uri": "https://localhost:8080/"
        },
        "id": "SwMmC575xtX0",
        "outputId": "2c3b3ec6-0d16-457f-c84a-723a04ad3653"
      },
      "execution_count": 279,
      "outputs": [
        {
          "output_type": "execute_result",
          "data": {
            "text/plain": [
              "0.0"
            ]
          },
          "metadata": {},
          "execution_count": 279
        }
      ]
    },
    {
      "cell_type": "code",
      "source": [],
      "metadata": {
        "id": "ctet1Lukx9Ea"
      },
      "execution_count": null,
      "outputs": []
    }
  ]
}