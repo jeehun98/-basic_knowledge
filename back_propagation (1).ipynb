{
  "nbformat": 4,
  "nbformat_minor": 0,
  "metadata": {
    "colab": {
      "provenance": [],
      "collapsed_sections": []
    },
    "kernelspec": {
      "name": "python3",
      "display_name": "Python 3"
    },
    "language_info": {
      "name": "python"
    }
  },
  "cells": [
    {
      "cell_type": "markdown",
      "source": [
        "오차 역전파를 통해 오차를 기반으로 가중치를 수정한 후 더 좋은 성능을 낼 수 있도록 모형을 개선한다.\n",
        "\n",
        "임의의 입력 값과 출력값의 설정"
      ],
      "metadata": {
        "id": "NjLAxyO2MoRv"
      }
    },
    {
      "cell_type": "code",
      "execution_count": 1,
      "metadata": {
        "id": "oRIr-snNasdA"
      },
      "outputs": [],
      "source": [
        "import numpy as np"
      ]
    },
    {
      "cell_type": "code",
      "source": [
        "input = np.array([[1,2,3]])\n",
        "input.shape"
      ],
      "metadata": {
        "colab": {
          "base_uri": "https://localhost:8080/"
        },
        "id": "mxJGieDwNiNe",
        "outputId": "fee338fe-4a36-4ed3-bfbd-6c692a5253d6"
      },
      "execution_count": 2,
      "outputs": [
        {
          "output_type": "execute_result",
          "data": {
            "text/plain": [
              "(1, 3)"
            ]
          },
          "metadata": {},
          "execution_count": 2
        }
      ]
    },
    {
      "cell_type": "code",
      "source": [
        "target = np.array([[0.5,0.1]])\n",
        "target"
      ],
      "metadata": {
        "colab": {
          "base_uri": "https://localhost:8080/"
        },
        "id": "7HYGROypNm4q",
        "outputId": "8ce5d1dd-dafe-45ed-d876-e8b7ebd35489"
      },
      "execution_count": 3,
      "outputs": [
        {
          "output_type": "execute_result",
          "data": {
            "text/plain": [
              "array([[0.5, 0.1]])"
            ]
          },
          "metadata": {},
          "execution_count": 3
        }
      ]
    },
    {
      "cell_type": "code",
      "source": [
        "print(input.shape, target.shape)"
      ],
      "metadata": {
        "colab": {
          "base_uri": "https://localhost:8080/"
        },
        "id": "OsAKO100PUev",
        "outputId": "51a1746a-7a48-4311-cec8-8ebc22235b8e"
      },
      "execution_count": 4,
      "outputs": [
        {
          "output_type": "stream",
          "name": "stdout",
          "text": [
            "(1, 3) (1, 2)\n"
          ]
        }
      ]
    },
    {
      "cell_type": "markdown",
      "source": [
        "임의의 가중치 설정"
      ],
      "metadata": {
        "id": "zc95DpoMyAJn"
      }
    },
    {
      "cell_type": "code",
      "source": [
        "w1 = np.array([[0.1,0.3,0.5],[0.2,0.4,0.6]])\n",
        "w1.shape"
      ],
      "metadata": {
        "colab": {
          "base_uri": "https://localhost:8080/"
        },
        "id": "--p1LlbbrkBN",
        "outputId": "bd277bbf-d6d9-467c-d2e0-11a772d5f9d8"
      },
      "execution_count": 5,
      "outputs": [
        {
          "output_type": "execute_result",
          "data": {
            "text/plain": [
              "(2, 3)"
            ]
          },
          "metadata": {},
          "execution_count": 5
        }
      ]
    },
    {
      "cell_type": "code",
      "source": [
        "w2 = np.array([[0.7,0.9],[0.8,0.1]])\n",
        "w2.shape"
      ],
      "metadata": {
        "colab": {
          "base_uri": "https://localhost:8080/"
        },
        "id": "QW2ZWWPa1mcQ",
        "outputId": "ace239f4-b45f-44b2-c7c7-e2bee7503a22"
      },
      "execution_count": 6,
      "outputs": [
        {
          "output_type": "execute_result",
          "data": {
            "text/plain": [
              "(2, 2)"
            ]
          },
          "metadata": {},
          "execution_count": 6
        }
      ]
    },
    {
      "cell_type": "code",
      "source": [
        "b1 = np.array([[0.5],[0.5]])\n",
        "b1.shape"
      ],
      "metadata": {
        "colab": {
          "base_uri": "https://localhost:8080/"
        },
        "id": "On2noTZF6RnU",
        "outputId": "772a43c4-a687-44de-a7df-4847300bcd76"
      },
      "execution_count": 7,
      "outputs": [
        {
          "output_type": "execute_result",
          "data": {
            "text/plain": [
              "(2, 1)"
            ]
          },
          "metadata": {},
          "execution_count": 7
        }
      ]
    },
    {
      "cell_type": "code",
      "source": [
        "b2 = np.array([[0.3],[0.3]])\n",
        "b2.shape"
      ],
      "metadata": {
        "colab": {
          "base_uri": "https://localhost:8080/"
        },
        "id": "dJpL6rwX6ZaY",
        "outputId": "57497427-b50f-4a4f-8ea7-990ccda1f8fd"
      },
      "execution_count": 8,
      "outputs": [
        {
          "output_type": "execute_result",
          "data": {
            "text/plain": [
              "(2, 1)"
            ]
          },
          "metadata": {},
          "execution_count": 8
        }
      ]
    },
    {
      "cell_type": "markdown",
      "source": [
        "순전파를 통한 출력값 계산"
      ],
      "metadata": {
        "id": "Znn1P6QJ7BSa"
      }
    },
    {
      "cell_type": "code",
      "source": [
        "print(input.shape,w1.shape)"
      ],
      "metadata": {
        "colab": {
          "base_uri": "https://localhost:8080/"
        },
        "id": "33kDpyYQ7NSK",
        "outputId": "46008517-3bd6-4886-de30-70122cfdff13"
      },
      "execution_count": 9,
      "outputs": [
        {
          "output_type": "stream",
          "name": "stdout",
          "text": [
            "(1, 3) (2, 3)\n"
          ]
        }
      ]
    },
    {
      "cell_type": "code",
      "source": [
        "g11 = w1@(input.T)+b1\n",
        "g11"
      ],
      "metadata": {
        "colab": {
          "base_uri": "https://localhost:8080/"
        },
        "id": "m8kqe2Jj6drH",
        "outputId": "72667b36-60bc-4829-cd82-717d9e78420b"
      },
      "execution_count": 10,
      "outputs": [
        {
          "output_type": "execute_result",
          "data": {
            "text/plain": [
              "array([[2.7],\n",
              "       [3.3]])"
            ]
          },
          "metadata": {},
          "execution_count": 10
        }
      ]
    },
    {
      "cell_type": "code",
      "source": [
        "g12 = w1.dot(input.T)+b1\n",
        "g12"
      ],
      "metadata": {
        "colab": {
          "base_uri": "https://localhost:8080/"
        },
        "id": "XtNhM0DA7gZ1",
        "outputId": "ba98ef80-85e4-459c-fef7-4f978abb676e"
      },
      "execution_count": 11,
      "outputs": [
        {
          "output_type": "execute_result",
          "data": {
            "text/plain": [
              "array([[2.7],\n",
              "       [3.3]])"
            ]
          },
          "metadata": {},
          "execution_count": 11
        }
      ]
    },
    {
      "cell_type": "code",
      "source": [
        "print(np.equal(g11, g12))"
      ],
      "metadata": {
        "colab": {
          "base_uri": "https://localhost:8080/"
        },
        "id": "z1yAhUE-8GHa",
        "outputId": "c1d8c658-eb38-4396-90c7-be60dc451805"
      },
      "execution_count": 12,
      "outputs": [
        {
          "output_type": "stream",
          "name": "stdout",
          "text": [
            "[[ True]\n",
            " [ True]]\n"
          ]
        }
      ]
    },
    {
      "cell_type": "code",
      "source": [
        "h = 1/(1+np.exp(-g11))\n",
        "h"
      ],
      "metadata": {
        "colab": {
          "base_uri": "https://localhost:8080/"
        },
        "id": "U_DMc9hT8Iab",
        "outputId": "cd452aac-8104-4056-cfaf-ae31bc79d8d4"
      },
      "execution_count": 13,
      "outputs": [
        {
          "output_type": "execute_result",
          "data": {
            "text/plain": [
              "array([[0.93702664],\n",
              "       [0.96442881]])"
            ]
          },
          "metadata": {},
          "execution_count": 13
        }
      ]
    },
    {
      "cell_type": "markdown",
      "source": [
        "함수화"
      ],
      "metadata": {
        "id": "05ulwp1B__iC"
      }
    },
    {
      "cell_type": "code",
      "source": [
        "def hidden_cal(x,w,b):\n",
        "  g = w.dot(x)+b\n",
        "  h = 1/(1+np.exp(-g))\n",
        "  return h"
      ],
      "metadata": {
        "id": "yZIHTPT6-2ZW"
      },
      "execution_count": 14,
      "outputs": []
    },
    {
      "cell_type": "code",
      "source": [
        "h2 = hidden_cal(h,w2,b2)\n",
        "h2"
      ],
      "metadata": {
        "colab": {
          "base_uri": "https://localhost:8080/"
        },
        "id": "74tbCwLxAS_f",
        "outputId": "9f7e6395-6a65-4e69-af50-a183b753b769"
      },
      "execution_count": 15,
      "outputs": [
        {
          "output_type": "execute_result",
          "data": {
            "text/plain": [
              "array([[0.86103399],\n",
              "       [0.75879129]])"
            ]
          },
          "metadata": {},
          "execution_count": 15
        }
      ]
    },
    {
      "cell_type": "markdown",
      "source": [
        "비용 함수 정의 및 1차 미분식 계산\n",
        "\n",
        "비용 함수로는 오차 제곱합을 사용, 미분식의 계산을 편리하게 하기 위한 1/2 연산의 추가"
      ],
      "metadata": {
        "id": "cMmu78WhApe1"
      }
    },
    {
      "cell_type": "markdown",
      "source": [
        "활성화 함수로 사용하는 시그모이드 함수의 미분"
      ],
      "metadata": {
        "id": "E0kCNB9LX_dN"
      }
    },
    {
      "cell_type": "code",
      "source": [
        "from sympy import Derivative, symbols\n",
        "\n",
        "x = symbols('x')"
      ],
      "metadata": {
        "id": "QIWZ51EcAYDJ"
      },
      "execution_count": 16,
      "outputs": []
    },
    {
      "cell_type": "code",
      "source": [
        "fx = 1/(1+np.e**-x)"
      ],
      "metadata": {
        "id": "MLnlrgnRYJL0"
      },
      "execution_count": 17,
      "outputs": []
    },
    {
      "cell_type": "code",
      "source": [
        "fprime = Derivative(fx, x).doit()\n",
        "fprime"
      ],
      "metadata": {
        "colab": {
          "base_uri": "https://localhost:8080/",
          "height": 60
        },
        "id": "wSLxR-JKYTuz",
        "outputId": "a2b9de24-ad48-4e76-fdad-80639f595966"
      },
      "execution_count": 18,
      "outputs": [
        {
          "output_type": "execute_result",
          "data": {
            "text/plain": [
              "1.0*2.71828182845905**(-x)/(1 + 2.71828182845905**(-x))**2"
            ],
            "text/latex": "$\\displaystyle \\frac{1.0 \\cdot 2.71828182845905^{- x}}{\\left(1 + 2.71828182845905^{- x}\\right)^{2}}$"
          },
          "metadata": {},
          "execution_count": 18
        }
      ]
    },
    {
      "cell_type": "markdown",
      "source": [
        "역전파를 통한 1차 미분값 구하기"
      ],
      "metadata": {
        "id": "UVmk6Sm4Zc4G"
      }
    },
    {
      "cell_type": "markdown",
      "source": [
        "은닉층에서 출력층까지 연결되는 가중치가 변했을 때 비용 함수의 변화량"
      ],
      "metadata": {
        "id": "1vxqUcIsZh0u"
      }
    },
    {
      "cell_type": "code",
      "source": [
        "target.astype"
      ],
      "metadata": {
        "colab": {
          "base_uri": "https://localhost:8080/"
        },
        "id": "HaqBCr5RasnF",
        "outputId": "908f82f5-4d4e-40b1-a63a-072d87671646"
      },
      "execution_count": 19,
      "outputs": [
        {
          "output_type": "execute_result",
          "data": {
            "text/plain": [
              "<function ndarray.astype>"
            ]
          },
          "metadata": {},
          "execution_count": 19
        }
      ]
    },
    {
      "cell_type": "code",
      "source": [
        "target[0,0]"
      ],
      "metadata": {
        "colab": {
          "base_uri": "https://localhost:8080/"
        },
        "id": "nNxyTV3magKG",
        "outputId": "3ebae9eb-2a75-4193-c91f-71153ed3c866"
      },
      "execution_count": 20,
      "outputs": [
        {
          "output_type": "execute_result",
          "data": {
            "text/plain": [
              "0.5"
            ]
          },
          "metadata": {},
          "execution_count": 20
        }
      ]
    },
    {
      "cell_type": "code",
      "source": [
        "target[0,1]"
      ],
      "metadata": {
        "colab": {
          "base_uri": "https://localhost:8080/"
        },
        "id": "9YRC37Kpb3ZJ",
        "outputId": "3ddc23fe-2e63-4517-b3e7-2dd4f523cec7"
      },
      "execution_count": 21,
      "outputs": [
        {
          "output_type": "execute_result",
          "data": {
            "text/plain": [
              "0.1"
            ]
          },
          "metadata": {},
          "execution_count": 21
        }
      ]
    },
    {
      "cell_type": "code",
      "source": [
        "h2"
      ],
      "metadata": {
        "colab": {
          "base_uri": "https://localhost:8080/"
        },
        "id": "85t-5fIMbwmB",
        "outputId": "8c8ce5fd-77c9-4318-c585-7fc1c01830dd"
      },
      "execution_count": 22,
      "outputs": [
        {
          "output_type": "execute_result",
          "data": {
            "text/plain": [
              "array([[0.86103399],\n",
              "       [0.75879129]])"
            ]
          },
          "metadata": {},
          "execution_count": 22
        }
      ]
    },
    {
      "cell_type": "code",
      "source": [
        "h2[0]"
      ],
      "metadata": {
        "colab": {
          "base_uri": "https://localhost:8080/"
        },
        "id": "a3W5HWfFbyle",
        "outputId": "168941e0-3e11-4123-9ad2-d19367c6326b"
      },
      "execution_count": 23,
      "outputs": [
        {
          "output_type": "execute_result",
          "data": {
            "text/plain": [
              "array([0.86103399])"
            ]
          },
          "metadata": {},
          "execution_count": 23
        }
      ]
    },
    {
      "cell_type": "code",
      "source": [
        "h2[1]"
      ],
      "metadata": {
        "colab": {
          "base_uri": "https://localhost:8080/"
        },
        "id": "uSQdeYtIbz4l",
        "outputId": "025e0135-6060-4ff0-c9d5-379ed0052c81"
      },
      "execution_count": 24,
      "outputs": [
        {
          "output_type": "execute_result",
          "data": {
            "text/plain": [
              "array([0.75879129])"
            ]
          },
          "metadata": {},
          "execution_count": 24
        }
      ]
    },
    {
      "cell_type": "code",
      "source": [
        "h2[0]-target[0,0]"
      ],
      "metadata": {
        "colab": {
          "base_uri": "https://localhost:8080/"
        },
        "id": "cumbg-4qYuGm",
        "outputId": "80035eac-7849-44a1-ca3a-f08eda844279"
      },
      "execution_count": 25,
      "outputs": [
        {
          "output_type": "execute_result",
          "data": {
            "text/plain": [
              "array([0.36103399])"
            ]
          },
          "metadata": {},
          "execution_count": 25
        }
      ]
    },
    {
      "cell_type": "code",
      "source": [
        "h2[0]*(1-h2[0])"
      ],
      "metadata": {
        "colab": {
          "base_uri": "https://localhost:8080/"
        },
        "id": "fHNKL2PgbN2m",
        "outputId": "67b1584e-30e9-4262-ba4b-5a0149a211ad"
      },
      "execution_count": 26,
      "outputs": [
        {
          "output_type": "execute_result",
          "data": {
            "text/plain": [
              "array([0.11965446])"
            ]
          },
          "metadata": {},
          "execution_count": 26
        }
      ]
    },
    {
      "cell_type": "markdown",
      "source": [
        "거꾸러 올라가는 과정의 수식 계산"
      ],
      "metadata": {
        "id": "pxu58DeXflIR"
      }
    },
    {
      "cell_type": "code",
      "source": [
        "w2 # 은닉층의 가중치 행렬의 전치"
      ],
      "metadata": {
        "colab": {
          "base_uri": "https://localhost:8080/"
        },
        "id": "dMQLd2ztfkau",
        "outputId": "770cb0b2-7f18-4ab2-cbfe-1f6907d5521c"
      },
      "execution_count": 27,
      "outputs": [
        {
          "output_type": "execute_result",
          "data": {
            "text/plain": [
              "array([[0.7, 0.9],\n",
              "       [0.8, 0.1]])"
            ]
          },
          "metadata": {},
          "execution_count": 27
        }
      ]
    },
    {
      "cell_type": "code",
      "source": [
        "h2 # 은닉층의 입력값"
      ],
      "metadata": {
        "colab": {
          "base_uri": "https://localhost:8080/"
        },
        "id": "jWQMdgR4gYNz",
        "outputId": "d59f1871-a953-4bae-eb7b-1588275ce642"
      },
      "execution_count": 28,
      "outputs": [
        {
          "output_type": "execute_result",
          "data": {
            "text/plain": [
              "array([[0.86103399],\n",
              "       [0.75879129]])"
            ]
          },
          "metadata": {},
          "execution_count": 28
        }
      ]
    },
    {
      "cell_type": "code",
      "source": [
        "b2 # 은닉층의 편향 가중치"
      ],
      "metadata": {
        "colab": {
          "base_uri": "https://localhost:8080/"
        },
        "id": "7cUhErrPgm9a",
        "outputId": "4c2d4840-1f13-412d-cf2d-42c96c685bfb"
      },
      "execution_count": 29,
      "outputs": [
        {
          "output_type": "execute_result",
          "data": {
            "text/plain": [
              "array([[0.3],\n",
              "       [0.3]])"
            ]
          },
          "metadata": {},
          "execution_count": 29
        }
      ]
    },
    {
      "cell_type": "code",
      "source": [
        "print(w2.shape, h2.shape)"
      ],
      "metadata": {
        "colab": {
          "base_uri": "https://localhost:8080/"
        },
        "id": "a4BnCKABh6O5",
        "outputId": "01ebf2b2-2ee2-48d9-e903-69f4f98115c8"
      },
      "execution_count": 30,
      "outputs": [
        {
          "output_type": "stream",
          "name": "stdout",
          "text": [
            "(2, 2) (2, 1)\n"
          ]
        }
      ]
    },
    {
      "cell_type": "code",
      "source": [
        "w2@(h2)+b2"
      ],
      "metadata": {
        "colab": {
          "base_uri": "https://localhost:8080/"
        },
        "id": "aeZnF8Keg0Vb",
        "outputId": "6546fdb7-12b2-4e19-f3c5-ea954b27fd02"
      },
      "execution_count": 31,
      "outputs": [
        {
          "output_type": "execute_result",
          "data": {
            "text/plain": [
              "array([[1.58563595],\n",
              "       [1.06470632]])"
            ]
          },
          "metadata": {},
          "execution_count": 31
        }
      ]
    },
    {
      "cell_type": "code",
      "source": [
        "print(w2[0,0], h2[0,0])"
      ],
      "metadata": {
        "colab": {
          "base_uri": "https://localhost:8080/"
        },
        "id": "JEXllP_Xhi87",
        "outputId": "c6940403-92ef-40fd-cd60-053657f0d260"
      },
      "execution_count": 32,
      "outputs": [
        {
          "output_type": "stream",
          "name": "stdout",
          "text": [
            "0.7 0.8610339864424298\n"
          ]
        }
      ]
    },
    {
      "cell_type": "code",
      "source": [
        "w2[0,0]*h2[0,0]"
      ],
      "metadata": {
        "colab": {
          "base_uri": "https://localhost:8080/"
        },
        "id": "4AVggMAFhVaf",
        "outputId": "56368451-ceda-4644-83fd-1a01ad409e90"
      },
      "execution_count": 33,
      "outputs": [
        {
          "output_type": "execute_result",
          "data": {
            "text/plain": [
              "0.6027237905097008"
            ]
          },
          "metadata": {},
          "execution_count": 33
        }
      ]
    },
    {
      "cell_type": "code",
      "source": [
        "w2[0,1]*h2[1,0]"
      ],
      "metadata": {
        "colab": {
          "base_uri": "https://localhost:8080/"
        },
        "id": "o0Zj3RrsiDNq",
        "outputId": "4a040de9-87e5-4db8-cfdb-b143d3ebf9f6"
      },
      "execution_count": 34,
      "outputs": [
        {
          "output_type": "execute_result",
          "data": {
            "text/plain": [
              "0.6829121630087827"
            ]
          },
          "metadata": {},
          "execution_count": 34
        }
      ]
    },
    {
      "cell_type": "code",
      "source": [
        "w2[0,0]*h2[0,0]+w2[0,1]*h2[1,0]+b2[0]"
      ],
      "metadata": {
        "colab": {
          "base_uri": "https://localhost:8080/"
        },
        "id": "QR6HB1miiLD7",
        "outputId": "8d2f6723-6310-407f-b620-9fb70589a82d"
      },
      "execution_count": 35,
      "outputs": [
        {
          "output_type": "execute_result",
          "data": {
            "text/plain": [
              "array([1.58563595])"
            ]
          },
          "metadata": {},
          "execution_count": 35
        }
      ]
    },
    {
      "cell_type": "markdown",
      "source": [
        "위 수식을 미분한 값을 얻기 위한 함수 작성\n",
        "\n",
        "행렬곱을 펼친 수식을 얻어야 한다.\n"
      ],
      "metadata": {
        "id": "sfoLz--imCtC"
      }
    },
    {
      "cell_type": "code",
      "source": [
        "x = symbols('x')\n",
        "y = symbols('y')\n",
        "\n",
        "b = x+y\n",
        "c = b+y\n",
        "c"
      ],
      "metadata": {
        "colab": {
          "base_uri": "https://localhost:8080/",
          "height": 38
        },
        "id": "k1oi4B5RKOqu",
        "outputId": "9abeeaeb-4b51-4c4f-871a-0a0303be7f8a"
      },
      "execution_count": 36,
      "outputs": [
        {
          "output_type": "execute_result",
          "data": {
            "text/plain": [
              "x + 2*y"
            ],
            "text/latex": "$\\displaystyle x + 2 y$"
          },
          "metadata": {},
          "execution_count": 36
        }
      ]
    },
    {
      "cell_type": "code",
      "source": [
        "def propagtaion_diff(w, h, b):\n",
        "  \"\"\"\n",
        "  Arguments:\n",
        "    w : 가중치 행렬의 전치\n",
        "    h : 입력 데이터\n",
        "    b : 가중치 편향값\n",
        "  \"\"\"\n",
        "  num_unit = w.shape[1] # 은닉층의 unit 개수\n",
        "  num_output = w.shape[0] # 출력층의 unit 개수, bias의 개수\n",
        "  for i in range(num_unit):\n",
        "    exec(f\"b{i}=symbols('b{i}')\")\n",
        "    exec(f\"h{i}{0}=symbols('h{i}{0}')\")\n",
        "    for j in range(num_output):\n",
        "      exec(f\"w{i}{j}=symbols('w{i}{j}')\")\n",
        "  \n",
        "\n",
        "  list_num = []\n",
        "  z1 = 0\n",
        "\n",
        "  for i in range(num_unit):\n",
        "    z1 = eval(f\"b{i}\")    \n",
        "    for j in range(num_output):\n",
        "      z1 += eval(f\"w{i}{j}*h{j}{0}\")\n",
        "    \n",
        "    list_num.append(z1)\n",
        "    z1 = 0\n",
        "\n",
        "  return list_num"
      ],
      "metadata": {
        "id": "dLkQmr3dmCDA"
      },
      "execution_count": 53,
      "outputs": []
    },
    {
      "cell_type": "code",
      "source": [
        "list_num = propagtaion_diff(w2, h2, b2)\n",
        "list_num"
      ],
      "metadata": {
        "colab": {
          "base_uri": "https://localhost:8080/"
        },
        "id": "aUPp1pbonLmp",
        "outputId": "bded74be-59fc-4841-9607-606658a74978"
      },
      "execution_count": 54,
      "outputs": [
        {
          "output_type": "execute_result",
          "data": {
            "text/plain": [
              "[b0 + h00*w00 + h10*w01, b1 + h00*w10 + h10*w11]"
            ]
          },
          "metadata": {},
          "execution_count": 54
        }
      ]
    },
    {
      "cell_type": "code",
      "source": [
        "list_num[0]"
      ],
      "metadata": {
        "colab": {
          "base_uri": "https://localhost:8080/"
        },
        "id": "qzdr4r3kYWL-",
        "outputId": "afc2d3d2-797b-45be-b129-c19d5f8c34a9"
      },
      "execution_count": 39,
      "outputs": [
        {
          "output_type": "execute_result",
          "data": {
            "text/plain": [
              "array([[h00*w00 + h10*w01 + 0.3],\n",
              "       [h00*w00 + h10*w01 + 0.3]], dtype=object)"
            ]
          },
          "metadata": {},
          "execution_count": 39
        }
      ]
    },
    {
      "cell_type": "code",
      "source": [
        "print(len(w2), len(h2[0]), len(w2[0]))"
      ],
      "metadata": {
        "colab": {
          "base_uri": "https://localhost:8080/"
        },
        "id": "0Xq2BsDfHbuq",
        "outputId": "143bf38d-a5e2-4035-f929-ca7b7ba6f351"
      },
      "execution_count": 40,
      "outputs": [
        {
          "output_type": "stream",
          "name": "stdout",
          "text": [
            "2 1 2\n"
          ]
        }
      ]
    },
    {
      "cell_type": "code",
      "source": [
        "w2[0,0]"
      ],
      "metadata": {
        "colab": {
          "base_uri": "https://localhost:8080/"
        },
        "id": "DpQuVvlBCg38",
        "outputId": "dc503ad7-84ec-47d2-bbb7-a17af7459aec"
      },
      "execution_count": 41,
      "outputs": [
        {
          "output_type": "execute_result",
          "data": {
            "text/plain": [
              "0.7"
            ]
          },
          "metadata": {},
          "execution_count": 41
        }
      ]
    },
    {
      "cell_type": "code",
      "source": [
        "bw41 = (h2[0]-target[0,0]) * (h2[0]*(1-h2[0])) * h[0]\n",
        "bw41"
      ],
      "metadata": {
        "colab": {
          "base_uri": "https://localhost:8080/"
        },
        "id": "MqydW3GwbZHn",
        "outputId": "50980068-5b4a-4cf1-e19f-eb86adaa03eb"
      },
      "execution_count": 42,
      "outputs": [
        {
          "output_type": "execute_result",
          "data": {
            "text/plain": [
              "array([0.04047892])"
            ]
          },
          "metadata": {},
          "execution_count": 42
        }
      ]
    },
    {
      "cell_type": "code",
      "source": [
        "bw42 = (h2[1]-target[0,1]) * (h2[1]*(1-h2[1])) * h[0]\n",
        "bw42"
      ],
      "metadata": {
        "colab": {
          "base_uri": "https://localhost:8080/"
        },
        "id": "Wz5xBz2pbjgy",
        "outputId": "5bad1c62-5bec-40f8-ed6a-9e26d1e0249b"
      },
      "execution_count": 43,
      "outputs": [
        {
          "output_type": "execute_result",
          "data": {
            "text/plain": [
              "array([0.11298352])"
            ]
          },
          "metadata": {},
          "execution_count": 43
        }
      ]
    },
    {
      "cell_type": "code",
      "source": [
        "bw51 = (h2[0]-target[0,0]) * (h2[0]*(1-h2[0])) * h[1]\n",
        "bw51"
      ],
      "metadata": {
        "colab": {
          "base_uri": "https://localhost:8080/"
        },
        "id": "IURqIGImbpWC",
        "outputId": "a9b02053-31b3-4a5a-e6cf-43f44dee615a"
      },
      "execution_count": 44,
      "outputs": [
        {
          "output_type": "execute_result",
          "data": {
            "text/plain": [
              "array([0.04166268])"
            ]
          },
          "metadata": {},
          "execution_count": 44
        }
      ]
    },
    {
      "cell_type": "code",
      "source": [
        "bw52 = (h2[1]-target[0,1]) * (h2[1]*(1-h2[1])) * h[1]\n",
        "bw52"
      ],
      "metadata": {
        "colab": {
          "base_uri": "https://localhost:8080/"
        },
        "id": "ouJryCUacdKE",
        "outputId": "067ee4f5-8bf0-49cc-9789-f5c742b837d3"
      },
      "execution_count": 45,
      "outputs": [
        {
          "output_type": "execute_result",
          "data": {
            "text/plain": [
              "array([0.11628758])"
            ]
          },
          "metadata": {},
          "execution_count": 45
        }
      ]
    },
    {
      "cell_type": "code",
      "source": [
        "bb2 = (h2[0]-target[0,0]) * (h2[0]*(1-h2[0])) * 1 + (h2[1]-target[0,1]) * (h2[1]*(1-h2[1])) * 1\n",
        "bb2"
      ],
      "metadata": {
        "colab": {
          "base_uri": "https://localhost:8080/"
        },
        "id": "C9AcphpqdBK0",
        "outputId": "e748378a-892c-4289-a75f-8452cd22798f"
      },
      "execution_count": 46,
      "outputs": [
        {
          "output_type": "execute_result",
          "data": {
            "text/plain": [
              "array([0.16377596])"
            ]
          },
          "metadata": {},
          "execution_count": 46
        }
      ]
    },
    {
      "cell_type": "markdown",
      "source": [
        "은닉층에서 입력층으로 거슬러 올라가는 계산"
      ],
      "metadata": {
        "id": "mjgAwfPDfLT9"
      }
    },
    {
      "cell_type": "code",
      "source": [],
      "metadata": {
        "id": "fAmYgLW5e-ko"
      },
      "execution_count": 46,
      "outputs": []
    }
  ]
}