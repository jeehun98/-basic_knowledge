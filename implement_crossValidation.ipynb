{
  "nbformat": 4,
  "nbformat_minor": 0,
  "metadata": {
    "colab": {
      "provenance": []
    },
    "kernelspec": {
      "name": "python3",
      "display_name": "Python 3"
    },
    "language_info": {
      "name": "python"
    }
  },
  "cells": [
    {
      "cell_type": "code",
      "execution_count": null,
      "metadata": {
        "id": "yX2a3cj80_-z"
      },
      "outputs": [],
      "source": [
        "import numpy as np"
      ]
    },
    {
      "cell_type": "code",
      "source": [
        "a = np.zeros((700))"
      ],
      "metadata": {
        "id": "Gmm54t5p1Ovn"
      },
      "execution_count": null,
      "outputs": []
    },
    {
      "cell_type": "code",
      "source": [
        "b = np.ones((300))"
      ],
      "metadata": {
        "id": "66edtPmB2ajq"
      },
      "execution_count": null,
      "outputs": []
    },
    {
      "cell_type": "code",
      "source": [
        "data = np.concatenate((a,b))"
      ],
      "metadata": {
        "id": "qDFBp2202haq"
      },
      "execution_count": null,
      "outputs": []
    },
    {
      "cell_type": "code",
      "source": [
        "def cross_validation(data, ratio, k):\n",
        "  a, b = np.unique(data, return_counts=True)\n",
        "  label_data = []\n",
        "  train_data = []\n",
        "\n",
        "  # 각 레이블에 대한 반복\n",
        "  for i in range(0, a.shape[0]):\n",
        "    label_data.append(data[data == a[i]])\n",
        "\n",
        "    #각 레이블 별 데이터 세트 개수\n",
        "    data_size = len(label_data[i])\n",
        "    \n",
        "    validation_data_count = int(data_size / k)\n",
        "\n",
        "    label_data_np = np.array(label_data[i])\n",
        "\n",
        "    for l in range(0, k):\n",
        "      train_data_row = []\n",
        "      for j in range(0, int(validation_data_count)):\n",
        "        rand_int = np.random.randint(0,data_size - j)\n",
        "        train_data_row.append(label_data_np[rand_int])\n",
        "        label_data_np = np.delete(label_data_np, rand_int)      \n",
        "\n",
        "      data_size = data_size - validation_data_count\n",
        "      train_data.append(train_data_row)\n",
        "  \n",
        "  vaildation_data = []\n",
        "\n",
        "  for i in range(0, k):\n",
        "    validation = []\n",
        "    validation.append(train_data[i])\n",
        "    validation.append(train_data[i+k])\n",
        "    vaildation_data.append(validation)\n",
        "\n",
        "  return validation_data"
      ],
      "metadata": {
        "id": "mccV097VcPCQ"
      },
      "execution_count": null,
      "outputs": []
    },
    {
      "cell_type": "code",
      "source": [
        "validation_data = cross_validation(data, 0.7, 10)"
      ],
      "metadata": {
        "id": "h7w5goXkdCSM"
      },
      "execution_count": null,
      "outputs": []
    },
    {
      "cell_type": "code",
      "source": [
        "len(validation_data)"
      ],
      "metadata": {
        "colab": {
          "base_uri": "https://localhost:8080/"
        },
        "id": "STUj-PJFdGeC",
        "outputId": "bc782cc9-782e-42ca-e7d6-86c80faa94f7"
      },
      "execution_count": null,
      "outputs": [
        {
          "output_type": "execute_result",
          "data": {
            "text/plain": [
              "2"
            ]
          },
          "metadata": {},
          "execution_count": 64
        }
      ]
    },
    {
      "cell_type": "code",
      "source": [],
      "metadata": {
        "id": "NbYaO_APdHEA"
      },
      "execution_count": null,
      "outputs": []
    }
  ]
}