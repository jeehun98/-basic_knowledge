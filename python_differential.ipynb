{
  "nbformat": 4,
  "nbformat_minor": 0,
  "metadata": {
    "colab": {
      "provenance": [],
      "collapsed_sections": []
    },
    "kernelspec": {
      "name": "python3",
      "display_name": "Python 3"
    },
    "language_info": {
      "name": "python"
    }
  },
  "cells": [
    {
      "cell_type": "code",
      "source": [
        "from sympy import symbols"
      ],
      "metadata": {
        "id": "4ah09nHYnKmR"
      },
      "execution_count": 4,
      "outputs": []
    },
    {
      "cell_type": "markdown",
      "source": [
        "symnols 를 이용해 x를 기호변수로 바꾸고 fx를 정의한 후 변수, 기호변수에 대입하는 subs() 메서드를 통해\n",
        "대입값을 이용하여 y 값을 구한다.\n",
        "그 후 공식을 이용해 평균변화율을 구한다."
      ],
      "metadata": {
        "id": "6JCC3t5dnRzw"
      }
    },
    {
      "cell_type": "code",
      "execution_count": 9,
      "metadata": {
        "id": "mkfmj7sIiaP3"
      },
      "outputs": [],
      "source": [
        "def average(a, b):\n",
        "  m = max(a, b)\n",
        "  n = min(a, b)\n",
        "\n",
        "  x = symbols('x')\n",
        "\n",
        "  fx = x**2 + 2*x + 5\n",
        "  fb = fx.subs(x, m)\n",
        "  fa = fx.subs(x, n)\n",
        "\n",
        "  result = (fb - fa) / (b - a)\n",
        "  return result"
      ]
    },
    {
      "cell_type": "code",
      "source": [
        "print(average(0, 2))"
      ],
      "metadata": {
        "colab": {
          "base_uri": "https://localhost:8080/"
        },
        "id": "1QmO_LYpm-nb",
        "outputId": "591e7e0f-4e15-4320-c916-279028f55011"
      },
      "execution_count": 10,
      "outputs": [
        {
          "output_type": "stream",
          "name": "stdout",
          "text": [
            "4\n"
          ]
        }
      ]
    },
    {
      "cell_type": "markdown",
      "source": [
        "순간변화율을 구하기 위해 도함수를 구하고 대입"
      ],
      "metadata": {
        "id": "AYjW_j2frrKS"
      }
    },
    {
      "cell_type": "code",
      "source": [
        "from sympy import Derivative, symbols\n",
        " \n",
        "x = symbols('x') #x를 기호변수화\n",
        "fx = 4 * x ** 4 + 3 * x ** 3 +  2 * x ** 2 + x + 1\n",
        " \n",
        "fprime = Derivative(fx, x).doit() #x에 대해서 미분\n",
        "print(\"fx 의 도함수는 : \", fprime, \"입니다\")\n",
        "n = fprime.subs({x: 3})\n",
        "print(\"fx에서 x = 3 에서의 순간변화율(미분계수는) \", n , \"입니다\") "
      ],
      "metadata": {
        "colab": {
          "base_uri": "https://localhost:8080/"
        },
        "id": "iDcS7kkmnCl0",
        "outputId": "f6096cc7-aeca-45be-c722-6f9e1f4abece"
      },
      "execution_count": 11,
      "outputs": [
        {
          "output_type": "stream",
          "name": "stdout",
          "text": [
            "fx 의 도함수는 :  16*x**3 + 9*x**2 + 4*x + 1 입니다\n",
            "fx에서 x = 3 에서의 순간변화율(미분계수는)  526 입니다\n"
          ]
        }
      ]
    },
    {
      "cell_type": "markdown",
      "source": [
        "이계도 함수"
      ],
      "metadata": {
        "id": "nQrF5uAZuA5k"
      }
    },
    {
      "cell_type": "code",
      "source": [
        "from sympy import Derivative, symbols\n",
        " \n",
        "x = symbols('x') #x를 기호변수화\n",
        "fx = 4 * x ** 4 + 3 * x ** 3 +  2 * x ** 2 + x + 1\n",
        " \n",
        "fprime = Derivative(fx, x).doit() #x에 대해서 미분\n",
        "print(\"fx 의 도함수는 : \", fprime, \"입니다\")\n",
        "fdoubleprime = Derivative(fprime, x).doit() # fprime 에 대하여 미분\n",
        "print(\"fx의 이계도함수는 : \", fdoubleprime, \"입니다\")\n",
        " \n",
        ">>> fx 의 도함수는 :  16*x**3 + 9*x**2 + 4*x + 1 입니다\n",
        ">>> fx의 이계도함수는 :  48*x**2 + 18*x + 4 입니다"
      ],
      "metadata": {
        "id": "d7XxJyxdt0Es"
      },
      "execution_count": null,
      "outputs": []
    }
  ]
}