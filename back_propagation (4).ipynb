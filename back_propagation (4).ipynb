{
  "nbformat": 4,
  "nbformat_minor": 0,
  "metadata": {
    "colab": {
      "provenance": [],
      "collapsed_sections": []
    },
    "kernelspec": {
      "name": "python3",
      "display_name": "Python 3"
    },
    "language_info": {
      "name": "python"
    }
  },
  "cells": [
    {
      "cell_type": "markdown",
      "source": [
        "오차 역전파를 통해 오차를 기반으로 가중치를 수정한 후 더 좋은 성능을 낼 수 있도록 모형을 개선한다.\n",
        "\n",
        "임의의 입력 값과 출력값의 설정"
      ],
      "metadata": {
        "id": "NjLAxyO2MoRv"
      }
    },
    {
      "cell_type": "code",
      "execution_count": 93,
      "metadata": {
        "id": "oRIr-snNasdA"
      },
      "outputs": [],
      "source": [
        "import numpy as np"
      ]
    },
    {
      "cell_type": "code",
      "source": [
        "input = np.array([[1,2,3]])\n",
        "input.shape"
      ],
      "metadata": {
        "colab": {
          "base_uri": "https://localhost:8080/"
        },
        "id": "mxJGieDwNiNe",
        "outputId": "66a5f34e-1e9b-4f89-ef34-4e036e495799"
      },
      "execution_count": 94,
      "outputs": [
        {
          "output_type": "execute_result",
          "data": {
            "text/plain": [
              "(1, 3)"
            ]
          },
          "metadata": {},
          "execution_count": 94
        }
      ]
    },
    {
      "cell_type": "code",
      "source": [
        "target = np.array([[0.5,0.1]])\n",
        "target.shape"
      ],
      "metadata": {
        "colab": {
          "base_uri": "https://localhost:8080/"
        },
        "id": "7HYGROypNm4q",
        "outputId": "0a29b29a-b8d6-447c-e4e9-1f434bb4ce97"
      },
      "execution_count": 95,
      "outputs": [
        {
          "output_type": "execute_result",
          "data": {
            "text/plain": [
              "(1, 2)"
            ]
          },
          "metadata": {},
          "execution_count": 95
        }
      ]
    },
    {
      "cell_type": "code",
      "source": [
        "print(input.shape, target.shape)"
      ],
      "metadata": {
        "colab": {
          "base_uri": "https://localhost:8080/"
        },
        "id": "OsAKO100PUev",
        "outputId": "5ca0383d-30c1-49bc-fa9d-f1c8f6f304b6"
      },
      "execution_count": 96,
      "outputs": [
        {
          "output_type": "stream",
          "name": "stdout",
          "text": [
            "(1, 3) (1, 2)\n"
          ]
        }
      ]
    },
    {
      "cell_type": "markdown",
      "source": [
        "임의의 가중치 설정"
      ],
      "metadata": {
        "id": "zc95DpoMyAJn"
      }
    },
    {
      "cell_type": "code",
      "source": [
        "w1 = np.array([[0.1,0.3,0.5],[0.2,0.4,0.6]])\n",
        "w1.shape"
      ],
      "metadata": {
        "colab": {
          "base_uri": "https://localhost:8080/"
        },
        "id": "--p1LlbbrkBN",
        "outputId": "c28273f3-9664-4356-d396-f62f0a7347bf"
      },
      "execution_count": 97,
      "outputs": [
        {
          "output_type": "execute_result",
          "data": {
            "text/plain": [
              "(2, 3)"
            ]
          },
          "metadata": {},
          "execution_count": 97
        }
      ]
    },
    {
      "cell_type": "code",
      "source": [
        "w2 = np.array([[0.7,0.9],[0.8,0.1]])\n",
        "w2.shape"
      ],
      "metadata": {
        "colab": {
          "base_uri": "https://localhost:8080/"
        },
        "id": "QW2ZWWPa1mcQ",
        "outputId": "5c163e82-2037-4ad8-840d-7be1008e011e"
      },
      "execution_count": 98,
      "outputs": [
        {
          "output_type": "execute_result",
          "data": {
            "text/plain": [
              "(2, 2)"
            ]
          },
          "metadata": {},
          "execution_count": 98
        }
      ]
    },
    {
      "cell_type": "code",
      "source": [
        "b1 = np.array([[0.5],[0.5]])\n",
        "b1.shape"
      ],
      "metadata": {
        "colab": {
          "base_uri": "https://localhost:8080/"
        },
        "id": "On2noTZF6RnU",
        "outputId": "714be93b-25ce-4624-e650-2aaaf410ea18"
      },
      "execution_count": 99,
      "outputs": [
        {
          "output_type": "execute_result",
          "data": {
            "text/plain": [
              "(2, 1)"
            ]
          },
          "metadata": {},
          "execution_count": 99
        }
      ]
    },
    {
      "cell_type": "code",
      "source": [
        "b2 = np.array([[0.3],[0.3]])\n",
        "b2.shape"
      ],
      "metadata": {
        "colab": {
          "base_uri": "https://localhost:8080/"
        },
        "id": "dJpL6rwX6ZaY",
        "outputId": "555009fe-2afa-4a7b-bb0a-d4063a3a3a97"
      },
      "execution_count": 100,
      "outputs": [
        {
          "output_type": "execute_result",
          "data": {
            "text/plain": [
              "(2, 1)"
            ]
          },
          "metadata": {},
          "execution_count": 100
        }
      ]
    },
    {
      "cell_type": "markdown",
      "source": [
        "순전파를 통한 출력값 계산"
      ],
      "metadata": {
        "id": "Znn1P6QJ7BSa"
      }
    },
    {
      "cell_type": "code",
      "source": [
        "print(input.shape,w1.shape)"
      ],
      "metadata": {
        "colab": {
          "base_uri": "https://localhost:8080/"
        },
        "id": "33kDpyYQ7NSK",
        "outputId": "d018307e-754e-4c89-ac3f-1537079051c5"
      },
      "execution_count": 101,
      "outputs": [
        {
          "output_type": "stream",
          "name": "stdout",
          "text": [
            "(1, 3) (2, 3)\n"
          ]
        }
      ]
    },
    {
      "cell_type": "code",
      "source": [
        "g11 = w1@(input.T)+b1 # 순전파 계산\n",
        "g11"
      ],
      "metadata": {
        "colab": {
          "base_uri": "https://localhost:8080/"
        },
        "id": "m8kqe2Jj6drH",
        "outputId": "1fc31d17-0dc3-4ae2-e629-7df28f68a162"
      },
      "execution_count": 102,
      "outputs": [
        {
          "output_type": "execute_result",
          "data": {
            "text/plain": [
              "array([[2.7],\n",
              "       [3.3]])"
            ]
          },
          "metadata": {},
          "execution_count": 102
        }
      ]
    },
    {
      "cell_type": "code",
      "source": [
        "g12 = w1.dot(input.T)+b1\n",
        "g12"
      ],
      "metadata": {
        "colab": {
          "base_uri": "https://localhost:8080/"
        },
        "id": "XtNhM0DA7gZ1",
        "outputId": "9476e212-b0f1-49df-921d-df542de737a5"
      },
      "execution_count": 103,
      "outputs": [
        {
          "output_type": "execute_result",
          "data": {
            "text/plain": [
              "array([[2.7],\n",
              "       [3.3]])"
            ]
          },
          "metadata": {},
          "execution_count": 103
        }
      ]
    },
    {
      "cell_type": "code",
      "source": [
        "print(np.equal(g11, g12))"
      ],
      "metadata": {
        "colab": {
          "base_uri": "https://localhost:8080/"
        },
        "id": "z1yAhUE-8GHa",
        "outputId": "9a6c0488-446c-4309-a2c6-3302208e4bae"
      },
      "execution_count": 104,
      "outputs": [
        {
          "output_type": "stream",
          "name": "stdout",
          "text": [
            "[[ True]\n",
            " [ True]]\n"
          ]
        }
      ]
    },
    {
      "cell_type": "code",
      "source": [
        "h = 1/(1+np.exp(-g11)) # 활성화 함수, 시그모이드 계산\n",
        "print(h, h.shape)"
      ],
      "metadata": {
        "colab": {
          "base_uri": "https://localhost:8080/"
        },
        "id": "U_DMc9hT8Iab",
        "outputId": "71a5a4f2-6714-4f58-fc93-8a6b7b8b729b"
      },
      "execution_count": 181,
      "outputs": [
        {
          "output_type": "stream",
          "name": "stdout",
          "text": [
            "[[0.93702664]\n",
            " [0.96442881]] (2, 1)\n"
          ]
        }
      ]
    },
    {
      "cell_type": "markdown",
      "source": [
        "함수화"
      ],
      "metadata": {
        "id": "05ulwp1B__iC"
      }
    },
    {
      "cell_type": "code",
      "source": [
        "def hidden_cal(x,w,b):\n",
        "  g = w.dot(x)+b\n",
        "  h = 1/(1+np.exp(-g))\n",
        "  return h"
      ],
      "metadata": {
        "id": "yZIHTPT6-2ZW"
      },
      "execution_count": 106,
      "outputs": []
    },
    {
      "cell_type": "code",
      "source": [
        "h2 = hidden_cal(h,w2,b2)\n",
        "h2"
      ],
      "metadata": {
        "colab": {
          "base_uri": "https://localhost:8080/"
        },
        "id": "74tbCwLxAS_f",
        "outputId": "14b29347-5bae-4787-e7ca-ff291d737bef"
      },
      "execution_count": 107,
      "outputs": [
        {
          "output_type": "execute_result",
          "data": {
            "text/plain": [
              "array([[0.86103399],\n",
              "       [0.75879129]])"
            ]
          },
          "metadata": {},
          "execution_count": 107
        }
      ]
    },
    {
      "cell_type": "markdown",
      "source": [
        "비용 함수 정의 및 1차 미분식 계산\n",
        "\n",
        "비용 함수로는 오차 제곱합을 사용, 미분식의 계산을 편리하게 하기 위한 1/2 연산의 추가"
      ],
      "metadata": {
        "id": "cMmu78WhApe1"
      }
    },
    {
      "cell_type": "markdown",
      "source": [
        "활성화 함수로 사용하는 시그모이드 함수의 미분"
      ],
      "metadata": {
        "id": "E0kCNB9LX_dN"
      }
    },
    {
      "cell_type": "code",
      "source": [
        "from sympy import Derivative, symbols"
      ],
      "metadata": {
        "id": "QIWZ51EcAYDJ"
      },
      "execution_count": 108,
      "outputs": []
    },
    {
      "cell_type": "code",
      "source": [
        "y1 = symbols('y1')\n",
        "y2 = symbols('y2')\n",
        "\n",
        "t1 = symbols('t1')\n",
        "t2 = symbols('t2')\n",
        "\n",
        "C = 1/2*(((y1-t1)**2)+((y2-t2)**2))"
      ],
      "metadata": {
        "id": "3n4QWBym3boh"
      },
      "execution_count": 109,
      "outputs": []
    },
    {
      "cell_type": "code",
      "source": [
        "fprime = Derivative(C, t1).doit()\n",
        "fprime"
      ],
      "metadata": {
        "colab": {
          "base_uri": "https://localhost:8080/",
          "height": 38
        },
        "id": "EjzAouc46HLB",
        "outputId": "167b57d5-b0ca-4802-d024-05d5318fbdf4"
      },
      "execution_count": 110,
      "outputs": [
        {
          "output_type": "execute_result",
          "data": {
            "text/plain": [
              "1.0*t1 - 1.0*y1"
            ],
            "text/latex": "$\\displaystyle 1.0 t_{1} - 1.0 y_{1}$"
          },
          "metadata": {},
          "execution_count": 110
        }
      ]
    },
    {
      "cell_type": "code",
      "source": [
        "fprime = Derivative(C, t2).doit()\n",
        "fprime"
      ],
      "metadata": {
        "colab": {
          "base_uri": "https://localhost:8080/",
          "height": 38
        },
        "id": "bPGICRUY6LgB",
        "outputId": "cb55376d-b4d8-4fce-9def-3b561081dcbb"
      },
      "execution_count": 111,
      "outputs": [
        {
          "output_type": "execute_result",
          "data": {
            "text/plain": [
              "1.0*t2 - 1.0*y2"
            ],
            "text/latex": "$\\displaystyle 1.0 t_{2} - 1.0 y_{2}$"
          },
          "metadata": {},
          "execution_count": 111
        }
      ]
    },
    {
      "cell_type": "code",
      "source": [
        "x = symbols('x')"
      ],
      "metadata": {
        "id": "MLnlrgnRYJL0"
      },
      "execution_count": 112,
      "outputs": []
    },
    {
      "cell_type": "code",
      "source": [
        "fx = 1/(1+np.e**-x)"
      ],
      "metadata": {
        "id": "QI9zDVhB5jSK"
      },
      "execution_count": 113,
      "outputs": []
    },
    {
      "cell_type": "code",
      "source": [
        "fprime = Derivative(fx, x).doit()\n",
        "fprime"
      ],
      "metadata": {
        "colab": {
          "base_uri": "https://localhost:8080/",
          "height": 60
        },
        "id": "wSLxR-JKYTuz",
        "outputId": "fbc95815-f1a7-4b07-ad48-8db74088d5e2"
      },
      "execution_count": 114,
      "outputs": [
        {
          "output_type": "execute_result",
          "data": {
            "text/plain": [
              "1.0*2.71828182845905**(-x)/(1 + 2.71828182845905**(-x))**2"
            ],
            "text/latex": "$\\displaystyle \\frac{1.0 \\cdot 2.71828182845905^{- x}}{\\left(1 + 2.71828182845905^{- x}\\right)^{2}}$"
          },
          "metadata": {},
          "execution_count": 114
        }
      ]
    },
    {
      "cell_type": "markdown",
      "source": [
        "역전파를 통한 1차 미분값 구하기"
      ],
      "metadata": {
        "id": "UVmk6Sm4Zc4G"
      }
    },
    {
      "cell_type": "markdown",
      "source": [
        "은닉층에서 출력층까지 연결되는 가중치가 변했을 때 비용 함수의 변화량"
      ],
      "metadata": {
        "id": "1vxqUcIsZh0u"
      }
    },
    {
      "cell_type": "code",
      "source": [
        "target.astype"
      ],
      "metadata": {
        "colab": {
          "base_uri": "https://localhost:8080/"
        },
        "id": "HaqBCr5RasnF",
        "outputId": "5e7f3ffb-9f33-4aab-d70b-d98098b29e6a"
      },
      "execution_count": 115,
      "outputs": [
        {
          "output_type": "execute_result",
          "data": {
            "text/plain": [
              "<function ndarray.astype>"
            ]
          },
          "metadata": {},
          "execution_count": 115
        }
      ]
    },
    {
      "cell_type": "code",
      "source": [
        "target[0,0]"
      ],
      "metadata": {
        "colab": {
          "base_uri": "https://localhost:8080/"
        },
        "id": "nNxyTV3magKG",
        "outputId": "db968029-5d9a-4e20-eb13-9a596fc4f8a0"
      },
      "execution_count": 116,
      "outputs": [
        {
          "output_type": "execute_result",
          "data": {
            "text/plain": [
              "0.5"
            ]
          },
          "metadata": {},
          "execution_count": 116
        }
      ]
    },
    {
      "cell_type": "code",
      "source": [
        "target[0,1]"
      ],
      "metadata": {
        "colab": {
          "base_uri": "https://localhost:8080/"
        },
        "id": "9YRC37Kpb3ZJ",
        "outputId": "d0f49b6b-620d-4310-83c6-6f0eeeab1789"
      },
      "execution_count": 117,
      "outputs": [
        {
          "output_type": "execute_result",
          "data": {
            "text/plain": [
              "0.1"
            ]
          },
          "metadata": {},
          "execution_count": 117
        }
      ]
    },
    {
      "cell_type": "code",
      "source": [
        "h2"
      ],
      "metadata": {
        "colab": {
          "base_uri": "https://localhost:8080/"
        },
        "id": "85t-5fIMbwmB",
        "outputId": "9b79f802-68fb-4c4c-c8f6-35aae854be74"
      },
      "execution_count": 118,
      "outputs": [
        {
          "output_type": "execute_result",
          "data": {
            "text/plain": [
              "array([[0.86103399],\n",
              "       [0.75879129]])"
            ]
          },
          "metadata": {},
          "execution_count": 118
        }
      ]
    },
    {
      "cell_type": "code",
      "source": [
        "h2[0]"
      ],
      "metadata": {
        "colab": {
          "base_uri": "https://localhost:8080/"
        },
        "id": "a3W5HWfFbyle",
        "outputId": "d7e4e70c-1b46-48ef-82cc-283534f7c706"
      },
      "execution_count": 119,
      "outputs": [
        {
          "output_type": "execute_result",
          "data": {
            "text/plain": [
              "array([0.86103399])"
            ]
          },
          "metadata": {},
          "execution_count": 119
        }
      ]
    },
    {
      "cell_type": "code",
      "source": [
        "h2[1]"
      ],
      "metadata": {
        "colab": {
          "base_uri": "https://localhost:8080/"
        },
        "id": "uSQdeYtIbz4l",
        "outputId": "fe67881e-ff6a-48ff-9d49-b20e34325900"
      },
      "execution_count": 120,
      "outputs": [
        {
          "output_type": "execute_result",
          "data": {
            "text/plain": [
              "array([0.75879129])"
            ]
          },
          "metadata": {},
          "execution_count": 120
        }
      ]
    },
    {
      "cell_type": "code",
      "source": [
        "h2[0]-target[0,0]"
      ],
      "metadata": {
        "colab": {
          "base_uri": "https://localhost:8080/"
        },
        "id": "cumbg-4qYuGm",
        "outputId": "23c2eee3-4556-4c05-8c33-8fa7291f0040"
      },
      "execution_count": 121,
      "outputs": [
        {
          "output_type": "execute_result",
          "data": {
            "text/plain": [
              "array([0.36103399])"
            ]
          },
          "metadata": {},
          "execution_count": 121
        }
      ]
    },
    {
      "cell_type": "code",
      "source": [
        "h2[0]*(1-h2[0])"
      ],
      "metadata": {
        "colab": {
          "base_uri": "https://localhost:8080/"
        },
        "id": "fHNKL2PgbN2m",
        "outputId": "7f4ef324-d543-453f-8ce2-837e1feab7a1"
      },
      "execution_count": 122,
      "outputs": [
        {
          "output_type": "execute_result",
          "data": {
            "text/plain": [
              "array([0.11965446])"
            ]
          },
          "metadata": {},
          "execution_count": 122
        }
      ]
    },
    {
      "cell_type": "markdown",
      "source": [
        "거꾸러 올라가는 과정의 수식 계산"
      ],
      "metadata": {
        "id": "pxu58DeXflIR"
      }
    },
    {
      "cell_type": "code",
      "source": [
        "w2 # 은닉층의 가중치 행렬의 전치"
      ],
      "metadata": {
        "colab": {
          "base_uri": "https://localhost:8080/"
        },
        "id": "dMQLd2ztfkau",
        "outputId": "ebbe4c50-2b42-459a-b872-4902def70c67"
      },
      "execution_count": 123,
      "outputs": [
        {
          "output_type": "execute_result",
          "data": {
            "text/plain": [
              "array([[0.7, 0.9],\n",
              "       [0.8, 0.1]])"
            ]
          },
          "metadata": {},
          "execution_count": 123
        }
      ]
    },
    {
      "cell_type": "code",
      "source": [
        "h2 # 은닉층의 입력값"
      ],
      "metadata": {
        "colab": {
          "base_uri": "https://localhost:8080/"
        },
        "id": "jWQMdgR4gYNz",
        "outputId": "ef9ba564-35eb-454a-c04e-07f156c27c24"
      },
      "execution_count": 124,
      "outputs": [
        {
          "output_type": "execute_result",
          "data": {
            "text/plain": [
              "array([[0.86103399],\n",
              "       [0.75879129]])"
            ]
          },
          "metadata": {},
          "execution_count": 124
        }
      ]
    },
    {
      "cell_type": "code",
      "source": [
        "b2 # 은닉층의 편향 가중치"
      ],
      "metadata": {
        "colab": {
          "base_uri": "https://localhost:8080/"
        },
        "id": "7cUhErrPgm9a",
        "outputId": "71d505d2-9808-46b2-dc24-d375c20da200"
      },
      "execution_count": 125,
      "outputs": [
        {
          "output_type": "execute_result",
          "data": {
            "text/plain": [
              "array([[0.3],\n",
              "       [0.3]])"
            ]
          },
          "metadata": {},
          "execution_count": 125
        }
      ]
    },
    {
      "cell_type": "code",
      "source": [
        "print(w2.shape, h2.shape)"
      ],
      "metadata": {
        "colab": {
          "base_uri": "https://localhost:8080/"
        },
        "id": "a4BnCKABh6O5",
        "outputId": "efe495aa-aefb-4ecc-c5c4-b16f357d85cd"
      },
      "execution_count": 126,
      "outputs": [
        {
          "output_type": "stream",
          "name": "stdout",
          "text": [
            "(2, 2) (2, 1)\n"
          ]
        }
      ]
    },
    {
      "cell_type": "code",
      "source": [
        "w2@(h2)+b2"
      ],
      "metadata": {
        "colab": {
          "base_uri": "https://localhost:8080/"
        },
        "id": "aeZnF8Keg0Vb",
        "outputId": "afec7a5a-88d0-42e2-fd7b-9eae934a64a3"
      },
      "execution_count": 127,
      "outputs": [
        {
          "output_type": "execute_result",
          "data": {
            "text/plain": [
              "array([[1.58563595],\n",
              "       [1.06470632]])"
            ]
          },
          "metadata": {},
          "execution_count": 127
        }
      ]
    },
    {
      "cell_type": "code",
      "source": [
        "print(w2[0,0], h2[0,0])"
      ],
      "metadata": {
        "colab": {
          "base_uri": "https://localhost:8080/"
        },
        "id": "JEXllP_Xhi87",
        "outputId": "eed15d84-08ee-4897-8903-a20a40de4db5"
      },
      "execution_count": 128,
      "outputs": [
        {
          "output_type": "stream",
          "name": "stdout",
          "text": [
            "0.7 0.8610339864424298\n"
          ]
        }
      ]
    },
    {
      "cell_type": "code",
      "source": [
        "w2[0,0]*h2[0,0]"
      ],
      "metadata": {
        "colab": {
          "base_uri": "https://localhost:8080/"
        },
        "id": "4AVggMAFhVaf",
        "outputId": "1308751a-74e7-4c61-9c72-f690cef95b27"
      },
      "execution_count": 129,
      "outputs": [
        {
          "output_type": "execute_result",
          "data": {
            "text/plain": [
              "0.6027237905097008"
            ]
          },
          "metadata": {},
          "execution_count": 129
        }
      ]
    },
    {
      "cell_type": "code",
      "source": [
        "w2[0,1]*h2[1,0]"
      ],
      "metadata": {
        "colab": {
          "base_uri": "https://localhost:8080/"
        },
        "id": "o0Zj3RrsiDNq",
        "outputId": "44ebfa6f-a9ec-4778-b2f3-e307c4ccf705"
      },
      "execution_count": 130,
      "outputs": [
        {
          "output_type": "execute_result",
          "data": {
            "text/plain": [
              "0.6829121630087827"
            ]
          },
          "metadata": {},
          "execution_count": 130
        }
      ]
    },
    {
      "cell_type": "code",
      "source": [
        "w2[0,0]*h2[0,0]+w2[0,1]*h2[1,0]+b2[0]"
      ],
      "metadata": {
        "colab": {
          "base_uri": "https://localhost:8080/"
        },
        "id": "QR6HB1miiLD7",
        "outputId": "e657b5da-edcc-41ed-fc34-acbe2102175b"
      },
      "execution_count": 131,
      "outputs": [
        {
          "output_type": "execute_result",
          "data": {
            "text/plain": [
              "array([1.58563595])"
            ]
          },
          "metadata": {},
          "execution_count": 131
        }
      ]
    },
    {
      "cell_type": "markdown",
      "source": [
        "위 수식을 미분한 값을 얻기 위한 함수 작성\n",
        "\n",
        "행렬곱을 펼친 수식을 얻어야 한다.\n"
      ],
      "metadata": {
        "id": "sfoLz--imCtC"
      }
    },
    {
      "cell_type": "code",
      "source": [
        "x = symbols('x')\n",
        "y = symbols('y')\n",
        "\n",
        "b = x+y\n",
        "c = b+y\n",
        "c"
      ],
      "metadata": {
        "colab": {
          "base_uri": "https://localhost:8080/",
          "height": 38
        },
        "id": "k1oi4B5RKOqu",
        "outputId": "def6edf6-f3fc-4ac6-eb21-bcabfe04dc3b"
      },
      "execution_count": 132,
      "outputs": [
        {
          "output_type": "execute_result",
          "data": {
            "text/plain": [
              "x + 2*y"
            ],
            "text/latex": "$\\displaystyle x + 2 y$"
          },
          "metadata": {},
          "execution_count": 132
        }
      ]
    },
    {
      "cell_type": "code",
      "source": [
        "def propagation_diff(w, h, b):\n",
        "  \"\"\"\n",
        "  행렬 연산을 펼친 수식(문자열)을 얻기 위한 함수\n",
        "  Arguments:\n",
        "    w : 가중치 행렬의 전치\n",
        "    h : 입력 데이터\n",
        "    b : 가중치 편향값\n",
        "  Return:\n",
        "    list_num : 수식 문자열\n",
        "  \"\"\"\n",
        "  num_unit = w.shape[1] # 은닉층의 unit 개수\n",
        "  num_output = w.shape[0] # 출력층의 unit 개수, bias의 개수\n",
        "\n",
        "  # 각 행렬의 기호 변수화\n",
        "  for i in range(num_unit):\n",
        "    exec(f\"b{i} = symbols('b{i}')\")\n",
        "    exec(f\"h{i}{0} = symbols('h{i}{0}')\")\n",
        "    for j in range(num_output):\n",
        "      exec(f\"w{i}{j}=symbols('w{i}{j}')\")\n",
        "  \n",
        "  # 각 기호 변수들에 대한 미분 시행\n",
        "  list_num = []\n",
        "  list_mul = 0\n",
        "\n",
        "  for i in range(num_unit):\n",
        "    # 출력층의 i번째 입력 수식값 생성\n",
        "    list_mul = eval(f\"b{i}\")    \n",
        "    for j in range(num_output):\n",
        "      list_mul += eval(f\"w{i}{j}*h{j}{0}\")\n",
        "\n",
        "    list_num.append(list_mul)\n",
        "    z1 = 0\n",
        "\n",
        "  return list_num"
      ],
      "metadata": {
        "id": "dLkQmr3dmCDA"
      },
      "execution_count": 133,
      "outputs": []
    },
    {
      "cell_type": "code",
      "source": [
        "list_mul = propagation_diff(w2, h2, b2)\n",
        "list_mul"
      ],
      "metadata": {
        "colab": {
          "base_uri": "https://localhost:8080/"
        },
        "id": "l8wmYmXG6n2s",
        "outputId": "850e8705-f6a4-4142-f412-4d6075eb46ca"
      },
      "execution_count": 134,
      "outputs": [
        {
          "output_type": "execute_result",
          "data": {
            "text/plain": [
              "[b0 + h00*w00 + h10*w01, b1 + h00*w10 + h10*w11]"
            ]
          },
          "metadata": {},
          "execution_count": 134
        }
      ]
    },
    {
      "cell_type": "code",
      "source": [
        "# 출력층에서 은닉층으로 거꾸로 거슬러 올라가는 과정\n",
        "def propagation_matrix_element(matrix_list, num_unit, num_output):\n",
        "  \"\"\"\n",
        "  Arguments:\n",
        "    matrix_list : \n",
        "    num_unit : \n",
        "    numt_output :\n",
        "  \"\"\"\n",
        "  # 각 행렬의 기호 변수화\n",
        "  for i in range(num_unit):\n",
        "    exec(f\"b{i} = symbols('b{i}')\")\n",
        "    exec(f\"h{i}{0} = symbols('h{i}{0}')\")\n",
        "    for j in range(num_output):\n",
        "      exec(f\"w{i}{j}=symbols('w{i}{j}')\")\n",
        "\n",
        "  fprime = []\n",
        "\n",
        "  for i in range(num_unit):\n",
        "    for j in range(num_output):\n",
        "      fprime.append(eval(f\"Derivative({matrix_list}[{i}], 'w{i}{j}').doit()\"))\n",
        "    fprime.append(eval(f\"Derivative({matrix_list}[{i}], 'b{i}{0}').doit()\"))\n",
        "\n",
        "  return fprime"
      ],
      "metadata": {
        "id": "aUPp1pbonLmp"
      },
      "execution_count": 135,
      "outputs": []
    },
    {
      "cell_type": "code",
      "source": [
        "list = propagation_matrix_element(list_mul, w2.shape[0], w2.shape[1])\n",
        "for i in list:\n",
        "  print(i)"
      ],
      "metadata": {
        "colab": {
          "base_uri": "https://localhost:8080/"
        },
        "id": "3bIPx_ee1rEl",
        "outputId": "cfb1f978-21d6-4e3d-96e9-c9f974a2566d"
      },
      "execution_count": 136,
      "outputs": [
        {
          "output_type": "stream",
          "name": "stdout",
          "text": [
            "h00\n",
            "h10\n",
            "0\n",
            "h00\n",
            "h10\n",
            "0\n"
          ]
        }
      ]
    },
    {
      "cell_type": "markdown",
      "source": [
        "출력값의 변화에 따른 오차의 변화량\n",
        "\n",
        "z값의 변화에 따른 출력값의 변화량\n",
        "\n",
        "한 가중치 변화에 따른 z값의  변화량\n",
        "\n",
        "의 구현, "
      ],
      "metadata": {
        "id": "DBF6esc2BXQQ"
      }
    },
    {
      "cell_type": "code",
      "source": [
        "# 총 가중치의 개수, 가중치 행렬의 요소 개수 + 편향 개수 1\n",
        "weight_num = w2.shape[0]*w2.shape[1]+1\n",
        "weight_num"
      ],
      "metadata": {
        "colab": {
          "base_uri": "https://localhost:8080/"
        },
        "id": "y5tSyt3MBMnA",
        "outputId": "ff7bc8bd-84c4-4e92-cba0-ccb52adf01cf"
      },
      "execution_count": 137,
      "outputs": [
        {
          "output_type": "execute_result",
          "data": {
            "text/plain": [
              "5"
            ]
          },
          "metadata": {},
          "execution_count": 137
        }
      ]
    },
    {
      "cell_type": "code",
      "source": [],
      "metadata": {
        "id": "ZVq8uONA_Vap"
      },
      "execution_count": null,
      "outputs": []
    },
    {
      "cell_type": "code",
      "source": [
        "# 각 가중치 변화에 따른 비용 함수의 변화량 계산\n",
        "def propagation_matrix_element2(matrix_list, num_unit, num_output, predict, target, input):\n",
        "  \"\"\"\n",
        "  Arguments:\n",
        "    matrix_list : \n",
        "    num_unit : \n",
        "    numt_output :\n",
        "    predict\n",
        "    target\n",
        "  \"\"\"\n",
        "  # 각 행렬의 기호 변수화\n",
        "  for i in range(num_unit):\n",
        "    exec(f\"b{i} = symbols('b{i}')\")\n",
        "    exec(f\"h{i}{0} = symbols('h{i}{0}')\")\n",
        "    for j in range(num_output):\n",
        "      exec(f\"w{i}{j}=symbols('w{i}{j}')\")\n",
        "\n",
        "  fprime = []\n",
        "\n",
        "  for i in range(num_unit):\n",
        "    for j in range(num_output):\n",
        "      fprime.append(eval(f\"Derivative({matrix_list}[{i}], 'w{i}{j}').doit()\"))\n",
        "    fprime.append(eval(f\"Derivative({matrix_list}[{i}], 'b{i}{0}').doit()\"))\n",
        "\n",
        "  cal_list = []\n",
        "  b = 0\n",
        "\n",
        "  # 각 가중치에 대한 비용 함수의 변화량\n",
        "  for i in range(num_unit):\n",
        "    for j in range(num_output):\n",
        "      a = eval(f\"(predict[{i}] - target[0, {i}]) * (predict[{i}]*(1-predict[{i}]) * h[{j},0])\")\n",
        "      print(a)\n",
        "    \n",
        "    b += eval(f\"(predict[{i}] - target[0, {i}]) * (predict[{i}]*(1-predict[{i}]))\")\n",
        "    \n",
        "  print(b)\n",
        "\n",
        "  return fprime"
      ],
      "metadata": {
        "id": "cVnil8ytCHjJ"
      },
      "execution_count": 195,
      "outputs": []
    },
    {
      "cell_type": "code",
      "source": [
        "propagation_matrix_element2(list_mul, w2.shape[0], w2.shape[1], h2, target, h)"
      ],
      "metadata": {
        "colab": {
          "base_uri": "https://localhost:8080/"
        },
        "id": "qBO9KaB87XRs",
        "outputId": "e8b2e0c7-20fc-4e06-bf83-7fb55919a294"
      },
      "execution_count": 196,
      "outputs": [
        {
          "output_type": "stream",
          "name": "stdout",
          "text": [
            "[0.04047892]\n",
            "[0.04166268]\n",
            "[0.11298352]\n",
            "[0.11628758]\n",
            "[0.16377596]\n"
          ]
        },
        {
          "output_type": "execute_result",
          "data": {
            "text/plain": [
              "[h00, h10, 0, h00, h10, 0]"
            ]
          },
          "metadata": {},
          "execution_count": 196
        }
      ]
    },
    {
      "cell_type": "code",
      "source": [
        "print(h2[0], h2[1,0], h[0,0], h[1,0])"
      ],
      "metadata": {
        "colab": {
          "base_uri": "https://localhost:8080/"
        },
        "id": "VfGwRkiYJXGN",
        "outputId": "598c5b26-85b2-42bd-f099-20ee63fa513d"
      },
      "execution_count": 188,
      "outputs": [
        {
          "output_type": "stream",
          "name": "stdout",
          "text": [
            "[0.86103399] 0.7587912922319807 0.9370266439430035 0.9644288107273639\n"
          ]
        }
      ]
    },
    {
      "cell_type": "code",
      "source": [
        "list_mul"
      ],
      "metadata": {
        "colab": {
          "base_uri": "https://localhost:8080/"
        },
        "id": "kk8lQI36Ij6i",
        "outputId": "fd78845c-58c0-4e52-e9cf-f1433ce2b5cc"
      },
      "execution_count": 180,
      "outputs": [
        {
          "output_type": "execute_result",
          "data": {
            "text/plain": [
              "[b0 + h00*w00 + h10*w01, b1 + h00*w10 + h10*w11]"
            ]
          },
          "metadata": {},
          "execution_count": 180
        }
      ]
    },
    {
      "cell_type": "code",
      "source": [
        "list_mul[0]"
      ],
      "metadata": {
        "id": "qzdr4r3kYWL-",
        "colab": {
          "base_uri": "https://localhost:8080/",
          "height": 38
        },
        "outputId": "aa2edab0-2f65-4810-ac0e-559732171629"
      },
      "execution_count": 153,
      "outputs": [
        {
          "output_type": "execute_result",
          "data": {
            "text/plain": [
              "b0 + h00*w00 + h10*w01"
            ],
            "text/latex": "$\\displaystyle b_{0} + h_{00} w_{00} + h_{10} w_{01}$"
          },
          "metadata": {},
          "execution_count": 153
        }
      ]
    },
    {
      "cell_type": "code",
      "source": [
        "list_mul[1]"
      ],
      "metadata": {
        "id": "s9_8XcJf1nWO"
      },
      "execution_count": null,
      "outputs": []
    },
    {
      "cell_type": "code",
      "source": [
        "fprime = Derivative(list_mul[0], 'w00').doit()\n",
        "fprime"
      ],
      "metadata": {
        "id": "q-eDOXQA8gn6"
      },
      "execution_count": null,
      "outputs": []
    },
    {
      "cell_type": "code",
      "source": [
        "bw41 = (h2[0]-target[0,0]) * (h2[0]*(1-h2[0])) * h[0]\n",
        "bw41"
      ],
      "metadata": {
        "id": "MqydW3GwbZHn"
      },
      "execution_count": null,
      "outputs": []
    },
    {
      "cell_type": "code",
      "source": [
        "bw42 = (h2[1]-target[0,1]) * (h2[1]*(1-h2[1])) * h[0]\n",
        "bw42"
      ],
      "metadata": {
        "id": "Wz5xBz2pbjgy"
      },
      "execution_count": null,
      "outputs": []
    },
    {
      "cell_type": "code",
      "source": [
        "bw51 = (h2[0]-target[0,0]) * (h2[0]*(1-h2[0])) * h[1]\n",
        "bw51"
      ],
      "metadata": {
        "id": "IURqIGImbpWC"
      },
      "execution_count": null,
      "outputs": []
    },
    {
      "cell_type": "code",
      "source": [
        "bw52 = (h2[1]-target[0,1]) * (h2[1]*(1-h2[1])) * h[1]\n",
        "bw52"
      ],
      "metadata": {
        "id": "ouJryCUacdKE"
      },
      "execution_count": null,
      "outputs": []
    },
    {
      "cell_type": "code",
      "source": [
        "bb2 = (h2[0]-target[0,0]) * (h2[0]*(1-h2[0])) * 1 + (h2[1]-target[0,1]) * (h2[1]*(1-h2[1])) * 1\n",
        "bb2"
      ],
      "metadata": {
        "id": "C9AcphpqdBK0"
      },
      "execution_count": null,
      "outputs": []
    },
    {
      "cell_type": "markdown",
      "source": [
        "은닉층에서 입력층으로 거슬러 올라가는 계산"
      ],
      "metadata": {
        "id": "mjgAwfPDfLT9"
      }
    },
    {
      "cell_type": "code",
      "source": [],
      "metadata": {
        "id": "fAmYgLW5e-ko"
      },
      "execution_count": null,
      "outputs": []
    }
  ]
}