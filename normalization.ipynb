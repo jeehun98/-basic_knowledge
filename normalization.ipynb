{
  "nbformat": 4,
  "nbformat_minor": 0,
  "metadata": {
    "colab": {
      "provenance": [],
      "collapsed_sections": []
    },
    "kernelspec": {
      "name": "python3",
      "display_name": "Python 3"
    },
    "language_info": {
      "name": "python"
    }
  },
  "cells": [
    {
      "cell_type": "code",
      "execution_count": 1,
      "metadata": {
        "id": "VSrbD3_HyyWP"
      },
      "outputs": [],
      "source": [
        "from sklearn import datasets\n",
        "\n",
        "raw_wine = datasets.load_wine()"
      ]
    },
    {
      "cell_type": "code",
      "source": [
        "X = raw_wine.data\n",
        "y = raw_wine.target"
      ],
      "metadata": {
        "id": "76thRwkD4Km_"
      },
      "execution_count": 2,
      "outputs": []
    },
    {
      "cell_type": "markdown",
      "source": [
        "데이터 분할, 표준화"
      ],
      "metadata": {
        "id": "wrxu7UXS5M9q"
      }
    },
    {
      "cell_type": "code",
      "source": [
        "import numpy as np"
      ],
      "metadata": {
        "id": "jDRtXvxNn7Jz"
      },
      "execution_count": 3,
      "outputs": []
    },
    {
      "cell_type": "code",
      "source": [
        "from sklearn.model_selection import train_test_split\n",
        "\n",
        "X_tn, X_te, y_tn, y_te = train_test_split(X, y, random_state=1)"
      ],
      "metadata": {
        "id": "iZ3QwQzv4xRs"
      },
      "execution_count": 4,
      "outputs": []
    },
    {
      "cell_type": "code",
      "source": [
        "from sklearn.preprocessing import StandardScaler\n",
        "\n",
        "std_scale = StandardScaler()\n",
        "std_scale.fit(X_tn)\n",
        "X_tn_std = std_scale.transform(X_tn)\n",
        "X_te_std = std_scale.transform(X_te)"
      ],
      "metadata": {
        "id": "O69_nX2u4hFI"
      },
      "execution_count": 5,
      "outputs": []
    },
    {
      "cell_type": "code",
      "source": [
        "X"
      ],
      "metadata": {
        "colab": {
          "base_uri": "https://localhost:8080/"
        },
        "id": "AdrHWOQY-Fzj",
        "outputId": "1b6acec4-d1f4-4084-f27b-d7bf1f697477"
      },
      "execution_count": 27,
      "outputs": [
        {
          "output_type": "execute_result",
          "data": {
            "text/plain": [
              "array([[1.423e+01, 1.710e+00, 2.430e+00, ..., 1.040e+00, 3.920e+00,\n",
              "        1.065e+03],\n",
              "       [1.320e+01, 1.780e+00, 2.140e+00, ..., 1.050e+00, 3.400e+00,\n",
              "        1.050e+03],\n",
              "       [1.316e+01, 2.360e+00, 2.670e+00, ..., 1.030e+00, 3.170e+00,\n",
              "        1.185e+03],\n",
              "       ...,\n",
              "       [1.327e+01, 4.280e+00, 2.260e+00, ..., 5.900e-01, 1.560e+00,\n",
              "        8.350e+02],\n",
              "       [1.317e+01, 2.590e+00, 2.370e+00, ..., 6.000e-01, 1.620e+00,\n",
              "        8.400e+02],\n",
              "       [1.413e+01, 4.100e+00, 2.740e+00, ..., 6.100e-01, 1.600e+00,\n",
              "        5.600e+02]])"
            ]
          },
          "metadata": {},
          "execution_count": 27
        }
      ]
    },
    {
      "cell_type": "code",
      "source": [
        "x_mean = np.mean(X, axis=0).reshape(1,-1)\n",
        "x_mean"
      ],
      "metadata": {
        "colab": {
          "base_uri": "https://localhost:8080/"
        },
        "id": "NIbxYrROqSN0",
        "outputId": "d7039b18-ab65-492b-b414-c4f6abc8e584"
      },
      "execution_count": 29,
      "outputs": [
        {
          "output_type": "execute_result",
          "data": {
            "text/plain": [
              "array([[1.30006180e+01, 2.33634831e+00, 2.36651685e+00, 1.94949438e+01,\n",
              "        9.97415730e+01, 2.29511236e+00, 2.02926966e+00, 3.61853933e-01,\n",
              "        1.59089888e+00, 5.05808988e+00, 9.57449438e-01, 2.61168539e+00,\n",
              "        7.46893258e+02]])"
            ]
          },
          "metadata": {},
          "execution_count": 29
        }
      ]
    },
    {
      "cell_type": "code",
      "source": [
        "x_deviation = X - x_mean\n",
        "x_deviation"
      ],
      "metadata": {
        "colab": {
          "base_uri": "https://localhost:8080/"
        },
        "id": "CskSv3U45Suu",
        "outputId": "d66fc29a-28ec-491f-decd-2a76eea6d6bb"
      },
      "execution_count": 33,
      "outputs": [
        {
          "output_type": "execute_result",
          "data": {
            "text/plain": [
              "array([[ 1.22938202e+00, -6.26348315e-01,  6.34831461e-02, ...,\n",
              "         8.25505618e-02,  1.30831461e+00,  3.18106742e+02],\n",
              "       [ 1.99382022e-01, -5.56348315e-01, -2.26516854e-01, ...,\n",
              "         9.25505618e-02,  7.88314607e-01,  3.03106742e+02],\n",
              "       [ 1.59382022e-01,  2.36516854e-02,  3.03483146e-01, ...,\n",
              "         7.25505618e-02,  5.58314607e-01,  4.38106742e+02],\n",
              "       ...,\n",
              "       [ 2.69382022e-01,  1.94365169e+00, -1.06516854e-01, ...,\n",
              "        -3.67449438e-01, -1.05168539e+00,  8.81067416e+01],\n",
              "       [ 1.69382022e-01,  2.53651685e-01,  3.48314607e-03, ...,\n",
              "        -3.57449438e-01, -9.91685393e-01,  9.31067416e+01],\n",
              "       [ 1.12938202e+00,  1.76365169e+00,  3.73483146e-01, ...,\n",
              "        -3.47449438e-01, -1.01168539e+00, -1.86893258e+02]])"
            ]
          },
          "metadata": {},
          "execution_count": 33
        }
      ]
    },
    {
      "cell_type": "code",
      "source": [
        "np.mean(x_deviation, axis=0).reshape(1,-1)"
      ],
      "metadata": {
        "colab": {
          "base_uri": "https://localhost:8080/"
        },
        "id": "Yd-Ylwkr5vp7",
        "outputId": "b8a08ad6-e92e-4b0a-9ffa-6cf1b9bdf418"
      },
      "execution_count": 32,
      "outputs": [
        {
          "output_type": "execute_result",
          "data": {
            "text/plain": [
              "array([[ 6.31704427e-15,  2.94396218e-16, -1.11521279e-15,\n",
              "         2.47492414e-15, -8.14329877e-15, -8.48260288e-17,\n",
              "         9.14374693e-16, -5.42637096e-17, -1.06781001e-15,\n",
              "        -5.48874304e-16,  4.26625027e-16,  1.43455784e-15,\n",
              "        -2.52282589e-13]])"
            ]
          },
          "metadata": {},
          "execution_count": 32
        }
      ]
    },
    {
      "cell_type": "code",
      "source": [
        "np.var(X[:,0])"
      ],
      "metadata": {
        "colab": {
          "base_uri": "https://localhost:8080/"
        },
        "id": "WDi1voiT7S0f",
        "outputId": "556bb855-a14c-4e9b-ebbe-8cf7b9777604"
      },
      "execution_count": 35,
      "outputs": [
        {
          "output_type": "execute_result",
          "data": {
            "text/plain": [
              "0.6553597304633255"
            ]
          },
          "metadata": {},
          "execution_count": 35
        }
      ]
    },
    {
      "cell_type": "code",
      "source": [
        "np.var(X[:,0])**(0.5)"
      ],
      "metadata": {
        "colab": {
          "base_uri": "https://localhost:8080/"
        },
        "id": "wTbON7Tn-2T2",
        "outputId": "f66a1837-9dfd-46df-e62c-7332091e78a9"
      },
      "execution_count": 37,
      "outputs": [
        {
          "output_type": "execute_result",
          "data": {
            "text/plain": [
              "0.8095429145285168"
            ]
          },
          "metadata": {},
          "execution_count": 37
        }
      ]
    },
    {
      "cell_type": "code",
      "source": [
        "a = x_deviation[:,0]/np.var(X[:,0])**(0.5)"
      ],
      "metadata": {
        "id": "fIAfndVb_DOc"
      },
      "execution_count": 39,
      "outputs": []
    },
    {
      "cell_type": "code",
      "source": [
        "np.mean(a)"
      ],
      "metadata": {
        "colab": {
          "base_uri": "https://localhost:8080/"
        },
        "id": "SWF5L-Ad_Owy",
        "outputId": "7047929f-bba4-48c1-c38b-3f623e3e7bc7"
      },
      "execution_count": 40,
      "outputs": [
        {
          "output_type": "execute_result",
          "data": {
            "text/plain": [
              "7.903789982050553e-15"
            ]
          },
          "metadata": {},
          "execution_count": 40
        }
      ]
    },
    {
      "cell_type": "code",
      "source": [
        "np.var(a)"
      ],
      "metadata": {
        "colab": {
          "base_uri": "https://localhost:8080/"
        },
        "id": "03yfNu7t_Tg9",
        "outputId": "d451603f-4832-4157-a6a3-e363ccbe6904"
      },
      "execution_count": 41,
      "outputs": [
        {
          "output_type": "execute_result",
          "data": {
            "text/plain": [
              "1.0"
            ]
          },
          "metadata": {},
          "execution_count": 41
        }
      ]
    },
    {
      "cell_type": "code",
      "source": [],
      "metadata": {
        "id": "e38ovs-T_VQ3"
      },
      "execution_count": null,
      "outputs": []
    }
  ]
}