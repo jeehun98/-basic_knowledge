{
  "nbformat": 4,
  "nbformat_minor": 0,
  "metadata": {
    "colab": {
      "provenance": []
    },
    "kernelspec": {
      "name": "python3",
      "display_name": "Python 3"
    },
    "language_info": {
      "name": "python"
    }
  },
  "cells": [
    {
      "cell_type": "code",
      "execution_count": 1,
      "metadata": {
        "id": "vvup9-CeTLs6"
      },
      "outputs": [],
      "source": [
        "import numpy as np"
      ]
    },
    {
      "cell_type": "code",
      "source": [
        "class order_fitting:\n",
        "  \"\"\"\n",
        "  다항식의 차수를 입력받고, 그 차수에 대한 연산 수행\n",
        "  \"\"\"\n",
        "  w = 0\n",
        "  result = 0\n",
        "\n",
        "  # 각 차수에 대한 임의의 가중치 생성\n",
        "  def order_fitting(self, m, x):\n",
        "    w = np.random.rand(m+1,1)\n",
        "    self.w = w\n",
        "\n",
        "    order = 0\n",
        "    result = 0\n",
        "  \n",
        "    for i in (w):\n",
        "      result = i * order*x\n",
        "      order += 1\n",
        "\n",
        "    self.result = result\n",
        "\n",
        "    return result\n",
        "\n",
        "  def order_fitting_regularization(self, predict, target, n, lambda_1):\n",
        "    w_n = 1\n",
        "    for i in range(0,n):\n",
        "      w_n = w_n * self.w\n",
        "\n",
        "    result = 1/2 * ((predict-target)**2) + lambda_1/2 * w_n\n",
        "    self.result = result\n",
        "\n",
        "    return result"
      ],
      "metadata": {
        "id": "4xflXmjBUmm8"
      },
      "execution_count": null,
      "outputs": []
    },
    {
      "cell_type": "code",
      "source": [
        "class error:\n",
        "  e_w = 0\n",
        "  \n",
        "  def squre_error(self, target, predict):\n",
        "    self.e_w = 1/2*(predict-target)**2\n",
        "    return self.e_w\n",
        "\n",
        "  def root_mean_square_error(self, target, predict):\n",
        "    self.e_w = (((predict-target)**2)/target.shape[0])**1/2\n",
        "    return self.e_w"
      ],
      "metadata": {
        "id": "FLyMCRSZUo-z"
      },
      "execution_count": null,
      "outputs": []
    }
  ]
}