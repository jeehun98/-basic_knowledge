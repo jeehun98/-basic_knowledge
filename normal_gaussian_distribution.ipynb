{
  "nbformat": 4,
  "nbformat_minor": 0,
  "metadata": {
    "colab": {
      "provenance": [],
      "collapsed_sections": []
    },
    "kernelspec": {
      "name": "python3",
      "display_name": "Python 3"
    },
    "language_info": {
      "name": "python"
    }
  },
  "cells": [
    {
      "cell_type": "markdown",
      "source": [
        "정규 분포 / 가우시안 분포\n"
      ],
      "metadata": {
        "id": "UeeRIj069hE5"
      }
    },
    {
      "cell_type": "code",
      "execution_count": 4,
      "metadata": {
        "id": "6WtFwCLM9gTv"
      },
      "outputs": [],
      "source": [
        "import numpy as np\n",
        "import matplotlib.pyplot as plt"
      ]
    },
    {
      "cell_type": "markdown",
      "source": [
        "정규분포의 무작위 샘플 생성"
      ],
      "metadata": {
        "id": "SYhc1mvIfUnq"
      }
    },
    {
      "cell_type": "code",
      "source": [
        "x = np.random.normal(0, 5, 1000)"
      ],
      "metadata": {
        "id": "lcvPRl3I9uW0"
      },
      "execution_count": 5,
      "outputs": []
    },
    {
      "cell_type": "code",
      "source": [
        "x.shape"
      ],
      "metadata": {
        "colab": {
          "base_uri": "https://localhost:8080/"
        },
        "id": "NJyVKBlw9xN7",
        "outputId": "401927ad-8e5e-46e7-c763-91113147dd1e"
      },
      "execution_count": 6,
      "outputs": [
        {
          "output_type": "execute_result",
          "data": {
            "text/plain": [
              "(1000,)"
            ]
          },
          "metadata": {},
          "execution_count": 6
        }
      ]
    },
    {
      "cell_type": "markdown",
      "source": [
        "평균 계산"
      ],
      "metadata": {
        "id": "eyWlf95FfokL"
      }
    },
    {
      "cell_type": "code",
      "source": [
        "mean = np.mean(x)\n",
        "mean"
      ],
      "metadata": {
        "colab": {
          "base_uri": "https://localhost:8080/"
        },
        "id": "UNmxhe9Bfn4U",
        "outputId": "fdd94528-eae8-4f81-d740-5af8de0d755b"
      },
      "execution_count": 8,
      "outputs": [
        {
          "output_type": "execute_result",
          "data": {
            "text/plain": [
              "-0.12230003794075313"
            ]
          },
          "metadata": {},
          "execution_count": 8
        }
      ]
    },
    {
      "cell_type": "markdown",
      "source": [
        "분산 계산"
      ],
      "metadata": {
        "id": "rnyRCaqBf1eN"
      }
    },
    {
      "cell_type": "code",
      "source": [
        "sigma = np.std(x, dtype = np.float64)\n",
        "sigma"
      ],
      "metadata": {
        "colab": {
          "base_uri": "https://localhost:8080/"
        },
        "id": "a5xAOHqJf0G5",
        "outputId": "1447221d-7ca3-4993-b609-76d57a6b28f8"
      },
      "execution_count": 11,
      "outputs": [
        {
          "output_type": "execute_result",
          "data": {
            "text/plain": [
              "4.936266032389814"
            ]
          },
          "metadata": {},
          "execution_count": 11
        }
      ]
    },
    {
      "cell_type": "markdown",
      "source": [
        "가우스 분포 계산"
      ],
      "metadata": {
        "id": "ugu97301g-JF"
      }
    },
    {
      "cell_type": "code",
      "source": [
        "def gaussian(x, mean, sigma):\n",
        "  return (1/np.sqrt(2*np.pi * sigma**2)) * np.exp(-(x-mean)**2 / (2*sigma**2))"
      ],
      "metadata": {
        "id": "OzZj0UVw9zEn"
      },
      "execution_count": 13,
      "outputs": []
    },
    {
      "cell_type": "code",
      "source": [
        "import scipy.stats as st\n",
        "\n",
        "plt.plot(x, st.norm.pdf(x, loc=0, scale=1), 'r+')"
      ],
      "metadata": {
        "colab": {
          "base_uri": "https://localhost:8080/",
          "height": 283
        },
        "id": "b4doOku7gfs0",
        "outputId": "5bbee88c-f636-4463-8f62-e341e600f52c"
      },
      "execution_count": 17,
      "outputs": [
        {
          "output_type": "execute_result",
          "data": {
            "text/plain": [
              "[<matplotlib.lines.Line2D at 0x7fd1c2dee090>]"
            ]
          },
          "metadata": {},
          "execution_count": 17
        },
        {
          "output_type": "display_data",
          "data": {
            "text/plain": [
              "<Figure size 432x288 with 1 Axes>"
            ],
            "image/png": "[encoded data removed]"
          },
          "metadata": {
            "needs_background": "light"
          }
        }
      ]
    },
    {
      "cell_type": "code",
      "source": [],
      "metadata": {
        "id": "ysHcH7wphfhA"
      },
      "execution_count": null,
      "outputs": []
    }
  ]
}