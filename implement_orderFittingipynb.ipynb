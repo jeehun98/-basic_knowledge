{
  "nbformat": 4,
  "nbformat_minor": 0,
  "metadata": {
    "colab": {
      "provenance": []
    },
    "kernelspec": {
      "name": "python3",
      "display_name": "Python 3"
    },
    "language_info": {
      "name": "python"
    }
  },
  "cells": [
    {
      "cell_type": "code",
      "execution_count": 1,
      "metadata": {
        "id": "5BCjeLw7Otiq"
      },
      "outputs": [],
      "source": [
        "import numpy as np"
      ]
    },
    {
      "cell_type": "code",
      "source": [
        "def order_fitting(m, x):\n",
        "  \"\"\"\n",
        "  다항식의 차수를 입력받고, 그 차수에 대한 연산 수행\n",
        "  \"\"\"\n",
        "  # 각 차수에 대한 임의의 가중치 생성\n",
        "  w = np.random.rand(m+1,1)\n",
        "\n",
        "  order = 0\n",
        "  result = 0\n",
        "  \n",
        "  for i in (w):\n",
        "    result = i * order*x\n",
        "    order += 1\n",
        "\n",
        "  return result"
      ],
      "metadata": {
        "id": "lBt9p04JP5IP"
      },
      "execution_count": 14,
      "outputs": []
    },
    {
      "cell_type": "code",
      "source": [
        "order_fitting(4,3)"
      ],
      "metadata": {
        "colab": {
          "base_uri": "https://localhost:8080/"
        },
        "id": "6kwv_mgJQGM4",
        "outputId": "a2d397b8-fdb4-4cb9-84e2-823fdc1e02ce"
      },
      "execution_count": 16,
      "outputs": [
        {
          "output_type": "execute_result",
          "data": {
            "text/plain": [
              "array([9.02649406])"
            ]
          },
          "metadata": {},
          "execution_count": 16
        }
      ]
    },
    {
      "cell_type": "code",
      "source": [],
      "metadata": {
        "id": "p5IPQriVRYNh"
      },
      "execution_count": null,
      "outputs": []
    }
  ]
}