{
  "nbformat": 4,
  "nbformat_minor": 0,
  "metadata": {
    "colab": {
      "provenance": []
    },
    "kernelspec": {
      "name": "python3",
      "display_name": "Python 3"
    },
    "language_info": {
      "name": "python"
    }
  },
  "cells": [
    {
      "cell_type": "code",
      "execution_count": 1,
      "metadata": {
        "id": "yX2a3cj80_-z"
      },
      "outputs": [],
      "source": [
        "import numpy as np"
      ]
    },
    {
      "cell_type": "code",
      "source": [
        "a = np.zeros((700))"
      ],
      "metadata": {
        "id": "Gmm54t5p1Ovn"
      },
      "execution_count": 2,
      "outputs": []
    },
    {
      "cell_type": "code",
      "source": [
        "b = np.ones((300))"
      ],
      "metadata": {
        "id": "66edtPmB2ajq"
      },
      "execution_count": 3,
      "outputs": []
    },
    {
      "cell_type": "code",
      "source": [
        "data = np.concatenate((a,b))"
      ],
      "metadata": {
        "id": "qDFBp2202haq"
      },
      "execution_count": 4,
      "outputs": []
    },
    {
      "cell_type": "code",
      "source": [
        "def bootstapping(data, ratio):\n",
        "  a, b = np.unique(data, return_counts=True)\n",
        "  train_count = b * ratio\n",
        "  label_data = []\n",
        "  train_data = []\n",
        "  test_data = []\n",
        "  for i in range(0, a.shape[0]):\n",
        "    label_data.append(data[data == a[i]])\n",
        "\n",
        "    #각 레이블 별 데이터 세트 개수\n",
        "    data_size = int(len(label_data[i]) * ratio)\n",
        "\n",
        "    label_data_np = np.array(label_data[i])\n",
        "\n",
        "    for j in range(0, data_size):\n",
        "      rand_int = np.random.randint(0,data_size)\n",
        "      train_data.append(label_data_np[rand_int])\n",
        "    \n",
        "    for j in range(0, label_data_np.shape[0]):\n",
        "      test_data.append(label_data_np[j])\n",
        "\n",
        "  return train_data, test_data"
      ],
      "metadata": {
        "id": "4IW32YA8mdoC"
      },
      "execution_count": null,
      "outputs": []
    }
  ]
}