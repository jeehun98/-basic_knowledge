{
  "nbformat": 4,
  "nbformat_minor": 0,
  "metadata": {
    "colab": {
      "provenance": []
    },
    "kernelspec": {
      "name": "python3",
      "display_name": "Python 3"
    },
    "language_info": {
      "name": "python"
    }
  },
  "cells": [
    {
      "cell_type": "code",
      "execution_count": 1,
      "metadata": {
        "id": "yX2a3cj80_-z"
      },
      "outputs": [],
      "source": [
        "import numpy as np"
      ]
    },
    {
      "cell_type": "code",
      "source": [
        "a = np.zeros((70))\n",
        "a"
      ],
      "metadata": {
        "colab": {
          "base_uri": "https://localhost:8080/"
        },
        "id": "Gmm54t5p1Ovn",
        "outputId": "907b2645-8061-4fc4-d619-c3043ca74752"
      },
      "execution_count": 2,
      "outputs": [
        {
          "output_type": "execute_result",
          "data": {
            "text/plain": [
              "array([0., 0., 0., 0., 0., 0., 0., 0., 0., 0., 0., 0., 0., 0., 0., 0., 0.,\n",
              "       0., 0., 0., 0., 0., 0., 0., 0., 0., 0., 0., 0., 0., 0., 0., 0., 0.,\n",
              "       0., 0., 0., 0., 0., 0., 0., 0., 0., 0., 0., 0., 0., 0., 0., 0., 0.,\n",
              "       0., 0., 0., 0., 0., 0., 0., 0., 0., 0., 0., 0., 0., 0., 0., 0., 0.,\n",
              "       0., 0.])"
            ]
          },
          "metadata": {},
          "execution_count": 2
        }
      ]
    },
    {
      "cell_type": "code",
      "source": [
        "b = np.ones((30))\n",
        "b"
      ],
      "metadata": {
        "colab": {
          "base_uri": "https://localhost:8080/"
        },
        "id": "66edtPmB2ajq",
        "outputId": "439a4879-5c94-4c1c-a215-cbf90da8a082"
      },
      "execution_count": 3,
      "outputs": [
        {
          "output_type": "execute_result",
          "data": {
            "text/plain": [
              "array([1., 1., 1., 1., 1., 1., 1., 1., 1., 1., 1., 1., 1., 1., 1., 1., 1.,\n",
              "       1., 1., 1., 1., 1., 1., 1., 1., 1., 1., 1., 1., 1.])"
            ]
          },
          "metadata": {},
          "execution_count": 3
        }
      ]
    },
    {
      "cell_type": "code",
      "source": [
        "data = np.concatenate((a,b))\n",
        "data"
      ],
      "metadata": {
        "colab": {
          "base_uri": "https://localhost:8080/"
        },
        "id": "qDFBp2202haq",
        "outputId": "624544be-4346-47cc-a1c0-20457d006f65"
      },
      "execution_count": 4,
      "outputs": [
        {
          "output_type": "execute_result",
          "data": {
            "text/plain": [
              "array([0., 0., 0., 0., 0., 0., 0., 0., 0., 0., 0., 0., 0., 0., 0., 0., 0.,\n",
              "       0., 0., 0., 0., 0., 0., 0., 0., 0., 0., 0., 0., 0., 0., 0., 0., 0.,\n",
              "       0., 0., 0., 0., 0., 0., 0., 0., 0., 0., 0., 0., 0., 0., 0., 0., 0.,\n",
              "       0., 0., 0., 0., 0., 0., 0., 0., 0., 0., 0., 0., 0., 0., 0., 0., 0.,\n",
              "       0., 0., 1., 1., 1., 1., 1., 1., 1., 1., 1., 1., 1., 1., 1., 1., 1.,\n",
              "       1., 1., 1., 1., 1., 1., 1., 1., 1., 1., 1., 1., 1., 1., 1.])"
            ]
          },
          "metadata": {},
          "execution_count": 4
        }
      ]
    },
    {
      "cell_type": "code",
      "source": [
        "data.shape[0]"
      ],
      "metadata": {
        "colab": {
          "base_uri": "https://localhost:8080/"
        },
        "id": "AWKZLO075WPg",
        "outputId": "fe1d9aa1-1ea4-4a79-a642-ea2c33ffec16"
      },
      "execution_count": 5,
      "outputs": [
        {
          "output_type": "execute_result",
          "data": {
            "text/plain": [
              "100"
            ]
          },
          "metadata": {},
          "execution_count": 5
        }
      ]
    },
    {
      "cell_type": "code",
      "source": [
        "data[99]"
      ],
      "metadata": {
        "colab": {
          "base_uri": "https://localhost:8080/"
        },
        "id": "UTcYqTzYJsKN",
        "outputId": "dc04a91a-4990-4712-8a3c-44dbfb063bc4"
      },
      "execution_count": 6,
      "outputs": [
        {
          "output_type": "execute_result",
          "data": {
            "text/plain": [
              "1.0"
            ]
          },
          "metadata": {},
          "execution_count": 6
        }
      ]
    },
    {
      "cell_type": "code",
      "source": [
        "for i in range(0,int(data.shape[0]*0.7)):\n",
        "  print(np.random.randint(0,int(data.shape[0]*0.7)-i), int(data.shape[0]*0.7)-i)"
      ],
      "metadata": {
        "id": "Q27vb4Is_Lgc",
        "colab": {
          "base_uri": "https://localhost:8080/"
        },
        "outputId": "d5cbd352-622f-48d9-ea32-63e67c052cf7"
      },
      "execution_count": 7,
      "outputs": [
        {
          "output_type": "stream",
          "name": "stdout",
          "text": [
            "58 70\n",
            "58 69\n",
            "23 68\n",
            "29 67\n",
            "44 66\n",
            "53 65\n",
            "10 64\n",
            "11 63\n",
            "18 62\n",
            "40 61\n",
            "57 60\n",
            "19 59\n",
            "54 58\n",
            "43 57\n",
            "26 56\n",
            "5 55\n",
            "36 54\n",
            "28 53\n",
            "17 52\n",
            "33 51\n",
            "14 50\n",
            "17 49\n",
            "36 48\n",
            "30 47\n",
            "30 46\n",
            "39 45\n",
            "5 44\n",
            "32 43\n",
            "6 42\n",
            "39 41\n",
            "26 40\n",
            "12 39\n",
            "32 38\n",
            "18 37\n",
            "1 36\n",
            "34 35\n",
            "5 34\n",
            "27 33\n",
            "2 32\n",
            "19 31\n",
            "13 30\n",
            "26 29\n",
            "4 28\n",
            "4 27\n",
            "23 26\n",
            "16 25\n",
            "16 24\n",
            "4 23\n",
            "6 22\n",
            "18 21\n",
            "4 20\n",
            "8 19\n",
            "2 18\n",
            "10 17\n",
            "3 16\n",
            "2 15\n",
            "4 14\n",
            "4 13\n",
            "2 12\n",
            "0 11\n",
            "5 10\n",
            "0 9\n",
            "7 8\n",
            "0 7\n",
            "0 6\n",
            "2 5\n",
            "1 4\n",
            "1 3\n",
            "0 2\n",
            "0 1\n"
          ]
        }
      ]
    },
    {
      "cell_type": "code",
      "source": [
        "def data_division(data, ratio):\n",
        "  train_data = []\n",
        "  data_size = data.shape[0]\n",
        "  for i in range(0,int(data_size*ratio)):\n",
        "    rand_int = np.random.randint(0,data_size-i)\n",
        "    train_data.append(data[rand_int])\n",
        "    data = np.delete(data, rand_int)\n",
        "\n",
        "  test_data = data\n",
        "\n",
        "  return np.array(train_data), np.array(test_data)"
      ],
      "metadata": {
        "id": "T4K6iHvNIavT"
      },
      "execution_count": 8,
      "outputs": []
    },
    {
      "cell_type": "code",
      "source": [
        "train_data, test_data = data_division(data, 0.7)"
      ],
      "metadata": {
        "id": "IY3nub7E_uIu"
      },
      "execution_count": 9,
      "outputs": []
    },
    {
      "cell_type": "code",
      "source": [
        "train_data"
      ],
      "metadata": {
        "colab": {
          "base_uri": "https://localhost:8080/"
        },
        "id": "SZWfV_bGJUw2",
        "outputId": "6a101ed5-6bfd-45a6-faa7-dfc16ead8209"
      },
      "execution_count": 10,
      "outputs": [
        {
          "output_type": "execute_result",
          "data": {
            "text/plain": [
              "array([0., 0., 0., 0., 0., 0., 0., 0., 0., 0., 0., 0., 1., 1., 1., 1., 0.,\n",
              "       0., 0., 0., 0., 1., 1., 1., 1., 0., 0., 0., 0., 0., 0., 0., 0., 1.,\n",
              "       0., 0., 0., 1., 0., 0., 0., 0., 0., 1., 0., 0., 0., 0., 1., 1., 1.,\n",
              "       0., 0., 0., 0., 1., 0., 0., 0., 1., 0., 0., 1., 1., 0., 0., 0., 0.,\n",
              "       1., 0.])"
            ]
          },
          "metadata": {},
          "execution_count": 10
        }
      ]
    },
    {
      "cell_type": "code",
      "source": [
        "test_data"
      ],
      "metadata": {
        "colab": {
          "base_uri": "https://localhost:8080/"
        },
        "id": "dwmU-LMBKIet",
        "outputId": "aea7ee2e-180d-4e1a-9a3d-ad044c36bee6"
      },
      "execution_count": 11,
      "outputs": [
        {
          "output_type": "execute_result",
          "data": {
            "text/plain": [
              "array([0., 0., 0., 0., 0., 0., 0., 0., 0., 0., 0., 0., 0., 0., 0., 0., 0.,\n",
              "       0., 0., 1., 1., 1., 1., 1., 1., 1., 1., 1., 1., 1.])"
            ]
          },
          "metadata": {},
          "execution_count": 11
        }
      ]
    },
    {
      "cell_type": "code",
      "source": [
        "def stratified(data, ratio):\n",
        "  np.unique(data)"
      ],
      "metadata": {
        "id": "-4_4B-kkKMlp"
      },
      "execution_count": 12,
      "outputs": []
    },
    {
      "cell_type": "code",
      "source": [
        "a, b = np.unique(data, return_counts=True)\n",
        "a"
      ],
      "metadata": {
        "colab": {
          "base_uri": "https://localhost:8080/"
        },
        "id": "GEMfGUgWBvcg",
        "outputId": "b04345ab-5e74-4412-9f73-96e09cdfa7d7"
      },
      "execution_count": 19,
      "outputs": [
        {
          "output_type": "execute_result",
          "data": {
            "text/plain": [
              "array([0., 1.])"
            ]
          },
          "metadata": {},
          "execution_count": 19
        }
      ]
    },
    {
      "cell_type": "code",
      "source": [
        "b"
      ],
      "metadata": {
        "colab": {
          "base_uri": "https://localhost:8080/"
        },
        "id": "FijTaqd6B5Gh",
        "outputId": "fd50d642-57ee-4f75-87cf-3d5b936d37de"
      },
      "execution_count": 17,
      "outputs": [
        {
          "output_type": "execute_result",
          "data": {
            "text/plain": [
              "array([70, 30])"
            ]
          },
          "metadata": {},
          "execution_count": 17
        }
      ]
    },
    {
      "cell_type": "code",
      "source": [
        "for i in range(0, a.shape[0]):\n",
        "  label_rate = []\n",
        "  data_count = sum(b)\n",
        "  label_rate.append(b/data_count)  "
      ],
      "metadata": {
        "id": "zptdeuevI50p"
      },
      "execution_count": 31,
      "outputs": []
    },
    {
      "cell_type": "code",
      "source": [
        "label_rate"
      ],
      "metadata": {
        "colab": {
          "base_uri": "https://localhost:8080/"
        },
        "id": "24LAE0Q7JKX9",
        "outputId": "63b6bc4b-e293-464c-b19b-49e5f3b73929"
      },
      "execution_count": 32,
      "outputs": [
        {
          "output_type": "execute_result",
          "data": {
            "text/plain": [
              "[array([0.7, 0.3])]"
            ]
          },
          "metadata": {},
          "execution_count": 32
        }
      ]
    },
    {
      "cell_type": "code",
      "source": [
        "b[0]"
      ],
      "metadata": {
        "colab": {
          "base_uri": "https://localhost:8080/"
        },
        "id": "T92GJVDsJRrb",
        "outputId": "a979fbac-0cc5-4679-bf66-f85a4b471d94"
      },
      "execution_count": 25,
      "outputs": [
        {
          "output_type": "execute_result",
          "data": {
            "text/plain": [
              "70"
            ]
          },
          "metadata": {},
          "execution_count": 25
        }
      ]
    },
    {
      "cell_type": "code",
      "source": [
        "data_0 = data[data == a[0]]\n",
        "data_0"
      ],
      "metadata": {
        "colab": {
          "base_uri": "https://localhost:8080/"
        },
        "id": "gD7RIVshJNVF",
        "outputId": "2b1d0e88-7a34-4c97-be81-d4f67bbb3d2f"
      },
      "execution_count": 34,
      "outputs": [
        {
          "output_type": "execute_result",
          "data": {
            "text/plain": [
              "array([0., 0., 0., 0., 0., 0., 0., 0., 0., 0., 0., 0., 0., 0., 0., 0., 0.,\n",
              "       0., 0., 0., 0., 0., 0., 0., 0., 0., 0., 0., 0., 0., 0., 0., 0., 0.,\n",
              "       0., 0., 0., 0., 0., 0., 0., 0., 0., 0., 0., 0., 0., 0., 0., 0., 0.,\n",
              "       0., 0., 0., 0., 0., 0., 0., 0., 0., 0., 0., 0., 0., 0., 0., 0., 0.,\n",
              "       0., 0.])"
            ]
          },
          "metadata": {},
          "execution_count": 34
        }
      ]
    },
    {
      "cell_type": "code",
      "source": [
        "def stratified(data, ratio):\n",
        "  a, b = np.unique(data, return_counts=True)\n",
        "  train_count = b * ratio\n",
        "  label_data = []\n",
        "  train_data = []\n",
        "  test_data = []\n",
        "  for i in range(0, a.shape[0]):\n",
        "    label_data.append(data[data == a[i]])\n",
        "\n",
        "    #각 레이블 별 데이터 세트 개수\n",
        "    data_size = int(len(label_data[i]) * ratio)\n",
        "\n",
        "    label_data_np = np.array(label_data[i])\n",
        "\n",
        "    for j in range(0, data_size):\n",
        "      rand_int = np.random.randint(0,data_size-j)\n",
        "      train_data.append(label_data_np[rand_int])\n",
        "      label_data_np = np.delete(label_data_np, rand_int)\n",
        "    \n",
        "    for j in range(0, label_data_np.shape[0]):\n",
        "      test_data.append(label_data_np[j])\n",
        "\n",
        "  return train_data, test_data"
      ],
      "metadata": {
        "id": "SYJYf0abK7EU"
      },
      "execution_count": 109,
      "outputs": []
    },
    {
      "cell_type": "code",
      "source": [
        "train_data, test_data = stratified(data, 0.7)"
      ],
      "metadata": {
        "id": "E3DRBGeuWfMp"
      },
      "execution_count": 110,
      "outputs": []
    },
    {
      "cell_type": "code",
      "source": [
        "len(test_data)"
      ],
      "metadata": {
        "colab": {
          "base_uri": "https://localhost:8080/"
        },
        "id": "7V0uq_9TWf8s",
        "outputId": "0bd331fd-f983-475c-b02b-eb4b62fff92f"
      },
      "execution_count": 111,
      "outputs": [
        {
          "output_type": "execute_result",
          "data": {
            "text/plain": [
              "30"
            ]
          },
          "metadata": {},
          "execution_count": 111
        }
      ]
    },
    {
      "cell_type": "code",
      "source": [
        "len(train_data)"
      ],
      "metadata": {
        "colab": {
          "base_uri": "https://localhost:8080/"
        },
        "id": "Ek8lc1t3aczB",
        "outputId": "cf3f4a43-5f49-4e06-f604-606da4dace74"
      },
      "execution_count": 112,
      "outputs": [
        {
          "output_type": "execute_result",
          "data": {
            "text/plain": [
              "70"
            ]
          },
          "metadata": {},
          "execution_count": 112
        }
      ]
    },
    {
      "cell_type": "code",
      "source": [
        "a, b = np.unique(test_data, return_counts=True)\n",
        "b"
      ],
      "metadata": {
        "colab": {
          "base_uri": "https://localhost:8080/"
        },
        "id": "6Fped6m2bl7G",
        "outputId": "51c91f32-97f2-4d58-d710-0bd1fd2f7dc3"
      },
      "execution_count": 114,
      "outputs": [
        {
          "output_type": "execute_result",
          "data": {
            "text/plain": [
              "array([21,  9])"
            ]
          },
          "metadata": {},
          "execution_count": 114
        }
      ]
    },
    {
      "cell_type": "code",
      "source": [
        "a, b = np.unique(train_data, return_counts=True)\n",
        "b"
      ],
      "metadata": {
        "colab": {
          "base_uri": "https://localhost:8080/"
        },
        "id": "icAkSjHdce32",
        "outputId": "0e0c78a3-b390-42b0-e12a-f819c74f2c67"
      },
      "execution_count": 115,
      "outputs": [
        {
          "output_type": "execute_result",
          "data": {
            "text/plain": [
              "array([49, 21])"
            ]
          },
          "metadata": {},
          "execution_count": 115
        }
      ]
    },
    {
      "cell_type": "code",
      "source": [],
      "metadata": {
        "id": "JWLm6pUcchl4"
      },
      "execution_count": null,
      "outputs": []
    }
  ]
}