{
  "nbformat": 4,
  "nbformat_minor": 0,
  "metadata": {
    "colab": {
      "provenance": []
    },
    "kernelspec": {
      "name": "python3",
      "display_name": "Python 3"
    },
    "language_info": {
      "name": "python"
    }
  },
  "cells": [
    {
      "cell_type": "code",
      "execution_count": 17,
      "metadata": {
        "id": "pOskLuZC2MB_"
      },
      "outputs": [],
      "source": [
        "import numpy as np\n",
        "from sympy import Derivative, symbols"
      ]
    },
    {
      "cell_type": "code",
      "source": [
        "a = symbols('a')\n",
        "x = symbols('x')"
      ],
      "metadata": {
        "id": "1c2BEFpZ2Tzd"
      },
      "execution_count": 18,
      "outputs": []
    },
    {
      "cell_type": "code",
      "source": [
        "fx = a*(x-1000)+10\n",
        "fx"
      ],
      "metadata": {
        "colab": {
          "base_uri": "https://localhost:8080/",
          "height": 38
        },
        "id": "WbK21DL62khO",
        "outputId": "3d841a26-90ac-454b-d77e-525798875802"
      },
      "execution_count": 19,
      "outputs": [
        {
          "output_type": "execute_result",
          "data": {
            "text/plain": [
              "a*(x - 1000) + 10"
            ],
            "text/latex": "$\\displaystyle a \\left(x - 1000\\right) + 10$"
          },
          "metadata": {},
          "execution_count": 19
        }
      ]
    },
    {
      "cell_type": "code",
      "source": [
        "fx2 = x**(1/3)"
      ],
      "metadata": {
        "id": "njp0aBba26By"
      },
      "execution_count": 20,
      "outputs": []
    },
    {
      "cell_type": "code",
      "source": [
        "fprime = Derivative(fx2, x).doit()\n",
        "fprime"
      ],
      "metadata": {
        "colab": {
          "base_uri": "https://localhost:8080/",
          "height": 51
        },
        "id": "Sy2gWpLR2k4E",
        "outputId": "6964ba4f-793f-42cd-cd8c-1f8b20b9bd96"
      },
      "execution_count": 21,
      "outputs": [
        {
          "output_type": "execute_result",
          "data": {
            "text/plain": [
              "0.333333333333333*x**(-0.666666666666667)"
            ],
            "text/latex": "$\\displaystyle \\frac{0.333333333333333}{x^{0.666666666666667}}$"
          },
          "metadata": {},
          "execution_count": 21
        }
      ]
    },
    {
      "cell_type": "code",
      "source": [
        "n = fprime.subs({x:1000})\n",
        "n"
      ],
      "metadata": {
        "colab": {
          "base_uri": "https://localhost:8080/",
          "height": 37
        },
        "id": "WX9qPo1a2okV",
        "outputId": "1b5679dc-72c5-4f9d-b002-256162921b7d"
      },
      "execution_count": 22,
      "outputs": [
        {
          "output_type": "execute_result",
          "data": {
            "text/plain": [
              "0.00333333333333333"
            ],
            "text/latex": "$\\displaystyle 0.00333333333333333$"
          },
          "metadata": {},
          "execution_count": 22
        }
      ]
    },
    {
      "cell_type": "code",
      "source": [
        "n2 = fx.subs([(a,n),(x,1001)])\n",
        "n2"
      ],
      "metadata": {
        "colab": {
          "base_uri": "https://localhost:8080/",
          "height": 37
        },
        "id": "UcswgQ-62wpd",
        "outputId": "cdbe7d17-204f-4085-8af6-9c874a2407dd"
      },
      "execution_count": 23,
      "outputs": [
        {
          "output_type": "execute_result",
          "data": {
            "text/plain": [
              "10.0033333333333"
            ],
            "text/latex": "$\\displaystyle 10.0033333333333$"
          },
          "metadata": {},
          "execution_count": 23
        }
      ]
    }
  ]
}