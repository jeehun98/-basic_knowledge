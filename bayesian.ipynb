{
  "nbformat": 4,
  "nbformat_minor": 0,
  "metadata": {
    "colab": {
      "provenance": [],
      "collapsed_sections": []
    },
    "kernelspec": {
      "name": "python3",
      "display_name": "Python 3"
    },
    "language_info": {
      "name": "python"
    }
  },
  "cells": [
    {
      "cell_type": "code",
      "execution_count": 159,
      "metadata": {
        "id": "jcuRjJVks6-S"
      },
      "outputs": [],
      "source": [
        "import numpy as np"
      ]
    },
    {
      "cell_type": "markdown",
      "source": [
        "5, 5 크기의 정수 데이터 생성"
      ],
      "metadata": {
        "id": "RyZHpz6llur5"
      }
    },
    {
      "cell_type": "code",
      "source": [
        "np.random.seed(0)\n",
        "data = np.random.randint(10, size = (5,5))\n",
        "data"
      ],
      "metadata": {
        "colab": {
          "base_uri": "https://localhost:8080/"
        },
        "id": "dJ7jKb3fiM2J",
        "outputId": "c443abc9-c6f0-458b-a0c6-380bbee633c5"
      },
      "execution_count": 160,
      "outputs": [
        {
          "output_type": "execute_result",
          "data": {
            "text/plain": [
              "array([[5, 0, 3, 3, 7],\n",
              "       [9, 3, 5, 2, 4],\n",
              "       [7, 6, 8, 8, 1],\n",
              "       [6, 7, 7, 8, 1],\n",
              "       [5, 9, 8, 9, 4]])"
            ]
          },
          "metadata": {},
          "execution_count": 160
        }
      ]
    },
    {
      "cell_type": "markdown",
      "source": [
        "각 행은 각각의 확률 분포의 등장 횟수,\n",
        "\n",
        "표본의 추출 횟수는 모든 행들의 합, N"
      ],
      "metadata": {
        "id": "Yg840Cxi2BqH"
      }
    },
    {
      "cell_type": "code",
      "source": [
        "N = np.sum(data)\n",
        "N"
      ],
      "metadata": {
        "colab": {
          "base_uri": "https://localhost:8080/"
        },
        "id": "MRUr1dYumzOY",
        "outputId": "7b86ad6f-6dc3-4891-effa-5d7de7bf3618"
      },
      "execution_count": 161,
      "outputs": [
        {
          "output_type": "execute_result",
          "data": {
            "text/plain": [
              "135"
            ]
          },
          "metadata": {},
          "execution_count": 161
        }
      ]
    },
    {
      "cell_type": "markdown",
      "source": [
        "각각의 취할 수 있는 값들에 대해서 X = xi, Y = yj 인 시도의 횟수는 data 행렬의 data[i,j] 요소"
      ],
      "metadata": {
        "id": "wc39Un9y2410"
      }
    },
    {
      "cell_type": "code",
      "source": [
        "for i in range(data.shape[0]):\n",
        "  for j in range(data.shape[1]):\n",
        "    data[i, j]"
      ],
      "metadata": {
        "id": "my5CoK4z2UF1"
      },
      "execution_count": 162,
      "outputs": []
    },
    {
      "cell_type": "markdown",
      "source": [
        "X = xi 인 시도를 x_i, Y = yj 인 시도의 숫자를 y_i로 표현한다."
      ],
      "metadata": {
        "id": "JoXuMIm13UVD"
      }
    },
    {
      "cell_type": "code",
      "source": [
        "sum_x = 0\n",
        "sum_y = 0\n",
        "\n",
        "x_i = []\n",
        "y_i = []\n",
        "\n",
        "for i in range(data.shape[0]):\n",
        "  sum_x = 0\n",
        "  sum_y = 0\n",
        "  for j in range(data.shape[1]):\n",
        "    sum_x += data[i][j]\n",
        "    sum_y += data[j][i]\n",
        "  x_i.append(sum_x)\n",
        "  y_i.append(sum_y)"
      ],
      "metadata": {
        "id": "J8mqMKd921so"
      },
      "execution_count": 163,
      "outputs": []
    },
    {
      "cell_type": "code",
      "source": [
        "x_i"
      ],
      "metadata": {
        "colab": {
          "base_uri": "https://localhost:8080/"
        },
        "id": "0QynmSLB4OTz",
        "outputId": "5745fc86-785c-4af4-b1ee-458572596c1a"
      },
      "execution_count": 164,
      "outputs": [
        {
          "output_type": "execute_result",
          "data": {
            "text/plain": [
              "[18, 23, 30, 29, 35]"
            ]
          },
          "metadata": {},
          "execution_count": 164
        }
      ]
    },
    {
      "cell_type": "code",
      "source": [
        "y_i"
      ],
      "metadata": {
        "colab": {
          "base_uri": "https://localhost:8080/"
        },
        "id": "CHoHdvor4BN_",
        "outputId": "a9050ed3-1624-4231-84bb-8a190d9dc037"
      },
      "execution_count": 165,
      "outputs": [
        {
          "output_type": "execute_result",
          "data": {
            "text/plain": [
              "[32, 25, 31, 30, 17]"
            ]
          },
          "metadata": {},
          "execution_count": 165
        }
      ]
    },
    {
      "cell_type": "markdown",
      "source": [
        "X가 xi, Y가 yj 일 확률을 p(X=xi, Y=yj) 로 적고 이를 X=xi, Y=yj 일 결합 확률이라 한다.\n",
        "\n",
        "이는 i, j 칸에 있는 포인트의 숫자를 전체 포인트들의 숫자로 나눠서 구할 수 있다."
      ],
      "metadata": {
        "id": "tc7HveTX4lIX"
      }
    },
    {
      "cell_type": "code",
      "source": [
        "def joint_probability(data, i, j):\n",
        "  \"\"\"\n",
        "  X=xi, Y=yj 일 결합 확률\n",
        "  Args:\n",
        "    data : 행렬 형태의 전체 데이터\n",
        "    i : 행의 개수\n",
        "    j : 열의 개수\n",
        "  Return\n",
        "    X=xi, Y=yj 일 결합 확률값\n",
        "  \"\"\"\n",
        "  N = np.sum(data)\n",
        "  return data[i,j]/N"
      ],
      "metadata": {
        "id": "qxFyDWZb4Quy"
      },
      "execution_count": 166,
      "outputs": []
    },
    {
      "cell_type": "code",
      "source": [
        "joint_probability(data, 1,1)"
      ],
      "metadata": {
        "colab": {
          "base_uri": "https://localhost:8080/"
        },
        "id": "0zKpRwjY5ZX4",
        "outputId": "31f42d90-cf4a-41ce-922b-34ac44d80261"
      },
      "execution_count": 167,
      "outputs": [
        {
          "output_type": "execute_result",
          "data": {
            "text/plain": [
              "0.022222222222222223"
            ]
          },
          "metadata": {},
          "execution_count": 167
        }
      ]
    },
    {
      "cell_type": "markdown",
      "source": [
        "X가 xi 값을 가질 확률도 구할 수 있다. 해당 행에 있는 포인트들의 숫자를 전체 포인트들의 숫자로 나눠서 구한다."
      ],
      "metadata": {
        "id": "bpyPHHhj6Ni5"
      }
    },
    {
      "cell_type": "code",
      "source": [
        "def joint_probability_row(data, n):\n",
        "  \"\"\"\n",
        "  n 행의 값을 가질 확률\n",
        "  Args:\n",
        "    data : 행렬 형태의 전체 데이터\n",
        "    n : 행 번호\n",
        "  Return\n",
        "    n 행의 값을 가질 확률\n",
        "  \"\"\"\n",
        "  sum = 0\n",
        "  N = np.sum(data)\n",
        "\n",
        "  for i in range(data.shape[0]):\n",
        "    sum += data[n,i]\n",
        "  return sum/N"
      ],
      "metadata": {
        "id": "VcwG8i9h5ipY"
      },
      "execution_count": 168,
      "outputs": []
    },
    {
      "cell_type": "code",
      "source": [
        "def joint_probability_col(data, n):\n",
        "  \"\"\"\n",
        "  n 열의 값을 가질 확률\n",
        "  Args:\n",
        "    data : 행렬 형태의 전체 데이터\n",
        "    n : 열 번호\n",
        "  Return\n",
        "    n 열의 값을 가질 확률\n",
        "  \"\"\"\n",
        "  sum = 0\n",
        "  N = np.sum(data)\n",
        "\n",
        "  for i in range(data.shape[0]):\n",
        "    sum += data[i,n]\n",
        "  return sum/N"
      ],
      "metadata": {
        "id": "rhd1GVscDLy7"
      },
      "execution_count": 169,
      "outputs": []
    },
    {
      "cell_type": "code",
      "source": [
        "joint_probability_row(data, 1)"
      ],
      "metadata": {
        "colab": {
          "base_uri": "https://localhost:8080/"
        },
        "id": "U7FDBIb95dBf",
        "outputId": "56b0a241-62d0-47d5-c8d9-46d65760e3c0"
      },
      "execution_count": 170,
      "outputs": [
        {
          "output_type": "execute_result",
          "data": {
            "text/plain": [
              "0.17037037037037037"
            ]
          },
          "metadata": {},
          "execution_count": 170
        }
      ]
    },
    {
      "cell_type": "markdown",
      "source": [
        "i행에 있는 사례의 숫자는 해당 행의 각 칸에 있는 사례의 숫자 합이다. 이것이 확률의 합의 법칙이다."
      ],
      "metadata": {
        "id": "iOP0AL4E6cE2"
      }
    },
    {
      "cell_type": "code",
      "source": [
        "sum = 0\n",
        "for i in range(data.shape[1]):\n",
        "  sum += joint_probability(data, 1, i)\n",
        "\n",
        "sum"
      ],
      "metadata": {
        "colab": {
          "base_uri": "https://localhost:8080/"
        },
        "id": "ub4xeSOF6hgC",
        "outputId": "c10c3df7-d4e2-4efc-e55c-64340072aa4d"
      },
      "execution_count": 171,
      "outputs": [
        {
          "output_type": "execute_result",
          "data": {
            "text/plain": [
              "0.1703703703703704"
            ]
          },
          "metadata": {},
          "execution_count": 171
        }
      ]
    },
    {
      "cell_type": "markdown",
      "source": [
        "동일한 결과를 확인할 수 있다."
      ],
      "metadata": {
        "id": "zsYF8bpZ7EJd"
      }
    },
    {
      "cell_type": "markdown",
      "source": [
        "조건부 확률 X = xi 인 사례들 중 Y = yi 인 사례들의 비율을 생각해 볼 수 있다. \n",
        "\n",
        "이를 조건부 확률이라고 한다.\n",
        "\n",
        "이 확률은 i행에 있는 전체 포인트 수와 i, j 칸에 있는 포인트 수의 비율을 통해서 계산할 수 있다."
      ],
      "metadata": {
        "id": "sXS0ecWb7GAw"
      }
    },
    {
      "cell_type": "code",
      "source": [
        "def conditional_probability(data, i, j):\n",
        "  \"\"\"\n",
        "  조건부 확률의 계산\n",
        "  Args:\n",
        "    data : \n",
        "    i : 행 \n",
        "    j : 열\n",
        "  Return :\n",
        "    조건부 확률의 계산값\n",
        "  \"\"\"\n",
        "  return joint_probability(data, i, j) / joint_probability_row(data, i)"
      ],
      "metadata": {
        "id": "XdDgoxMs6oow"
      },
      "execution_count": 172,
      "outputs": []
    },
    {
      "cell_type": "code",
      "source": [
        "conditional_probability(data, 1, 2)"
      ],
      "metadata": {
        "colab": {
          "base_uri": "https://localhost:8080/"
        },
        "id": "EF8urmGj704r",
        "outputId": "293f23a4-5ccd-4c22-ff5c-9a687c9882e8"
      },
      "execution_count": 173,
      "outputs": [
        {
          "output_type": "execute_result",
          "data": {
            "text/plain": [
              "0.21739130434782608"
            ]
          },
          "metadata": {},
          "execution_count": 173
        }
      ]
    },
    {
      "cell_type": "markdown",
      "source": [
        "이를 통해 곱의 법칙을 도출해 낼 수 있다. "
      ],
      "metadata": {
        "id": "CEz1go2s8x2H"
      }
    },
    {
      "cell_type": "code",
      "source": [
        "joint_probability(data, 1, 2)"
      ],
      "metadata": {
        "colab": {
          "base_uri": "https://localhost:8080/"
        },
        "id": "kBjBdgC7D_DS",
        "outputId": "3760da75-15c8-4856-9404-87df16516a34"
      },
      "execution_count": 174,
      "outputs": [
        {
          "output_type": "execute_result",
          "data": {
            "text/plain": [
              "0.037037037037037035"
            ]
          },
          "metadata": {},
          "execution_count": 174
        }
      ]
    },
    {
      "cell_type": "code",
      "source": [
        "conditional_probability(data, 2, 1) * joint_probability_row(data, 1)"
      ],
      "metadata": {
        "colab": {
          "base_uri": "https://localhost:8080/"
        },
        "id": "JNtrXiPA73r7",
        "outputId": "1d047c3d-16e2-496a-daef-47c3e593ddd5"
      },
      "execution_count": 175,
      "outputs": [
        {
          "output_type": "execute_result",
          "data": {
            "text/plain": [
              "0.034074074074074076"
            ]
          },
          "metadata": {},
          "execution_count": 175
        }
      ]
    },
    {
      "cell_type": "markdown",
      "source": [
        "곱의 법칙과 대칭성으로부터 조건부 확률 간의 관계를 도출해낼 수 있다."
      ],
      "metadata": {
        "id": "1haDbyS89hgb"
      }
    },
    {
      "cell_type": "code",
      "source": [
        "conditional_probability(data, 1, 2)"
      ],
      "metadata": {
        "colab": {
          "base_uri": "https://localhost:8080/"
        },
        "id": "1etC0amL88j7",
        "outputId": "759b5455-c1ea-4864-c0ea-b1a61f726d80"
      },
      "execution_count": 176,
      "outputs": [
        {
          "output_type": "execute_result",
          "data": {
            "text/plain": [
              "0.21739130434782608"
            ]
          },
          "metadata": {},
          "execution_count": 176
        }
      ]
    },
    {
      "cell_type": "code",
      "source": [
        "conditional_probability(data, 2, 1)*joint_probability_col(data, 1)/joint_probability_row(data, 2)"
      ],
      "metadata": {
        "colab": {
          "base_uri": "https://localhost:8080/"
        },
        "id": "0AvaeZKi9lzj",
        "outputId": "ea5fdd22-7826-4e83-beda-fdec80a74a84"
      },
      "execution_count": 177,
      "outputs": [
        {
          "output_type": "execute_result",
          "data": {
            "text/plain": [
              "0.16666666666666666"
            ]
          },
          "metadata": {},
          "execution_count": 177
        }
      ]
    }
  ]
}